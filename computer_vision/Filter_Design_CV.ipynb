{
  "nbformat": 4,
  "nbformat_minor": 0,
  "metadata": {
    "colab": {
      "name": "Filter Design CV.ipynb",
      "provenance": [],
      "collapsed_sections": [],
      "authorship_tag": "ABX9TyP3paNMIQAFG6CyoJ0aEvtd",
      "include_colab_link": true
    },
    "kernelspec": {
      "name": "python3",
      "display_name": "Python 3"
    }
  },
  "cells": [
    {
      "cell_type": "markdown",
      "metadata": {
        "id": "view-in-github",
        "colab_type": "text"
      },
      "source": [
        "<a href=\"https://colab.research.google.com/github/vimalkumarasamy/Algorithms_Stanford_University_Coursera/blob/master/computer_vision/Filter_Design_CV.ipynb\" target=\"_parent\"><img src=\"https://colab.research.google.com/assets/colab-badge.svg\" alt=\"Open In Colab\"/></a>"
      ]
    },
    {
      "cell_type": "code",
      "metadata": {
        "id": "_qtSkUOXw4Qz",
        "colab_type": "code",
        "colab": {}
      },
      "source": [
        "# Design a 5x5 flter which can shift image down by 2 pixels and to the left 1 pixel."
      ],
      "execution_count": 0,
      "outputs": []
    },
    {
      "cell_type": "code",
      "metadata": {
        "id": "x2NQFKIqz2br",
        "colab_type": "code",
        "colab": {}
      },
      "source": [
        "def padding(mat,value):\n",
        "  a,b=mat.shape\n",
        "  out_mat=np.zeros((a+(2*value), b+(2*value)))\n",
        "  for i in range(a):\n",
        "    for j in range(b):\n",
        "      out_mat[i+value][j+value]=mat[i][j]\n",
        "  return(out_mat)"
      ],
      "execution_count": 0,
      "outputs": []
    },
    {
      "cell_type": "code",
      "metadata": {
        "id": "29_D86gm530t",
        "colab_type": "code",
        "colab": {}
      },
      "source": [
        "import numpy as np \n",
        "import random\n",
        "N=6\n",
        "arr=np.array([[random.random()]*N for x in range(N)])\n",
        "\n",
        "F1 = np.array([[0, 0, 1, 0, 0], \n",
        "               [0, 0, 0, 0, 0],\n",
        "               [0, 0, 0, 0, 0],\n",
        "               [0, 0, 0, 0, 0],\n",
        "               [0, 0, 0, 0, 0]])\n",
        "\n",
        "def apply_filter(input_array,filter):\n",
        "  arr=input_array.copy()\n",
        "  F1=filter.copy()\n",
        "  a,b=arr.shape\n",
        "  arr_pad=padding(arr,2)\n",
        "  out_mat=np.zeros((a, b))\n",
        "  for i in range(a):\n",
        "    for j in range(b):\n",
        "      out_mat[i][j]=(np.multiply(arr_pad[i:i+5,j:j+5],F1)).sum()\n",
        "  return(out_mat)\n",
        "\n"
      ],
      "execution_count": 0,
      "outputs": []
    },
    {
      "cell_type": "code",
      "metadata": {
        "id": "mbXarkJ_57Su",
        "colab_type": "code",
        "colab": {
          "base_uri": "https://localhost:8080/",
          "height": 121
        },
        "outputId": "1f5027fb-743c-4692-9708-e5b2e79d632e"
      },
      "source": [
        "F1 = np.array([[0, 0, 1, 0, 0], \n",
        "               [0, 0, 0, 0, 0],\n",
        "               [0, 0, 0, 0, 0],\n",
        "               [0, 0, 0, 0, 0],\n",
        "               [0, 0, 0, 0, 0]])\n",
        "\n",
        "F2 = np.array([[0, 0, 0, 0, 0], \n",
        "               [0, 0, 0, 0, 0],\n",
        "               [0, 0, 0, 1, 0],\n",
        "               [0, 0, 0, 0, 0],\n",
        "               [0, 0, 0, 0, 0]])\n",
        "\n",
        "F3=np.matmul(F1,F2)\n",
        "print(arr)\n",
        "# apply_filter(arr,F2)"
      ],
      "execution_count": 140,
      "outputs": [
        {
          "output_type": "stream",
          "text": [
            "[[0.85163601 0.85163601 0.85163601 0.85163601 0.85163601 0.85163601]\n",
            " [0.96191285 0.96191285 0.96191285 0.96191285 0.96191285 0.96191285]\n",
            " [0.41745829 0.41745829 0.41745829 0.41745829 0.41745829 0.41745829]\n",
            " [0.45806308 0.45806308 0.45806308 0.45806308 0.45806308 0.45806308]\n",
            " [0.72386475 0.72386475 0.72386475 0.72386475 0.72386475 0.72386475]\n",
            " [0.37386656 0.37386656 0.37386656 0.37386656 0.37386656 0.37386656]]\n"
          ],
          "name": "stdout"
        }
      ]
    },
    {
      "cell_type": "code",
      "metadata": {
        "id": "w8x3H0T457xJ",
        "colab_type": "code",
        "colab": {
          "base_uri": "https://localhost:8080/",
          "height": 225
        },
        "outputId": "280e5e88-cf81-417c-b6d0-a358dfd9e5f8"
      },
      "source": [
        "arr"
      ],
      "execution_count": 141,
      "outputs": [
        {
          "output_type": "execute_result",
          "data": {
            "text/plain": [
              "array([[0.85163601, 0.85163601, 0.85163601, 0.85163601, 0.85163601,\n",
              "        0.85163601],\n",
              "       [0.96191285, 0.96191285, 0.96191285, 0.96191285, 0.96191285,\n",
              "        0.96191285],\n",
              "       [0.41745829, 0.41745829, 0.41745829, 0.41745829, 0.41745829,\n",
              "        0.41745829],\n",
              "       [0.45806308, 0.45806308, 0.45806308, 0.45806308, 0.45806308,\n",
              "        0.45806308],\n",
              "       [0.72386475, 0.72386475, 0.72386475, 0.72386475, 0.72386475,\n",
              "        0.72386475],\n",
              "       [0.37386656, 0.37386656, 0.37386656, 0.37386656, 0.37386656,\n",
              "        0.37386656]])"
            ]
          },
          "metadata": {
            "tags": []
          },
          "execution_count": 141
        }
      ]
    },
    {
      "cell_type": "code",
      "metadata": {
        "id": "qdy-XQ507iYX",
        "colab_type": "code",
        "colab": {
          "base_uri": "https://localhost:8080/",
          "height": 225
        },
        "outputId": "01f48301-ead8-4dbe-b928-2278b3715028"
      },
      "source": [
        "apply_filter(arr,F1)"
      ],
      "execution_count": 142,
      "outputs": [
        {
          "output_type": "execute_result",
          "data": {
            "text/plain": [
              "array([[0.        , 0.        , 0.        , 0.        , 0.        ,\n",
              "        0.        ],\n",
              "       [0.        , 0.        , 0.        , 0.        , 0.        ,\n",
              "        0.        ],\n",
              "       [0.85163601, 0.85163601, 0.85163601, 0.85163601, 0.85163601,\n",
              "        0.85163601],\n",
              "       [0.96191285, 0.96191285, 0.96191285, 0.96191285, 0.96191285,\n",
              "        0.96191285],\n",
              "       [0.41745829, 0.41745829, 0.41745829, 0.41745829, 0.41745829,\n",
              "        0.41745829],\n",
              "       [0.45806308, 0.45806308, 0.45806308, 0.45806308, 0.45806308,\n",
              "        0.45806308]])"
            ]
          },
          "metadata": {
            "tags": []
          },
          "execution_count": 142
        }
      ]
    },
    {
      "cell_type": "code",
      "metadata": {
        "id": "Ca7cmWoO8-d5",
        "colab_type": "code",
        "colab": {
          "base_uri": "https://localhost:8080/",
          "height": 225
        },
        "outputId": "f28d299a-0bea-4a61-e356-36146d37cb74"
      },
      "source": [
        "apply_filter(arr,F2)"
      ],
      "execution_count": 143,
      "outputs": [
        {
          "output_type": "execute_result",
          "data": {
            "text/plain": [
              "array([[0.85163601, 0.85163601, 0.85163601, 0.85163601, 0.85163601,\n",
              "        0.        ],\n",
              "       [0.96191285, 0.96191285, 0.96191285, 0.96191285, 0.96191285,\n",
              "        0.        ],\n",
              "       [0.41745829, 0.41745829, 0.41745829, 0.41745829, 0.41745829,\n",
              "        0.        ],\n",
              "       [0.45806308, 0.45806308, 0.45806308, 0.45806308, 0.45806308,\n",
              "        0.        ],\n",
              "       [0.72386475, 0.72386475, 0.72386475, 0.72386475, 0.72386475,\n",
              "        0.        ],\n",
              "       [0.37386656, 0.37386656, 0.37386656, 0.37386656, 0.37386656,\n",
              "        0.        ]])"
            ]
          },
          "metadata": {
            "tags": []
          },
          "execution_count": 143
        }
      ]
    },
    {
      "cell_type": "code",
      "metadata": {
        "id": "d2wK-53D8_yy",
        "colab_type": "code",
        "colab": {
          "base_uri": "https://localhost:8080/",
          "height": 225
        },
        "outputId": "69599938-2ddc-42e9-9ef7-6d53de47435b"
      },
      "source": [
        "apply_filter(arr,F3)"
      ],
      "execution_count": 144,
      "outputs": [
        {
          "output_type": "execute_result",
          "data": {
            "text/plain": [
              "array([[0.        , 0.        , 0.        , 0.        , 0.        ,\n",
              "        0.        ],\n",
              "       [0.        , 0.        , 0.        , 0.        , 0.        ,\n",
              "        0.        ],\n",
              "       [0.85163601, 0.85163601, 0.85163601, 0.85163601, 0.85163601,\n",
              "        0.        ],\n",
              "       [0.96191285, 0.96191285, 0.96191285, 0.96191285, 0.96191285,\n",
              "        0.        ],\n",
              "       [0.41745829, 0.41745829, 0.41745829, 0.41745829, 0.41745829,\n",
              "        0.        ],\n",
              "       [0.45806308, 0.45806308, 0.45806308, 0.45806308, 0.45806308,\n",
              "        0.        ]])"
            ]
          },
          "metadata": {
            "tags": []
          },
          "execution_count": 144
        }
      ]
    },
    {
      "cell_type": "code",
      "metadata": {
        "id": "z9dFrWa19CO9",
        "colab_type": "code",
        "colab": {
          "base_uri": "https://localhost:8080/",
          "height": 104
        },
        "outputId": "8a246010-6b01-4845-c7ce-cca3eaa3d30a"
      },
      "source": [
        "F3"
      ],
      "execution_count": 145,
      "outputs": [
        {
          "output_type": "execute_result",
          "data": {
            "text/plain": [
              "array([[0, 0, 0, 1, 0],\n",
              "       [0, 0, 0, 0, 0],\n",
              "       [0, 0, 0, 0, 0],\n",
              "       [0, 0, 0, 0, 0],\n",
              "       [0, 0, 0, 0, 0]])"
            ]
          },
          "metadata": {
            "tags": []
          },
          "execution_count": 145
        }
      ]
    },
    {
      "cell_type": "code",
      "metadata": {
        "id": "0thrmG7c9Ryv",
        "colab_type": "code",
        "colab": {}
      },
      "source": [
        ""
      ],
      "execution_count": 0,
      "outputs": []
    }
  ]
}