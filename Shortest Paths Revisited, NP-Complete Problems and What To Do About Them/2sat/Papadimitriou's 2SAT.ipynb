{
 "cells": [
  {
   "cell_type": "code",
   "execution_count": 1,
   "metadata": {},
   "outputs": [],
   "source": [
    "import math\n",
    "import numpy as np "
   ]
  },
  {
   "cell_type": "code",
   "execution_count": 2,
   "metadata": {},
   "outputs": [],
   "source": [
    "# file = open('2sat1.txt', 'r') \n",
    "# Lines = file.readlines() \n",
    "# clauses=[[]]\n",
    "# n=int(Lines[0].replace(\"\\n\",\"\"))\n",
    "# for i in range(1,len(Lines)):\n",
    "#     Line=Lines[i].replace(\"\\n\",\"\").split(\" \")\n",
    "#     clauses+=[[  True if int(Line[0]) > 0 else False,  abs(int(Line[0])), \n",
    "#                  True if int(Line[1]) > 0 else False,  abs(int(Line[1]))]]"
   ]
  },
  {
   "cell_type": "code",
   "execution_count": 3,
   "metadata": {},
   "outputs": [],
   "source": [
    "def read_file(filename):\n",
    "    file = open(filename, 'r') \n",
    "    Lines = file.readlines()\n",
    "#     print(len(Lines))\n",
    "    clauses=[]\n",
    "    n=int(Lines[0].replace(\"\\n\",\"\"))\n",
    "    for i in range(1,len(Lines)):\n",
    "        Line=Lines[i].replace(\"\\n\",\"\").split(\" \")\n",
    "        clauses+=[[  True if int(Line[0]) > 0 else False,  abs(int(Line[0])), \n",
    "                     True if int(Line[1]) > 0 else False,  abs(int(Line[1]))]]\n",
    "    return clauses,n\n"
   ]
  },
  {
   "cell_type": "code",
   "execution_count": 4,
   "metadata": {},
   "outputs": [],
   "source": [
    "# mn=np.inf\n",
    "# mx=-np.inf\n",
    "# for i in clauses[1:]:\n",
    "#     if mn>abs(i[1]):\n",
    "#         mn=abs(i[1])\n",
    "#     if mx<abs(i[1]):\n",
    "#         mx=abs(i[1])\n",
    "# print(mn,mx)   "
   ]
  },
  {
   "cell_type": "code",
   "execution_count": 5,
   "metadata": {},
   "outputs": [],
   "source": [
    "# defining the initial status of boolean variables \n",
    "def randomize(n):\n",
    "    \"\"\" returns an array with randomly generated boolean values \"\"\"\n",
    "    status=np.array([True]*(n+1))\n",
    "    for i in range(1,n+1):\n",
    "        if np.random.uniform(0,1)>0.5:\n",
    "            status[i]=False\n",
    "    return(status)        "
   ]
  },
  {
   "cell_type": "code",
   "execution_count": 76,
   "metadata": {},
   "outputs": [],
   "source": [
    "# given clauses and state, return the list of the incorrect clause indices and cnt\n",
    "def check(clauses,status):\n",
    "    fail,cnt=[],0\n",
    "    for j in range(len(clauses)):\n",
    "        i=clauses[j]\n",
    "        if i[0]:\n",
    "            left=status[i[1]]\n",
    "        else:\n",
    "            left=not status[i[1]]\n",
    "        if i[2]:\n",
    "            right=status[i[3]]\n",
    "        else:\n",
    "            right=not status[i[3]]\n",
    "        condition = left or right\n",
    "#         condition =(status[i[1]] if i[0] else not status[i[1]] or \n",
    "#               status[i[3]] if i[2] else not status[i[3]] )\n",
    "        if not condition:\n",
    "            fail+=[j]\n",
    "            cnt+=1\n",
    "#             print(left,right,i)\n",
    "    return (fail,cnt)"
   ]
  },
  {
   "cell_type": "code",
   "execution_count": 7,
   "metadata": {},
   "outputs": [],
   "source": [
    "# status=randomize(n)\n",
    "# fail,fail_cnt=check(clauses,status)"
   ]
  },
  {
   "cell_type": "code",
   "execution_count": 8,
   "metadata": {},
   "outputs": [],
   "source": [
    "# # Let's choose a failed clause randomly and change the literals\n",
    "# chosen=np.random.randint(0,len(fail))\n",
    "# var=clauses[fail[chosen]][1 if np.random.uniform(0,1)>0.5 else 3]\n",
    "# status[var]=not status[var]\n",
    "# status[var]"
   ]
  },
  {
   "cell_type": "code",
   "execution_count": 57,
   "metadata": {},
   "outputs": [],
   "source": [
    "# loopoing through for log n times, with 2 n^2 local searches\n",
    "def local_search(clauses,n):\n",
    "#     clauses,n=read_file(file)\n",
    "    for i in range(math.ceil(math.log2(len(clauses)))):\n",
    "#         print(i+1,'/',math.ceil(math.log2(n)), 'iteration')\n",
    "        status=randomize(n)\n",
    "        for j in range(2*(len(clauses)**2)):\n",
    "#         for j in range(10):\n",
    "#         for j in range(100):\n",
    "            fail,fail_cnt=check(clauses,status)\n",
    "            if fail_cnt==0:\n",
    "                return ('Satisfied')\n",
    "            else:\n",
    "                chosen=np.random.randint(0,len(fail))\n",
    "                var=clauses[fail[chosen]][1 if np.random.uniform(0,1)>0.5 else 3]\n",
    "                status[var]=not status[var]\n",
    "    return ('Not Satisfied')\n",
    "                \n"
   ]
  },
  {
   "cell_type": "code",
   "execution_count": 10,
   "metadata": {},
   "outputs": [],
   "source": [
    "# local_search('2sat1.txt')"
   ]
  },
  {
   "cell_type": "code",
   "execution_count": 11,
   "metadata": {},
   "outputs": [],
   "source": [
    "files= ['2sat1.txt','2sat2.txt','2sat3.txt','2sat4.txt','2sat5.txt','2sat6.txt']"
   ]
  },
  {
   "cell_type": "code",
   "execution_count": 12,
   "metadata": {},
   "outputs": [],
   "source": [
    "# reduce the input clauses\n",
    "# clauses,n=read_file(files[0])"
   ]
  },
  {
   "cell_type": "code",
   "execution_count": 13,
   "metadata": {},
   "outputs": [],
   "source": [
    "# print(len(clauses),n)"
   ]
  },
  {
   "cell_type": "code",
   "execution_count": 40,
   "metadata": {},
   "outputs": [],
   "source": [
    "# check=np.ones((n+1,2))\n",
    "# for j in range(len(clauses)):\n",
    "#     i=clauses[j]\n",
    "#     if i[0]:\n",
    "#         check[i[1]][0]=0\n",
    "#     else:\n",
    "#         check[i[1]][1]=0\n",
    "#     if i[2]:\n",
    "#         check[i[3]][0]=0\n",
    "#     else:\n",
    "#         check[i[3]][1]=0\n",
    "    \n",
    "# check=check[:,0]+check[:,1]"
   ]
  },
  {
   "cell_type": "code",
   "execution_count": 44,
   "metadata": {},
   "outputs": [],
   "source": [
    "# remove={}\n",
    "# for j in range(len(check)):\n",
    "#     if check[j]>0:\n",
    "#         remove[j]=True\n",
    "# clauses_remove=[]\n",
    "# for i in range(len(clauses)):\n",
    "#     if clauses[i][1] in remove.keys() or clauses[i][3] in remove.keys():\n",
    "#         clauses_remove+=[i]"
   ]
  },
  {
   "cell_type": "code",
   "execution_count": 49,
   "metadata": {},
   "outputs": [],
   "source": [
    "# i,j=0,0\n",
    "# treated=[]\n",
    "# while i<len(clauses):\n",
    "#     if i==clauses_remove[j]:\n",
    "#         i+=1\n",
    "#         j+=1\n",
    "#     else:\n",
    "#         treated+=[clauses[i]]\n",
    "#         i+=1\n",
    "# clauses=treated"
   ]
  },
  {
   "cell_type": "code",
   "execution_count": 14,
   "metadata": {},
   "outputs": [],
   "source": [
    "def reduce(clauses,n):\n",
    "    check=np.ones((n+1,2))\n",
    "    for j in range(len(clauses)):\n",
    "        i=clauses[j]\n",
    "        if i[0]:\n",
    "            check[i[1]][0]=0\n",
    "        else:\n",
    "            check[i[1]][1]=0\n",
    "        if i[2]:\n",
    "            check[i[3]][0]=0\n",
    "        else:\n",
    "            check[i[3]][1]=0\n",
    "\n",
    "    check=check[:,0]+check[:,1]\n",
    "\n",
    "    remove={}\n",
    "    for j in range(1,len(check)):\n",
    "        if check[j]>0:\n",
    "            remove[j]=True\n",
    "    treated=[]\n",
    "    for i in range(len(clauses)):\n",
    "        if clauses[i][1] in remove.keys() or clauses[i][3] in remove.keys():\n",
    "              pass\n",
    "        else:\n",
    "            treated+=[clauses[i]]\n",
    "    return(treated)"
   ]
  },
  {
   "cell_type": "code",
   "execution_count": 15,
   "metadata": {},
   "outputs": [],
   "source": [
    "# clauses,n=read_file(files[0])\n",
    "# l=len(clauses)\n",
    "# while True:\n",
    "#     reduced=reduce(clauses,n)\n",
    "#     if len(reduced)<l:\n",
    "#         l=len(reduced)\n",
    "#         clauses=reduced\n",
    "#     else:\n",
    "#         print(len(clauses))\n",
    "#         break\n"
   ]
  },
  {
   "cell_type": "code",
   "execution_count": 108,
   "metadata": {},
   "outputs": [
    {
     "name": "stdout",
     "output_type": "stream",
     "text": [
      "6\n",
      "57\n",
      "295\n",
      "11\n",
      "101\n",
      "26\n"
     ]
    }
   ],
   "source": [
    "# reduction is matching with \n",
    "# https://www.coursera.org/learn/algorithms-npcomplete/discussions/weeks/4/threads/Cl-n9enMEeavDRL9DbMJZA \n",
    "# for i in files:\n",
    "#     clauses,n=read_file(i)\n",
    "#     l=len(clauses)\n",
    "#     while True:\n",
    "#         reduced=reduce(clauses,n)\n",
    "#         if len(reduced)<l:\n",
    "#             l=len(reduced)\n",
    "#             clauses=reduced\n",
    "#         else:\n",
    "#             print(len(clauses))\n",
    "#             break\n"
   ]
  },
  {
   "cell_type": "code",
   "execution_count": 17,
   "metadata": {},
   "outputs": [],
   "source": [
    "def pre_process(f):\n",
    "    clauses,n=read_file(f)\n",
    "    l=len(clauses)\n",
    "    while True:\n",
    "        reduced=reduce(clauses,n)\n",
    "        if len(reduced)<l:\n",
    "            l=len(reduced)\n",
    "            clauses=reduced\n",
    "        else:\n",
    "            break\n",
    "    return clauses\n"
   ]
  },
  {
   "cell_type": "code",
   "execution_count": 58,
   "metadata": {},
   "outputs": [],
   "source": [
    "def pre_process_search(f):\n",
    "    clauses,n=read_file(f)\n",
    "    l=len(clauses)\n",
    "    while True:\n",
    "        reduced=reduce(clauses,n)\n",
    "        if len(reduced)<l:\n",
    "            l=len(reduced)\n",
    "            clauses=reduced\n",
    "        else:\n",
    "            break\n",
    "    return local_search(clauses,n)\n"
   ]
  },
  {
   "cell_type": "code",
   "execution_count": 78,
   "metadata": {},
   "outputs": [
    {
     "name": "stdout",
     "output_type": "stream",
     "text": [
      "Satisfied\n",
      "Not Satisfied\n",
      "Satisfied\n",
      "Satisfied\n",
      "Not Satisfied\n",
      "Not Satisfied\n"
     ]
    }
   ],
   "source": [
    "for i in files:\n",
    "    print(pre_process_search(i))"
   ]
  },
  {
   "cell_type": "code",
   "execution_count": null,
   "metadata": {},
   "outputs": [],
   "source": []
  }
 ],
 "metadata": {
  "kernelspec": {
   "display_name": "Python 3",
   "language": "python",
   "name": "python3"
  },
  "language_info": {
   "codemirror_mode": {
    "name": "ipython",
    "version": 3
   },
   "file_extension": ".py",
   "mimetype": "text/x-python",
   "name": "python",
   "nbconvert_exporter": "python",
   "pygments_lexer": "ipython3",
   "version": "3.7.3"
  }
 },
 "nbformat": 4,
 "nbformat_minor": 2
}
