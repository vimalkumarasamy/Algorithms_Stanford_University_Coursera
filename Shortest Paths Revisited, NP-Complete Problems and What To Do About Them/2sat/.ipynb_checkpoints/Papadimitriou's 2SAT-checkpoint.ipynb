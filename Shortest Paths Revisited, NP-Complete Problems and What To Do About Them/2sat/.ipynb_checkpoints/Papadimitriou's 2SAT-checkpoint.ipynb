{
 "cells": [
  {
   "cell_type": "code",
   "execution_count": 7,
   "metadata": {},
   "outputs": [],
   "source": [
    "import math\n",
    "import numpy as np "
   ]
  },
  {
   "cell_type": "code",
   "execution_count": 100,
   "metadata": {},
   "outputs": [],
   "source": [
    "file = open('2sat1.txt', 'r') \n",
    "Lines = file.readlines() \n",
    "clauses=[[]]\n",
    "n=int(Lines[0].replace(\"\\n\",\"\"))\n",
    "for i in range(1,len(Lines)):\n",
    "    Line=Lines[i].replace(\"\\n\",\"\").split(\" \")\n",
    "    clauses+=[[  True if int(Line[0]) > 0 else False,  abs(int(Line[0])), \n",
    "                 True if int(Line[1]) > 0 else False,  abs(int(Line[1]))]]"
   ]
  },
  {
   "cell_type": "code",
   "execution_count": 14,
   "metadata": {},
   "outputs": [],
   "source": [
    "def read_file(filename):\n",
    "    file = open(filename, 'r') \n",
    "    Lines = file.readlines() \n",
    "    clauses=[[]]\n",
    "    n=int(Lines[0].replace(\"\\n\",\"\"))\n",
    "    for i in range(1,len(Lines)):\n",
    "        Line=Lines[i].replace(\"\\n\",\"\").split(\" \")\n",
    "        clauses+=[[  True if int(Line[0]) > 0 else False,  abs(int(Line[0])), \n",
    "                     True if int(Line[1]) > 0 else False,  abs(int(Line[1]))]]\n",
    "    return clauses,n\n"
   ]
  },
  {
   "cell_type": "code",
   "execution_count": 101,
   "metadata": {},
   "outputs": [
    {
     "name": "stdout",
     "output_type": "stream",
     "text": [
      "1 100000\n"
     ]
    }
   ],
   "source": [
    "mn=np.inf\n",
    "mx=-np.inf\n",
    "for i in clauses[1:]:\n",
    "    if mn>abs(i[1]):\n",
    "        mn=abs(i[1])\n",
    "    if mx<abs(i[1]):\n",
    "        mx=abs(i[1])\n",
    "print(mn,mx)   "
   ]
  },
  {
   "cell_type": "code",
   "execution_count": 9,
   "metadata": {},
   "outputs": [],
   "source": [
    "# defining the initial status of boolean variables \n",
    "def randomize(n):\n",
    "    \"\"\" returns an array with randomly generated boolean values \"\"\"\n",
    "    status=np.array([True]*(n+1))\n",
    "    for i in range(1,n+1):\n",
    "        if np.random.uniform(0,1)>0.5:\n",
    "            status[i]=False\n",
    "    return(status)        "
   ]
  },
  {
   "cell_type": "code",
   "execution_count": 10,
   "metadata": {},
   "outputs": [],
   "source": [
    "# given clauses and state, return the list of the incorrect clause indices and cnt\n",
    "def check(clauses,status):\n",
    "    fail,cnt=[],0\n",
    "    for j in range(2,len(clauses)):\n",
    "        i=clauses[j]\n",
    "        condition =(status[i[1]] if i[0] is True else not status[i[1]] | \n",
    "              status[i[3]] if i[2] is True else not status[i[3]] )\n",
    "        if not condition:\n",
    "            fail+=[j]\n",
    "            cnt+=1\n",
    "    return (fail,cnt)"
   ]
  },
  {
   "cell_type": "code",
   "execution_count": 154,
   "metadata": {},
   "outputs": [],
   "source": [
    "status=randomize(n)\n",
    "fail,fail_cnt=check(clauses,status)"
   ]
  },
  {
   "cell_type": "code",
   "execution_count": 182,
   "metadata": {},
   "outputs": [
    {
     "data": {
      "text/plain": [
       "True"
      ]
     },
     "execution_count": 182,
     "metadata": {},
     "output_type": "execute_result"
    }
   ],
   "source": [
    "# Let's choose a failed clause randomly and change the literals\n",
    "chosen=np.random.randint(0,len(fail))\n",
    "var=clauses[fail[chosen]][1 if np.random.uniform(0,1)>0.5 else 3]\n",
    "status[var]=not status[var]\n",
    "status[var]"
   ]
  },
  {
   "cell_type": "code",
   "execution_count": 24,
   "metadata": {},
   "outputs": [],
   "source": [
    "# loopoing through for log n times, with 2 n^2 local searches\n",
    "def local_search(file):\n",
    "    clauses,n=read_file(file)\n",
    "    for i in range(math.ceil(math.log2(n))):\n",
    "        print(i+1,'/',math.ceil(math.log2(n)), 'iteration')\n",
    "        status=randomize(n)\n",
    "#         for j in range(2*(n**2)):\n",
    "#         for j in range(10):\n",
    "        for j in range(2*(n)):\n",
    "            fail,fail_cnt=check(clauses,status)\n",
    "            if fail_cnt==0:\n",
    "                return ('Satisfied')\n",
    "            else:\n",
    "                chosen=np.random.randint(0,len(fail))\n",
    "                var=clauses[fail[chosen]][1 if np.random.uniform(0,1)>0.5 else 3]\n",
    "                status[var]=not status[var]\n",
    "    return ('Not Satisfied')\n",
    "                \n"
   ]
  },
  {
   "cell_type": "code",
   "execution_count": null,
   "metadata": {},
   "outputs": [
    {
     "name": "stdout",
     "output_type": "stream",
     "text": [
      "1 / 17 iteration\n"
     ]
    }
   ],
   "source": [
    "local_search('2sat1.txt')"
   ]
  },
  {
   "cell_type": "code",
   "execution_count": null,
   "metadata": {},
   "outputs": [],
   "source": []
  },
  {
   "cell_type": "code",
   "execution_count": null,
   "metadata": {},
   "outputs": [],
   "source": []
  }
 ],
 "metadata": {
  "kernelspec": {
   "display_name": "Python 3",
   "language": "python",
   "name": "python3"
  },
  "language_info": {
   "codemirror_mode": {
    "name": "ipython",
    "version": 3
   },
   "file_extension": ".py",
   "mimetype": "text/x-python",
   "name": "python",
   "nbconvert_exporter": "python",
   "pygments_lexer": "ipython3",
   "version": "3.7.3"
  }
 },
 "nbformat": 4,
 "nbformat_minor": 2
}
