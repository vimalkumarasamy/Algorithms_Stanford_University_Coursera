{
  "nbformat": 4,
  "nbformat_minor": 0,
  "metadata": {
    "colab": {
      "name": "APSP - Floyed Warshall.ipynb",
      "provenance": [],
      "collapsed_sections": [],
      "authorship_tag": "ABX9TyOG6XERcz9Tr6h9k4n+KZTq",
      "include_colab_link": true
    },
    "kernelspec": {
      "name": "python3",
      "display_name": "Python 3"
    }
  },
  "cells": [
    {
      "cell_type": "markdown",
      "metadata": {
        "id": "view-in-github",
        "colab_type": "text"
      },
      "source": [
        "<a href=\"https://colab.research.google.com/github/vimalkumarasamy/Algorithms_Stanford_University_Coursera/blob/master/Shortest%20Paths%20Revisited%2C%20NP-Complete%20Problems%20and%20What%20To%20Do%20About%20Them/APSP_Floyed_Warshall.ipynb\" target=\"_parent\"><img src=\"https://colab.research.google.com/assets/colab-badge.svg\" alt=\"Open In Colab\"/></a>"
      ]
    },
    {
      "cell_type": "code",
      "metadata": {
        "id": "XewALtK8k-ET",
        "colab_type": "code",
        "colab": {
          "base_uri": "https://localhost:8080/",
          "height": 34
        },
        "outputId": "7c9b9048-56f3-4271-9367-699772ed9084"
      },
      "source": [
        "from google.colab import drive\n",
        "drive.mount('/content/gdrive')"
      ],
      "execution_count": 2,
      "outputs": [
        {
          "output_type": "stream",
          "text": [
            "Drive already mounted at /content/gdrive; to attempt to forcibly remount, call drive.mount(\"/content/gdrive\", force_remount=True).\n"
          ],
          "name": "stdout"
        }
      ]
    },
    {
      "cell_type": "code",
      "metadata": {
        "id": "8d2QknOMk__U",
        "colab_type": "code",
        "colab": {
          "base_uri": "https://localhost:8080/",
          "height": 34
        },
        "outputId": "e4cb7fe5-c623-40d8-afb5-522998771fc3"
      },
      "source": [
        "cd '/content/gdrive/My Drive/Algorithms/'"
      ],
      "execution_count": 3,
      "outputs": [
        {
          "output_type": "stream",
          "text": [
            "/content/gdrive/My Drive/Algorithms\n"
          ],
          "name": "stdout"
        }
      ]
    },
    {
      "cell_type": "code",
      "metadata": {
        "id": "bLLEE_W_leL_",
        "colab_type": "code",
        "colab": {}
      },
      "source": [
        "def create_graph(filename):\n",
        "  header=True\n",
        "  graph={}\n",
        "  for f in open(filename):\n",
        "    if header:\n",
        "      header=False \n",
        "      f=f.split()\n",
        "      f=[int(i) for i in f]\n",
        "      v,e=f[0],f[1]\n",
        "    else:\n",
        "      f=f.split()\n",
        "      f=[int(i) for i in f]\n",
        "      if f[0] in graph.keys():\n",
        "        graph[f[0]][f[1]]=f[2]\n",
        "      else:\n",
        "        graph[f[0]]={}\n",
        "        graph[f[0]][f[1]]=f[2]\n",
        "  return(graph,v,e)\n",
        "\n",
        "graph,v,e=create_graph(\"g1.txt\")"
      ],
      "execution_count": 0,
      "outputs": []
    },
    {
      "cell_type": "code",
      "metadata": {
        "id": "VYO8NU_dliTu",
        "colab_type": "code",
        "colab": {
          "base_uri": "https://localhost:8080/",
          "height": 85
        },
        "outputId": "9fcd941c-e296-4ea4-d1d6-ba1184fc01d6"
      },
      "source": [
        "# quick checks\n",
        "cnt=0\n",
        "l=0\n",
        "for i in graph.keys():\n",
        "  cnt+=len(graph[i].keys())\n",
        "  for j in graph[i].keys():\n",
        "    if graph[i][j]>0:\n",
        "      l+=graph[i][j]\n",
        "print(cnt)\n",
        "print(e)\n",
        "print(len(graph.keys()))\n",
        "print(v)"
      ],
      "execution_count": 5,
      "outputs": [
        {
          "output_type": "stream",
          "text": [
            "47978\n",
            "47978\n",
            "1000\n",
            "1000\n"
          ],
          "name": "stdout"
        }
      ]
    },
    {
      "cell_type": "code",
      "metadata": {
        "id": "krOAfqHJlxfh",
        "colab_type": "code",
        "colab": {}
      },
      "source": [
        "# Floyed Warshall Algorithm\n",
        "\n",
        "# Budget - vertices to be considered\n",
        "# Starting\n",
        "# Destination\n",
        "import numpy as np\n",
        "A=np.zeros([2,v+1,v+1])\n",
        "A=A+l\n",
        "\n",
        "for b in range(0,v):\n",
        "  for s in range(1,v+1):\n",
        "    for d in range(1,v+1):\n",
        "      if b==0:\n",
        "        if s==d:\n",
        "          A[b%2,s,d]=0\n",
        "        else:\n",
        "          pass\n",
        "      else:\n",
        "        A[b%2,s,d]=min(A[(b-1)%2,s,d],A[(b-1)%2,s,b]+A[(b-1)%2,b,s])\n",
        "\n"
      ],
      "execution_count": 0,
      "outputs": []
    },
    {
      "cell_type": "code",
      "metadata": {
        "id": "KAgF5_nRIoQd",
        "colab_type": "code",
        "colab": {}
      },
      "source": [
        ""
      ],
      "execution_count": 0,
      "outputs": []
    },
    {
      "cell_type": "code",
      "metadata": {
        "id": "GmzAoo5BJe4e",
        "colab_type": "code",
        "colab": {
          "base_uri": "https://localhost:8080/",
          "height": 34
        },
        "outputId": "2a4b5f68-f4b7-40ae-98bc-eb67b04d3056"
      },
      "source": [
        ""
      ],
      "execution_count": 9,
      "outputs": [
        {
          "output_type": "execute_result",
          "data": {
            "text/plain": [
              "(1001, 1000, 1000)"
            ]
          },
          "metadata": {
            "tags": []
          },
          "execution_count": 9
        }
      ]
    },
    {
      "cell_type": "code",
      "metadata": {
        "id": "JfnPIx1dKNAq",
        "colab_type": "code",
        "colab": {}
      },
      "source": [
        ""
      ],
      "execution_count": 0,
      "outputs": []
    }
  ]
}