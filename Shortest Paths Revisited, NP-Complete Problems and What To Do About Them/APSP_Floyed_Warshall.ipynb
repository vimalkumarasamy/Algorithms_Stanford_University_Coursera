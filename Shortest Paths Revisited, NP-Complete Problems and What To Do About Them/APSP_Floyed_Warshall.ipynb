{
  "nbformat": 4,
  "nbformat_minor": 0,
  "metadata": {
    "colab": {
      "name": "APSP - Floyed Warshall.ipynb",
      "provenance": [],
      "collapsed_sections": [],
      "authorship_tag": "ABX9TyOSCPWz06JgzvZKqm9cOiFV",
      "include_colab_link": true
    },
    "kernelspec": {
      "name": "python3",
      "display_name": "Python 3"
    }
  },
  "cells": [
    {
      "cell_type": "markdown",
      "metadata": {
        "id": "view-in-github",
        "colab_type": "text"
      },
      "source": [
        "<a href=\"https://colab.research.google.com/github/vimalkumarasamy/Algorithms_Stanford_University_Coursera/blob/master/Shortest%20Paths%20Revisited%2C%20NP-Complete%20Problems%20and%20What%20To%20Do%20About%20Them/APSP_Floyed_Warshall.ipynb\" target=\"_parent\"><img src=\"https://colab.research.google.com/assets/colab-badge.svg\" alt=\"Open In Colab\"/></a>"
      ]
    },
    {
      "cell_type": "code",
      "metadata": {
        "id": "XewALtK8k-ET",
        "colab_type": "code",
        "colab": {
          "base_uri": "https://localhost:8080/",
          "height": 34
        },
        "outputId": "355af44e-50de-44cf-e0f1-8c03e7706b37"
      },
      "source": [
        "from google.colab import drive\n",
        "drive.mount('/content/gdrive')"
      ],
      "execution_count": 63,
      "outputs": [
        {
          "output_type": "stream",
          "text": [
            "Drive already mounted at /content/gdrive; to attempt to forcibly remount, call drive.mount(\"/content/gdrive\", force_remount=True).\n"
          ],
          "name": "stdout"
        }
      ]
    },
    {
      "cell_type": "code",
      "metadata": {
        "id": "8d2QknOMk__U",
        "colab_type": "code",
        "colab": {
          "base_uri": "https://localhost:8080/",
          "height": 34
        },
        "outputId": "7f63afce-e381-44df-e114-e74296dc36aa"
      },
      "source": [
        "cd '/content/gdrive/My Drive/Algorithms/'"
      ],
      "execution_count": 64,
      "outputs": [
        {
          "output_type": "stream",
          "text": [
            "/content/gdrive/My Drive/Algorithms\n"
          ],
          "name": "stdout"
        }
      ]
    },
    {
      "cell_type": "code",
      "metadata": {
        "id": "bLLEE_W_leL_",
        "colab_type": "code",
        "colab": {}
      },
      "source": [
        "def create_graph(filename):\n",
        "  header=True\n",
        "  graph={}\n",
        "  for f in open(filename):\n",
        "    if header:\n",
        "      header=False \n",
        "      f=f.split()\n",
        "      f=[int(i) for i in f]\n",
        "      v,e=f[0],f[1]\n",
        "    else:\n",
        "      f=f.split()\n",
        "      f=[int(i) for i in f]\n",
        "      if f[0]-1 in graph.keys():\n",
        "        graph[f[0]-1][f[1]-1]=f[2]\n",
        "      else:\n",
        "        graph[f[0]-1]={}\n",
        "        graph[f[0]-1][f[1]-1]=f[2]\n",
        "  return(graph,v,e)\n",
        "\n",
        "graph,v,e=create_graph(\"g1.txt\")"
      ],
      "execution_count": 0,
      "outputs": []
    },
    {
      "cell_type": "code",
      "metadata": {
        "id": "VYO8NU_dliTu",
        "colab_type": "code",
        "colab": {
          "base_uri": "https://localhost:8080/",
          "height": 102
        },
        "outputId": "2aa9f269-4345-4f28-9bed-f822d2f0ce46"
      },
      "source": [
        "# quick checks\n",
        "cnt=0\n",
        "l=0\n",
        "for i in graph.keys():\n",
        "  cnt+=len(graph[i].keys())\n",
        "  for j in graph[i].keys():\n",
        "    if graph[i][j]>0:\n",
        "      l+=graph[i][j]\n",
        "print(cnt)\n",
        "print(e)\n",
        "print(len(graph.keys()))\n",
        "print(v)\n",
        "print(l)"
      ],
      "execution_count": 71,
      "outputs": [
        {
          "output_type": "stream",
          "text": [
            "47978\n",
            "47978\n",
            "1000\n",
            "1000\n",
            "1196889\n"
          ],
          "name": "stdout"
        }
      ]
    },
    {
      "cell_type": "code",
      "metadata": {
        "id": "krOAfqHJlxfh",
        "colab_type": "code",
        "colab": {}
      },
      "source": [
        "# Floyed Warshall Algorithm\n",
        "# Budget - vertices to be considered\n",
        "# Starting\n",
        "# Destination\n",
        "import numpy as np\n",
        "A=np.zeros([2,v,v])\n",
        "A=A+np.inf\n",
        "B=np.zeros([v,v])\n",
        "B=B+np.inf\n",
        "for s in range(v):\n",
        "  for d in range(v):\n",
        "    if s==d:\n",
        "      B[s,d]=0\n",
        "    else:\n",
        "      if d in graph[s].keys():\n",
        "        B[s,d]=graph[s][d]"
      ],
      "execution_count": 0,
      "outputs": []
    },
    {
      "cell_type": "code",
      "metadata": {
        "id": "KAgF5_nRIoQd",
        "colab_type": "code",
        "colab": {}
      },
      "source": [
        "for b in range(0,v):\n",
        "  for s in range(0,v):\n",
        "    for d in range(0,v):\n",
        "      if b==0:\n",
        "        A[b%2,s,d]=min(B[s,d],B[s,0]+B[0,d])\n",
        "      elif b>0:\n",
        "        A[b%2,s,d]=min(A[(b-1)%2,s,d],A[(b-1)%2,s,b]+A[(b-1)%2,b,d])"
      ],
      "execution_count": 0,
      "outputs": []
    },
    {
      "cell_type": "code",
      "metadata": {
        "id": "JfnPIx1dKNAq",
        "colab_type": "code",
        "colab": {
          "base_uri": "https://localhost:8080/",
          "height": 34
        },
        "outputId": "b418eb76-bd58-45df-f168-38996ef76d04"
      },
      "source": [
        "NC=False\n",
        "dist=np.inf\n",
        "for i in range(v):\n",
        "  if A[v%2,i,i]!=0:\n",
        "    print(\"negative cycle detected\")\n",
        "    NC=True\n",
        "    break\n",
        "if NC==False:\n",
        "  for i in range(v):\n",
        "    for j in range(v):\n",
        "      if i!=j:\n",
        "        if dist>A[v%2,i,j]:\n",
        "          dist=A[v%2,i,j]\n",
        "if NC==False:\n",
        "  print(\"No negative cycles detected\")\n",
        "  print(\"The shortest shortest path :\",dist)\n"
      ],
      "execution_count": 78,
      "outputs": [
        {
          "output_type": "stream",
          "text": [
            "negative cycle detected\n"
          ],
          "name": "stdout"
        }
      ]
    },
    {
      "cell_type": "code",
      "metadata": {
        "id": "suahHhMBkIuY",
        "colab_type": "code",
        "colab": {}
      },
      "source": [
        "def shortest_shortest_path(filename):\n",
        "  graph,v,e=create_graph(filename)\n",
        "\n",
        "  import numpy as np\n",
        "  A=np.zeros([2,v,v])\n",
        "  A=A+np.inf\n",
        "  B=np.zeros([v,v])\n",
        "  B=B+np.inf\n",
        "  for s in range(v):\n",
        "    for d in range(v):\n",
        "      if s==d:\n",
        "        B[s,d]=0\n",
        "      else:\n",
        "        if d in graph[s].keys():\n",
        "          B[s,d]=graph[s][d]\n",
        "\n",
        "  for b in range(0,v):\n",
        "    for s in range(0,v):\n",
        "      for d in range(0,v):\n",
        "        if b==0:\n",
        "          A[b%2,s,d]=min(B[s,d],B[s,0]+B[0,d])\n",
        "        elif b>0:\n",
        "          A[b%2,s,d]=min(A[(b-1)%2,s,d],A[(b-1)%2,s,b]+A[(b-1)%2,b,d])\n",
        "\n",
        "  NC=False\n",
        "  dist=np.inf\n",
        "  for i in range(v):\n",
        "    if A[v%2,i,i]!=0:\n",
        "      print(\"negative cycle detected\")\n",
        "      NC=True\n",
        "      break\n",
        "  if NC==False:\n",
        "    for i in range(v):\n",
        "      for j in range(v):\n",
        "        if i!=j:\n",
        "          if dist>A[v%2,i,j]:\n",
        "            dist=A[v%2,i,j]\n",
        "  if NC==False:\n",
        "    print(\"No negative cycles detected\")\n",
        "    print(\"The shortest shortest path :\",dist)\n",
        "  \n",
        "  return(dist)\n",
        "\n"
      ],
      "execution_count": 0,
      "outputs": []
    },
    {
      "cell_type": "code",
      "metadata": {
        "id": "nGN4wl82LDJN",
        "colab_type": "code",
        "colab": {
          "base_uri": "https://localhost:8080/",
          "height": 102
        },
        "outputId": "ec4a536e-e5da-4010-aa4a-3fbf74c4c951"
      },
      "source": [
        "x=shortest_shortest_path(\"g1.txt\")\n",
        "y=shortest_shortest_path(\"g2.txt\")\n",
        "z=shortest_shortest_path(\"g3.txt\")\n",
        "print(x,y,z)\n"
      ],
      "execution_count": 80,
      "outputs": [
        {
          "output_type": "stream",
          "text": [
            "negative cycle detected\n",
            "negative cycle detected\n",
            "No negative cycles detected\n",
            "The shortest shortest path : -19.0\n",
            "inf inf -19.0\n"
          ],
          "name": "stdout"
        }
      ]
    },
    {
      "cell_type": "code",
      "metadata": {
        "id": "eohedBhQaiPz",
        "colab_type": "code",
        "colab": {}
      },
      "source": [
        ""
      ],
      "execution_count": 0,
      "outputs": []
    }
  ]
}