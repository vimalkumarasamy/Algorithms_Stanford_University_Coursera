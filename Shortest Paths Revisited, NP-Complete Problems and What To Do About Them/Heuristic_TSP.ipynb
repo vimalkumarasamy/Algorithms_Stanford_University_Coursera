{
 "cells": [
  {
   "cell_type": "code",
   "execution_count": 1,
   "metadata": {},
   "outputs": [],
   "source": [
    "import numpy as np"
   ]
  },
  {
   "cell_type": "code",
   "execution_count": 2,
   "metadata": {},
   "outputs": [],
   "source": [
    "file = open('tsp_heuristic.txt', 'r') \n",
    "Lines = file.readlines() \n",
    "coords={}\n",
    "for i in range(7,len(Lines)-1):\n",
    "    Line=Lines[i].replace(\"\\n\",\"\").split(\" \")\n",
    "    coords[int(Line[0])]=[float(Line[1]),float(Line[2])]"
   ]
  },
  {
   "cell_type": "code",
   "execution_count": 3,
   "metadata": {},
   "outputs": [],
   "source": [
    "def dist(x1,x2):\n",
    "    return (((x1[0]-x2[0])**2)+((x1[1]-x2[1])**2))**0.5"
   ]
  },
  {
   "cell_type": "code",
   "execution_count": 12,
   "metadata": {},
   "outputs": [],
   "source": [
    "current=1\n",
    "cost=0\n",
    "seen={}\n",
    "seen[current]=True\n"
   ]
  },
  {
   "cell_type": "code",
   "execution_count": 14,
   "metadata": {},
   "outputs": [
    {
     "name": "stdout",
     "output_type": "stream",
     "text": [
      "1000  nodes processed\n",
      "2000  nodes processed\n",
      "3000  nodes processed\n",
      "4000  nodes processed\n",
      "5000  nodes processed\n",
      "6000  nodes processed\n",
      "7000  nodes processed\n",
      "8000  nodes processed\n",
      "9000  nodes processed\n",
      "10000  nodes processed\n",
      "11000  nodes processed\n",
      "12000  nodes processed\n",
      "13000  nodes processed\n",
      "14000  nodes processed\n",
      "15000  nodes processed\n",
      "16000  nodes processed\n",
      "17000  nodes processed\n",
      "18000  nodes processed\n",
      "19000  nodes processed\n",
      "20000  nodes processed\n",
      "21000  nodes processed\n",
      "22000  nodes processed\n",
      "23000  nodes processed\n",
      "24000  nodes processed\n",
      "25000  nodes processed\n",
      "26000  nodes processed\n",
      "27000  nodes processed\n",
      "28000  nodes processed\n",
      "29000  nodes processed\n",
      "30000  nodes processed\n",
      "31000  nodes processed\n",
      "32000  nodes processed\n",
      "33000  nodes processed\n",
      "1190522.391735148\n"
     ]
    }
   ],
   "source": [
    "while len(seen.keys())<len(coords.keys()):\n",
    "    d=np.inf\n",
    "    for i in range(1,len(coords.keys())+1):\n",
    "        if i not in seen.keys():\n",
    "            d_i=dist(coords[current],coords[i])\n",
    "            if d>d_i:\n",
    "                d=d_i\n",
    "                next=i\n",
    "    seen[next]=True\n",
    "    cost+=d\n",
    "    current=next\n",
    "    if len(seen.keys())%1000==0:\n",
    "        print(len(seen.keys()),\" nodes processed\")\n",
    "print(cost)"
   ]
  },
  {
   "cell_type": "code",
   "execution_count": 18,
   "metadata": {},
   "outputs": [
    {
     "data": {
      "text/plain": [
       "1203406.5012708856"
      ]
     },
     "execution_count": 18,
     "metadata": {},
     "output_type": "execute_result"
    }
   ],
   "source": [
    "dist(coords[next],coords[1])+cost"
   ]
  },
  {
   "cell_type": "code",
   "execution_count": null,
   "metadata": {},
   "outputs": [],
   "source": []
  }
 ],
 "metadata": {
  "kernelspec": {
   "display_name": "Python 3",
   "language": "python",
   "name": "python3"
  },
  "language_info": {
   "codemirror_mode": {
    "name": "ipython",
    "version": 3
   },
   "file_extension": ".py",
   "mimetype": "text/x-python",
   "name": "python",
   "nbconvert_exporter": "python",
   "pygments_lexer": "ipython3",
   "version": "3.7.3"
  }
 },
 "nbformat": 4,
 "nbformat_minor": 2
}
