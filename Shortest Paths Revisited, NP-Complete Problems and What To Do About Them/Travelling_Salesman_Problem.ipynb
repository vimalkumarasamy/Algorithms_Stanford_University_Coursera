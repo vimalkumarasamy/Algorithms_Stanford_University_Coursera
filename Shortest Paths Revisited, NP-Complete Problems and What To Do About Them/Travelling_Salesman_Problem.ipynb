{
  "nbformat": 4,
  "nbformat_minor": 0,
  "metadata": {
    "colab": {
      "name": "Travelling Salesman Problem.ipynb",
      "provenance": [],
      "collapsed_sections": [],
      "authorship_tag": "ABX9TyOPX47xfQffN3eAAczV5Mo+",
      "include_colab_link": true
    },
    "kernelspec": {
      "name": "python3",
      "display_name": "Python 3"
    }
  },
  "cells": [
    {
      "cell_type": "markdown",
      "metadata": {
        "id": "view-in-github",
        "colab_type": "text"
      },
      "source": [
        "<a href=\"https://colab.research.google.com/github/vimalkumarasamy/Algorithms_Stanford_University_Coursera/blob/master/Shortest%20Paths%20Revisited%2C%20NP-Complete%20Problems%20and%20What%20To%20Do%20About%20Them/Travelling_Salesman_Problem.ipynb\" target=\"_parent\"><img src=\"https://colab.research.google.com/assets/colab-badge.svg\" alt=\"Open In Colab\"/></a>"
      ]
    },
    {
      "cell_type": "code",
      "metadata": {
        "id": "GjZm47azgQJk",
        "colab_type": "code",
        "colab": {
          "base_uri": "https://localhost:8080/",
          "height": 35
        },
        "outputId": "81dbf47a-9095-49a3-c834-4c7855cc4a4c"
      },
      "source": [
        "from google.colab import drive\n",
        "drive.mount('/content/gdrive')"
      ],
      "execution_count": 315,
      "outputs": [
        {
          "output_type": "stream",
          "text": [
            "Drive already mounted at /content/gdrive; to attempt to forcibly remount, call drive.mount(\"/content/gdrive\", force_remount=True).\n"
          ],
          "name": "stdout"
        }
      ]
    },
    {
      "cell_type": "code",
      "metadata": {
        "id": "tDjUIPpvga81",
        "colab_type": "code",
        "colab": {}
      },
      "source": [
        "filename ='gdrive/My Drive/Algorithms/tsp.txt'\n",
        "header=False\n",
        "v=0\n",
        "coords={}\n",
        "for f in open(filename):\n",
        "  if not header:\n",
        "    n=int(f)\n",
        "    header=True\n",
        "  else:\n",
        "    f=f.replace('\\n','').split(\" \")\n",
        "    coords[v]=[float(f[0]),float(f[1])]\n",
        "    v=v+1\n",
        "\n",
        "dist_matrix=np.zeros([v,v])\n",
        "for i in coords.keys():\n",
        "  for j in coords.keys():\n",
        "    dist_matrix[i,j]=dist(coords[i],coords[j])\n",
        "coords=dist_matrix"
      ],
      "execution_count": 0,
      "outputs": []
    },
    {
      "cell_type": "code",
      "metadata": {
        "id": "tu3GYKpECF_4",
        "colab_type": "code",
        "colab": {}
      },
      "source": [
        "coords_small={}\n",
        "for i in range(3):\n",
        "  coords_small[i]=coords[i]"
      ],
      "execution_count": 0,
      "outputs": []
    },
    {
      "cell_type": "code",
      "metadata": {
        "id": "Qju-4RKdhg4y",
        "colab_type": "code",
        "colab": {}
      },
      "source": [
        "import numpy as np\n",
        "from itertools import combinations \n",
        "import copy\n",
        "import pprint as pp\n",
        "def dist(d1,d2):\n",
        "  return ((d1[0]-d2[0])**2 + (d1[1]-d2[1]) **2)**0.5\n",
        "\n",
        "coords=[[0,1,15,6],[2,0,7,3],[9,6,0,12],[10,4,8,0]]"
      ],
      "execution_count": 0,
      "outputs": []
    },
    {
      "cell_type": "code",
      "metadata": {
        "id": "l2YgqlEvYK4o",
        "colab_type": "code",
        "colab": {
          "base_uri": "https://localhost:8080/",
          "height": 104
        },
        "outputId": "f01d85fa-7bee-420d-e8f8-ee921e1b0f66"
      },
      "source": [
        "coords=[[0,1,15,6],[2,0,7,3],[9,6,0,12],[10,4,8,0]]\n",
        "coords=np.array(coords)\n",
        "s=2\n",
        "n=len(coords[0])\n",
        "A=np.zeros([n,n]).tolist()\n",
        "for i in range(n):\n",
        "  for j in range(n):\n",
        "    A[i][j]={}\n",
        "for i in range(n):\n",
        "  if i==s:\n",
        "    A[s][s]['_']=0\n",
        "  else: \n",
        "    A[i][0]['_']=coords[s][i]\n",
        "for i in range(1,n-1):\n",
        "  nodes=list(range(n))\n",
        "  nodes.remove(s)\n",
        "  combs=combinations(nodes,i)\n",
        "  combs=[list(i) for i in combs]\n",
        "  for comb in combs:\n",
        "    for j in nodes:\n",
        "      if j not in comb:\n",
        "        if len(comb)<2:\n",
        "          A[j][i]['_'+str(comb[0])+'_']=float(A[comb[0]][i-1]['_']+coords[comb[0],j])\n",
        "        else:\n",
        "          val=np.inf\n",
        "          for x in range(len(comb)):\n",
        "            residual=copy.deepcopy(comb)\n",
        "            y=residual.pop(x)\n",
        "            key='_'\n",
        "            keys=[]\n",
        "            for k in residual:\n",
        "              key=key+str(k)+'_'\n",
        "              keys=keys+[k]\n",
        "            if val>float(A[y][i-1][key]+coords[y,j]):\n",
        "              val=float(A[y][i-1][key]+coords[y,j])\n",
        "              key_final=key\n",
        "              keys_final=keys\n",
        "              y_final=y\n",
        "          key=keys_final+[y_final]\n",
        "          key.sort()\n",
        "          # print(key)\n",
        "          emp='_'\n",
        "          for k in key:\n",
        "            emp=emp+str(k)+'_'\n",
        "          # A[j][i]['_'+str(y_final)+key_final]=val\n",
        "          A[j][i][emp]=val\n",
        "\n",
        "for i in range(len(A)):\n",
        "  print(A[i])\n",
        "\n",
        "\n",
        "dist=np.inf\n",
        "for i in range(n):\n",
        "  # print(A[i][n-2])\n",
        "  if A[i][n-2]!={} and i!=s:\n",
        "    for j in A[i][n-2].keys():\n",
        "      if dist>A[i][n-2][j]+coords[i][s]:\n",
        "        dist=A[i][n-2][j]+coords[i][s]\n",
        "\n",
        "print(dist)\n",
        "        "
      ],
      "execution_count": 308,
      "outputs": [
        {
          "output_type": "stream",
          "text": [
            "[{'_': 9}, {'_1_': 8.0, '_3_': 22.0}, {'_1_3_': 18.0}, {}]\n",
            "[{'_': 6}, {'_0_': 10.0, '_3_': 16.0}, {'_0_3_': 19.0}, {}]\n",
            "[{}, {}, {'_': 0}, {}]\n",
            "[{'_': 12}, {'_0_': 15.0, '_1_': 9.0}, {'_0_1_': 13.0}, {}]\n",
            "21.0\n"
          ],
          "name": "stdout"
        }
      ]
    },
    {
      "cell_type": "code",
      "metadata": {
        "id": "aXG13vS-yUOr",
        "colab_type": "code",
        "colab": {}
      },
      "source": [
        "def shortest_path(coords,s):\n",
        "    \n",
        "  # coords=[[0,1,15,6],[2,0,7,3],[9,6,0,12],[10,4,8,0]]\n",
        "  coords=np.array(coords)\n",
        "  # s=0\n",
        "  n=len(coords[0])\n",
        "  A=np.zeros([n,n]).tolist()\n",
        "  for i in range(n):\n",
        "    for j in range(n):\n",
        "      A[i][j]={}\n",
        "  for i in range(n):\n",
        "    if i==s:\n",
        "      A[s][s]['_']=0\n",
        "    else: \n",
        "      A[i][0]['_']=coords[s][i]\n",
        "  for i in range(1,n-1):\n",
        "    print(i,\"length route complete\")\n",
        "    nodes=list(range(n))\n",
        "    nodes.remove(s)\n",
        "    combs=combinations(nodes,i)\n",
        "    combs=[list(i) for i in combs]\n",
        "    for comb in combs:\n",
        "      for j in nodes:\n",
        "        if j not in comb:\n",
        "          if len(comb)<2:\n",
        "            A[j][i]['_'+str(comb[0])+'_']=float(A[comb[0]][i-1]['_']+coords[comb[0],j])\n",
        "          else:\n",
        "            val=np.inf\n",
        "            for x in range(len(comb)):\n",
        "              residual=copy.deepcopy(comb)\n",
        "              y=residual.pop(x)\n",
        "              key='_'\n",
        "              keys=[]\n",
        "              for k in residual:\n",
        "                key=key+str(k)+'_'\n",
        "                keys=keys+[k]\n",
        "              if val>float(A[y][i-1][key]+coords[y,j]):\n",
        "                val=float(A[y][i-1][key]+coords[y,j])\n",
        "                key_final=key\n",
        "                keys_final=keys\n",
        "                y_final=y\n",
        "            key=keys_final+[y_final]\n",
        "            key.sort()\n",
        "            # print(key)\n",
        "            emp='_'\n",
        "            for k in key:\n",
        "              emp=emp+str(k)+'_'\n",
        "            # A[j][i]['_'+str(y_final)+key_final]=val\n",
        "            A[j][i][emp]=val\n",
        "\n",
        "  # for i in range(len(A)):\n",
        "  #   print(A[i])\n",
        "\n",
        "\n",
        "  dist=np.inf\n",
        "  for i in range(n):\n",
        "    if A[i][n-2]!={} and i!=s:\n",
        "      for j in A[i][n-2].keys():\n",
        "        if dist>(A[i][n-2][j])+coords[i][s]:\n",
        "          dist=(A[i][n-2][j])+coords[i][s]\n",
        "\n",
        "  # print(dist)\n",
        "  return(dist)"
      ],
      "execution_count": 0,
      "outputs": []
    },
    {
      "cell_type": "code",
      "metadata": {
        "id": "FgtSZbp7Jpjm",
        "colab_type": "code",
        "colab": {
          "base_uri": "https://localhost:8080/",
          "height": 121
        },
        "outputId": "8d58e41d-7247-46a4-8700-7d76dcd535cc"
      },
      "source": [
        "# coords=[[0,1,15,6],[2,0,7,3],[9,6,0,12],[10,4,8,0]]\n",
        "shortest_path(coords,0)"
      ],
      "execution_count": 0,
      "outputs": [
        {
          "output_type": "stream",
          "text": [
            "1 length route complete\n",
            "2 length route complete\n",
            "3 length route complete\n",
            "4 length route complete\n",
            "5 length route complete\n",
            "6 length route complete\n"
          ],
          "name": "stdout"
        }
      ]
    },
    {
      "cell_type": "code",
      "metadata": {
        "id": "jJtn8cExd0bF",
        "colab_type": "code",
        "colab": {}
      },
      "source": [
        ""
      ],
      "execution_count": 0,
      "outputs": []
    },
    {
      "cell_type": "code",
      "metadata": {
        "id": "XNib4vyYhYcD",
        "colab_type": "code",
        "colab": {}
      },
      "source": [
        ""
      ],
      "execution_count": 0,
      "outputs": []
    }
  ]
}