{
  "nbformat": 4,
  "nbformat_minor": 0,
  "metadata": {
    "colab": {
      "name": "Travelling Salesman Problem.ipynb",
      "provenance": [],
      "collapsed_sections": [],
      "authorship_tag": "ABX9TyM7+rrhmT288uQv+GYeD2e6",
      "include_colab_link": true
    },
    "kernelspec": {
      "name": "python3",
      "display_name": "Python 3"
    },
    "accelerator": "GPU"
  },
  "cells": [
    {
      "cell_type": "markdown",
      "metadata": {
        "id": "view-in-github",
        "colab_type": "text"
      },
      "source": [
        "<a href=\"https://colab.research.google.com/github/vimalkumarasamy/Algorithms_Stanford_University_Coursera/blob/master/Shortest%20Paths%20Revisited%2C%20NP-Complete%20Problems%20and%20What%20To%20Do%20About%20Them/Travelling_Salesman_Problem.ipynb\" target=\"_parent\"><img src=\"https://colab.research.google.com/assets/colab-badge.svg\" alt=\"Open In Colab\"/></a>"
      ]
    },
    {
      "cell_type": "code",
      "metadata": {
        "id": "GjZm47azgQJk",
        "colab_type": "code",
        "colab": {
          "base_uri": "https://localhost:8080/",
          "height": 34
        },
        "outputId": "8ab69e06-33b1-46e8-a8d3-5308a6ddfaa8"
      },
      "source": [
        "from google.colab import drive\n",
        "drive.mount('/content/gdrive')"
      ],
      "execution_count": 1,
      "outputs": [
        {
          "output_type": "stream",
          "text": [
            "Drive already mounted at /content/gdrive; to attempt to forcibly remount, call drive.mount(\"/content/gdrive\", force_remount=True).\n"
          ],
          "name": "stdout"
        }
      ]
    },
    {
      "cell_type": "code",
      "metadata": {
        "id": "tDjUIPpvga81",
        "colab_type": "code",
        "colab": {}
      },
      "source": [
        "import numpy as np\n",
        "from itertools import combinations \n",
        "import copy\n",
        "import pprint as pp\n",
        "def dist(d1,d2):\n",
        "  return ((d1[0]-d2[0])**2 + (d1[1]-d2[1]) **2)**0.5\n",
        "\n",
        "filename ='gdrive/My Drive/Algorithms/tsp.txt'\n",
        "header=False\n",
        "v=0\n",
        "coords={}\n",
        "for f in open(filename):\n",
        "  if not header:\n",
        "    n=int(f)\n",
        "    header=True\n",
        "  else:\n",
        "    f=f.replace('\\n','').split(\" \")\n",
        "    coords[v]=[float(f[0]),float(f[1])]\n",
        "    v=v+1\n",
        "\n",
        "dist_matrix=np.zeros([v,v])\n",
        "for i in range(v):\n",
        "  for j in range(v):\n",
        "    dist_matrix[i,j]=dist(coords[i],coords[j])\n"
      ],
      "execution_count": 0,
      "outputs": []
    },
    {
      "cell_type": "code",
      "metadata": {
        "id": "O9Jf3yZHvlTR",
        "colab_type": "code",
        "colab": {
          "base_uri": "https://localhost:8080/",
          "height": 265
        },
        "outputId": "a21a1cce-c0f3-42fc-815b-f1306a983f9e"
      },
      "source": [
        "import pandas as pd\n",
        "coords_pd=pd.DataFrame.from_dict(coords,orient='index')\n",
        "import matplotlib.pyplot as plt\n",
        "x=coords_pd[0].tolist()\n",
        "y=coords_pd[1].tolist()\n",
        "n = list(range(len(x)))\n",
        "\n",
        "fig, ax = plt.subplots()\n",
        "ax.scatter(x, y)\n",
        "\n",
        "for i, txt in enumerate(n):\n",
        "    ax.annotate(txt, (x[i], y[i]))"
      ],
      "execution_count": 47,
      "outputs": [
        {
          "output_type": "display_data",
          "data": {
            "image/png": "[encoded data removed]",
            "text/plain": [
              "<Figure size 432x288 with 1 Axes>"
            ]
          },
          "metadata": {
            "tags": [],
            "needs_background": "light"
          }
        }
      ]
    },
    {
      "cell_type": "code",
      "metadata": {
        "id": "l2YgqlEvYK4o",
        "colab_type": "code",
        "colab": {}
      },
      "source": [
        "# Lets make this into 2 graphs\n",
        "# between 0 and 12 \n",
        "# between 11 and 25 \n",
        "# compute the individual lengths and subtract 11 to 12 length twice as it\n",
        "# 13\n",
        "\n",
        "set_1=[coords[i] for i in range(13)]\n",
        "dist_1=np.zeros([len(set_1),len(set_1)])\n",
        "for i in range(len(set_1)):\n",
        "  for j in range(len(set_1)):\n",
        "    dist_1[i,j]=dist(set_1[i],set_1[j])\n",
        "\n",
        "set_2=[coords[i] for i in range(11,25)]\n",
        "dist_2=np.zeros([len(set_2),len(set_2)])\n",
        "for i in range(len(set_2)):\n",
        "  for j in range(len(set_2)):\n",
        "    dist_2[i,j]=dist(set_2[i],set_2[j])\n",
        "\n"
      ],
      "execution_count": 0,
      "outputs": []
    },
    {
      "cell_type": "code",
      "metadata": {
        "id": "aXG13vS-yUOr",
        "colab_type": "code",
        "colab": {}
      },
      "source": [
        "def shortest_path(coords):\n",
        "    \n",
        "  # coords=[[0,1,15,6],[2,0,7,3],[9,6,0,12],[10,4,8,0]]\n",
        "  coords=np.array(coords)\n",
        "  s=0\n",
        "  n=len(coords[0])\n",
        "  A=np.zeros([n,n]).tolist()\n",
        "  for i in range(n):\n",
        "    for j in range(n):\n",
        "      A[i][j]={}\n",
        "  for i in range(n):\n",
        "    if i==s:\n",
        "      A[s][s]['_']=0\n",
        "    else: \n",
        "      A[i][0]['_']=coords[s][i]\n",
        "  for i in range(1,n-1):\n",
        "    print(i,\"length route complete\")\n",
        "    nodes=list(range(n))\n",
        "    nodes.remove(s)\n",
        "    combs=combinations(nodes,i)\n",
        "    combs=[list(i) for i in combs]\n",
        "    for comb in combs:\n",
        "      for j in nodes:\n",
        "        if j not in comb:\n",
        "          if len(comb)<2:\n",
        "            A[j][i]['_'+str(comb[0])+'_']=float(A[comb[0]][i-1]['_']+coords[comb[0],j])\n",
        "          else:\n",
        "            val=np.inf\n",
        "            for x in range(len(comb)):\n",
        "              residual=copy.deepcopy(comb)\n",
        "              y=residual.pop(x)\n",
        "              key='_'\n",
        "              keys=[]\n",
        "              for k in residual:\n",
        "                key=key+str(k)+'_'\n",
        "                keys=keys+[k]\n",
        "              if val>float(A[y][i-1][key]+coords[y,j]):\n",
        "                val=float(A[y][i-1][key]+coords[y,j])\n",
        "                key_final=key\n",
        "                keys_final=keys\n",
        "                y_final=y\n",
        "            key=keys_final+[y_final]\n",
        "            key.sort()\n",
        "            # print(key)\n",
        "            emp='_'\n",
        "            for k in key:\n",
        "              emp=emp+str(k)+'_'\n",
        "            # A[j][i]['_'+str(y_final)+key_final]=val\n",
        "            A[j][i][emp]=val\n",
        "\n",
        "  # for i in range(len(A)):\n",
        "  #   print(A[i])\n",
        "\n",
        "\n",
        "  dist=np.inf\n",
        "  for i in range(n):\n",
        "    if A[i][n-2]!={} and i!=s:\n",
        "      for j in A[i][n-2].keys():\n",
        "        if dist>(A[i][n-2][j])+coords[i][s]:\n",
        "          dist=(A[i][n-2][j])+coords[i][s]\n",
        "\n",
        "  # print(dist)\n",
        "  return(dist)"
      ],
      "execution_count": 0,
      "outputs": []
    },
    {
      "cell_type": "code",
      "metadata": {
        "id": "FgtSZbp7Jpjm",
        "colab_type": "code",
        "colab": {
          "base_uri": "https://localhost:8080/",
          "height": 476
        },
        "outputId": "f766c3fd-b0d9-489e-8117-1460110fec85"
      },
      "source": [
        "print(\"First graph\")\n",
        "c1=shortest_path(dist_1)\n",
        "print(\"Second graph\")\n",
        "c2=shortest_path(dist_2)\n",
        "# as the edge between node 11 and 12 got counted in both the small graphs, we need to subtract the same twice from the overall tour length\n",
        "final=c1+c2-2*dist(coords[11],coords[12])\n",
        "print(\"Overall tour cost\")\n",
        "print(int(final))"
      ],
      "execution_count": 65,
      "outputs": [
        {
          "output_type": "stream",
          "text": [
            "First graph\n",
            "1 length route complete\n",
            "2 length route complete\n",
            "3 length route complete\n",
            "4 length route complete\n",
            "5 length route complete\n",
            "6 length route complete\n",
            "7 length route complete\n",
            "8 length route complete\n",
            "9 length route complete\n",
            "10 length route complete\n",
            "11 length route complete\n",
            "Second graph\n",
            "1 length route complete\n",
            "2 length route complete\n",
            "3 length route complete\n",
            "4 length route complete\n",
            "5 length route complete\n",
            "6 length route complete\n",
            "7 length route complete\n",
            "8 length route complete\n",
            "9 length route complete\n",
            "10 length route complete\n",
            "11 length route complete\n",
            "12 length route complete\n",
            "Overall tour cost\n",
            "26442\n"
          ],
          "name": "stdout"
        }
      ]
    },
    {
      "cell_type": "code",
      "metadata": {
        "id": "jJtn8cExd0bF",
        "colab_type": "code",
        "colab": {}
      },
      "source": [
        ""
      ],
      "execution_count": 0,
      "outputs": []
    },
    {
      "cell_type": "code",
      "metadata": {
        "id": "XNib4vyYhYcD",
        "colab_type": "code",
        "colab": {}
      },
      "source": [
        "# Implementing on a sample network from https://www.youtube.com/watch?v=-JjA4BLQyqE\n",
        "coords=[[0,1,15,6],[2,0,7,3],[9,6,0,12],[10,4,8,0]]\n",
        "coords=np.array(coords)\n",
        "s=2\n",
        "n=len(coords[0])\n",
        "A=np.zeros([n,n]).tolist()\n",
        "for i in range(n):\n",
        "  for j in range(n):\n",
        "    A[i][j]={}\n",
        "for i in range(n):\n",
        "  if i==s:\n",
        "    A[s][s]['_']=0\n",
        "  else: \n",
        "    A[i][0]['_']=coords[s][i]\n",
        "for i in range(1,n-1):\n",
        "  nodes=list(range(n))\n",
        "  nodes.remove(s)\n",
        "  combs=combinations(nodes,i)\n",
        "  combs=[list(i) for i in combs]\n",
        "  for comb in combs:\n",
        "    for j in nodes:\n",
        "      if j not in comb:\n",
        "        if len(comb)<2:\n",
        "          A[j][i]['_'+str(comb[0])+'_']=float(A[comb[0]][i-1]['_']+coords[comb[0],j])\n",
        "        else:\n",
        "          val=np.inf\n",
        "          for x in range(len(comb)):\n",
        "            residual=copy.deepcopy(comb)\n",
        "            y=residual.pop(x)\n",
        "            key='_'\n",
        "            keys=[]\n",
        "            for k in residual:\n",
        "              key=key+str(k)+'_'\n",
        "              keys=keys+[k]\n",
        "            if val>float(A[y][i-1][key]+coords[y,j]):\n",
        "              val=float(A[y][i-1][key]+coords[y,j])\n",
        "              key_final=key\n",
        "              keys_final=keys\n",
        "              y_final=y\n",
        "          key=keys_final+[y_final]\n",
        "          key.sort()\n",
        "          # print(key)\n",
        "          emp='_'\n",
        "          for k in key:\n",
        "            emp=emp+str(k)+'_'\n",
        "          # A[j][i]['_'+str(y_final)+key_final]=val\n",
        "          A[j][i][emp]=val\n",
        "\n",
        "for i in range(len(A)):\n",
        "  print(A[i])\n",
        "\n",
        "\n",
        "dist=np.inf\n",
        "for i in range(n):\n",
        "  # print(A[i][n-2])\n",
        "  if A[i][n-2]!={} and i!=s:\n",
        "    for j in A[i][n-2].keys():\n",
        "      if dist>A[i][n-2][j]+coords[i][s]:\n",
        "        dist=A[i][n-2][j]+coords[i][s]\n",
        "\n",
        "print(dist)\n",
        "        "
      ],
      "execution_count": 0,
      "outputs": []
    }
  ]
}