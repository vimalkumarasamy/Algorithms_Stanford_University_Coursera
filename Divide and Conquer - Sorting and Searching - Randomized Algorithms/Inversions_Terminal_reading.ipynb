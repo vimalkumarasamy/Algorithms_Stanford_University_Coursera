{
  "nbformat": 4,
  "nbformat_minor": 0,
  "metadata": {
    "colab": {
      "name": "Inversions_Terminal_reading.ipynb",
      "provenance": [],
      "authorship_tag": "ABX9TyNsK6WKTQCHfIx5ga2oSAkI",
      "include_colab_link": true
    },
    "kernelspec": {
      "name": "python3",
      "display_name": "Python 3"
    }
  },
  "cells": [
    {
      "cell_type": "markdown",
      "metadata": {
        "id": "view-in-github",
        "colab_type": "text"
      },
      "source": [
        "<a href=\"https://colab.research.google.com/github/vimalkumarasamy/Algorithms_Stanford_University_Coursera/blob/master/Divide%20and%20Conquer%20-%20Sorting%20and%20Searching%20-%20Randomized%20Algorithms/Inversions_Terminal_reading.ipynb\" target=\"_parent\"><img src=\"https://colab.research.google.com/assets/colab-badge.svg\" alt=\"Open In Colab\"/></a>"
      ]
    },
    {
      "cell_type": "code",
      "metadata": {
        "id": "wtrEpQRBKiEb",
        "colab_type": "code",
        "colab": {}
      },
      "source": [
        "# Parent function to create a temporary placeholder for sorted array and calling the working functions\n",
        "def mergeSort(arr, n): \n",
        "    # A temp is created as array is mutable in python\n",
        "    temp = [0]*n \n",
        "    return mergeSort_recursive(arr, temp, 0, n-1) \n",
        "  \n",
        "# This is working function which recursively calls itself until the length of the array falls below 2, and leverages merge function to count the inversions\n",
        "def mergeSort_recursive(arr, temp, left, right): \n",
        "    # For every instance of mergeSort, inversion count in it will be initiated as 0\n",
        "    # integer variables are immutable in python\n",
        "    inversion_count = 0\n",
        "    # Left would be the first index (0) and right would be the last index -1\n",
        "    # if the length of the array is less than 2, then left would be equal to right so the below indended code won't run and 0 is returned in this instance\n",
        "    if left < right: \n",
        "        # Floor division to split the array approximately equal\n",
        "        mid = (left + right)//2\n",
        "        # recursion for left subarray\n",
        "        inversion_count += mergeSort_recursive(arr, temp, left, mid) \n",
        "        # recursion for left subarray \n",
        "        inversion_count += mergeSort_recursive(arr, temp, mid + 1, right) \n",
        "        # merging operation to account for the inversions between the 2 subarrays\n",
        "        inversion_count += merge(arr, temp, left, mid, right) \n",
        "    return inversion_count \n",
        "  \n",
        "# This function to account for the inversions between 2 subarrays, while merging the two - the running time for this array is 0(n)\n",
        "def merge(arr, temp, left, mid, right): \n",
        "    i,j,k,inversion_count = left,mid+1,left,0     \n",
        "    # checking if the boundary conditions are valid for comparison\n",
        "    while i <= mid and j <= right: \n",
        "        # no inversion required in this case\n",
        "        if arr[i] <= arr[j]: \n",
        "            temp[k] = arr[i] \n",
        "            k += 1\n",
        "            i += 1\n",
        "        # inversion required\n",
        "        else: \n",
        "            temp[k] = arr[j] \n",
        "            # inversion count is incremented by number of remaining elements in the left subarray+1\n",
        "            inversion_count += (mid-i + 1) \n",
        "            k += 1\n",
        "            j += 1\n",
        "    # when the comparison ended with pending elements in either left or right array the below while loops copy it to the temp\n",
        "    while i <= mid: \n",
        "        temp[k] = arr[i] \n",
        "        k += 1\n",
        "        i += 1\n",
        "    while j <= right: \n",
        "        temp[k] = arr[j] \n",
        "        k += 1\n",
        "        j += 1\n",
        "    # Ensuring that the temp array is copied to the actual array for the given range    \n",
        "    for loop_var in range(left, right + 1): \n",
        "        arr[loop_var] = temp[loop_var] \n",
        "    return inversion_count"
      ],
      "execution_count": 0,
      "outputs": []
    },
    {
      "cell_type": "code",
      "metadata": {
        "id": "TTIoOnvYLKfR",
        "colab_type": "code",
        "colab": {}
      },
      "source": [
        "l = int(input())\n",
        "arr=[]\n",
        "for i in range(l):\n",
        "    arr.append(int(input())\n",
        "\n"
      ],
      "execution_count": 0,
      "outputs": []
    },
    {
      "cell_type": "code",
      "metadata": {
        "id": "rGNpNZ3KLNzg",
        "colab_type": "code",
        "colab": {
          "base_uri": "https://localhost:8080/",
          "height": 34
        },
        "outputId": "fcd35dbf-bd89-4df1-b819-ce90e89a2804"
      },
      "source": [
        "from google.colab import drive\n",
        "drive.mount('/content/gdrive')\n"
      ],
      "execution_count": 11,
      "outputs": [
        {
          "output_type": "stream",
          "text": [
            "Drive already mounted at /content/gdrive; to attempt to forcibly remount, call drive.mount(\"/content/gdrive\", force_remount=True).\n"
          ],
          "name": "stdout"
        }
      ]
    },
    {
      "cell_type": "code",
      "metadata": {
        "id": "Lb6ieibRieNk",
        "colab_type": "code",
        "colab": {}
      },
      "source": [
        "path='gdrive/My Drive/Algorithms/input5.txt'\n"
      ],
      "execution_count": 0,
      "outputs": []
    },
    {
      "cell_type": "code",
      "metadata": {
        "id": "r9BA2DEwjky_",
        "colab_type": "code",
        "colab": {
          "base_uri": "https://localhost:8080/",
          "height": 153
        },
        "outputId": "62922315-90ff-44b0-a2b3-35aa9a392028"
      },
      "source": [
        "import pandas as pd\n",
        "df = pd.read_csv(path, index_col=False, header=0);\n",
        "series = df.ix[:,0]\n",
        "arr=series.to_list()"
      ],
      "execution_count": 42,
      "outputs": [
        {
          "output_type": "stream",
          "text": [
            "/usr/local/lib/python3.6/dist-packages/ipykernel_launcher.py:2: FutureWarning: \n",
            ".ix is deprecated. Please use\n",
            ".loc for label based indexing or\n",
            ".iloc for positional indexing\n",
            "\n",
            "See the documentation here:\n",
            "http://pandas.pydata.org/pandas-docs/stable/user_guide/indexing.html#ix-indexer-is-deprecated\n",
            "  \n"
          ],
          "name": "stderr"
        }
      ]
    },
    {
      "cell_type": "code",
      "metadata": {
        "id": "FU8EnLCvr79m",
        "colab_type": "code",
        "colab": {
          "base_uri": "https://localhost:8080/",
          "height": 34
        },
        "outputId": "bee2423e-0e72-4791-f583-d0933acda48d"
      },
      "source": [
        "mergeSort(arr,len(arr))"
      ],
      "execution_count": 43,
      "outputs": [
        {
          "output_type": "execute_result",
          "data": {
            "text/plain": [
              "250033099559"
            ]
          },
          "metadata": {
            "tags": []
          },
          "execution_count": 43
        }
      ]
    },
    {
      "cell_type": "code",
      "metadata": {
        "id": "ecxqMH11seEQ",
        "colab_type": "code",
        "colab": {}
      },
      "source": [
        ""
      ],
      "execution_count": 0,
      "outputs": []
    },
    {
      "cell_type": "code",
      "metadata": {
        "id": "30w9hhK3sfqS",
        "colab_type": "code",
        "colab": {}
      },
      "source": [
        ""
      ],
      "execution_count": 0,
      "outputs": []
    },
    {
      "cell_type": "code",
      "metadata": {
        "id": "nYAVCCtTtA_u",
        "colab_type": "code",
        "colab": {}
      },
      "source": [
        ""
      ],
      "execution_count": 0,
      "outputs": []
    },
    {
      "cell_type": "code",
      "metadata": {
        "id": "mF8Ny1S7tB-i",
        "colab_type": "code",
        "colab": {}
      },
      "source": [
        ""
      ],
      "execution_count": 0,
      "outputs": []
    }
  ]
}