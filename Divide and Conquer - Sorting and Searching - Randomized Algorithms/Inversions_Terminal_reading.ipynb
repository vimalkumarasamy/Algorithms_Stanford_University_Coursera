{
  "nbformat": 4,
  "nbformat_minor": 0,
  "metadata": {
    "colab": {
      "name": "Inversions_Terminal_reading.ipynb",
      "provenance": [],
      "authorship_tag": "ABX9TyPr5CV07S7GotqjY579V5fI",
      "include_colab_link": true
    },
    "kernelspec": {
      "name": "python3",
      "display_name": "Python 3"
    }
  },
  "cells": [
    {
      "cell_type": "markdown",
      "metadata": {
        "id": "view-in-github",
        "colab_type": "text"
      },
      "source": [
        "<a href=\"https://colab.research.google.com/github/vimalkumarasamy/Algorithms_Stanford_University_Coursera/blob/master/Divide%20and%20Conquer%20-%20Sorting%20and%20Searching%20-%20Randomized%20Algorithms/Inversions_Terminal_reading.ipynb\" target=\"_parent\"><img src=\"https://colab.research.google.com/assets/colab-badge.svg\" alt=\"Open In Colab\"/></a>"
      ]
    },
    {
      "cell_type": "code",
      "metadata": {
        "id": "wtrEpQRBKiEb",
        "colab_type": "code",
        "colab": {
          "base_uri": "https://localhost:8080/",
          "height": 68
        },
        "outputId": "062af71a-236b-4e3c-f2eb-bbab4f2950b9"
      },
      "source": [
        "n = int(input())\n",
        "arr=[]\n",
        "for i in range(n):\n",
        "  arr.append(int(input()))"
      ],
      "execution_count": 5,
      "outputs": [
        {
          "output_type": "stream",
          "text": [
            "2\n",
            "1\n",
            "3\n"
          ],
          "name": "stdout"
        }
      ]
    },
    {
      "cell_type": "code",
      "metadata": {
        "id": "TTIoOnvYLKfR",
        "colab_type": "code",
        "colab": {}
      },
      "source": [
        "# Function to Use Inversion Count \n",
        "def mergeSort(arr, n): \n",
        "    # A temp_arr is created to store \n",
        "    # sorted array in merge function \n",
        "    temp_arr = [0]*n \n",
        "    return _mergeSort(arr, temp_arr, 0, n-1) \n",
        "  \n",
        "# This Function will use MergeSort to count inversions \n",
        "def _mergeSort(arr, temp_arr, left, right): \n",
        "    # A variable inv_count is used to store \n",
        "    # inversion counts in each recursive call \n",
        "    inv_count = 0\n",
        "    # We will make a recursive call if and only if \n",
        "    # we have more than one elements \n",
        "    if left < right: \n",
        "        # mid is calculated to divide the array into two subarrays \n",
        "        # Floor division is must in case of python \n",
        "        mid = (left + right)//2\n",
        "        # It will calculate inversion counts in the left subarray \n",
        "        inv_count += _mergeSort(arr, temp_arr, left, mid) \n",
        "        # It will calculate inversion counts in right subarray \n",
        "        inv_count += _mergeSort(arr, temp_arr, mid + 1, right) \n",
        "        # It will merge two subarrays in a sorted subarray \n",
        "        inv_count += merge(arr, temp_arr, left, mid, right) \n",
        "    return inv_count \n",
        "  \n",
        "# This function will merge two subarrays in a single sorted subarray \n",
        "def merge(arr, temp_arr, left, mid, right): \n",
        "    i = left     # Starting index of left subarray \n",
        "    j = mid + 1 # Starting index of right subarray \n",
        "    k = left     # Starting index of to be sorted subarray \n",
        "    inv_count = 0\n",
        "    # Conditions are checked to make sure that i and j don't exceed their \n",
        "    # subarray limits. \n",
        "    while i <= mid and j <= right: \n",
        "        # There will be no inversion if arr[i] <= arr[j] \n",
        "        if arr[i] <= arr[j]: \n",
        "            temp_arr[k] = arr[i] \n",
        "            k += 1\n",
        "            i += 1\n",
        "        else: \n",
        "            # Inversion will occur. \n",
        "            temp_arr[k] = arr[j] \n",
        "            inv_count += (mid-i + 1) \n",
        "            k += 1\n",
        "            j += 1\n",
        "    # Copy the remaining elements of left subarray into temporary array \n",
        "    while i <= mid: \n",
        "        temp_arr[k] = arr[i] \n",
        "        k += 1\n",
        "        i += 1\n",
        "    # Copy the remaining elements of right subarray into temporary array \n",
        "    while j <= right: \n",
        "        temp_arr[k] = arr[j] \n",
        "        k += 1\n",
        "        j += 1\n",
        "    # Copy the sorted subarray into Original array \n",
        "    for loop_var in range(left, right + 1): \n",
        "        arr[loop_var] = temp_arr[loop_var] \n",
        "    return inv_count \n",
        "  \n",
        "result = mergeSort(arr, n) \n",
        "print(\"Number of inversions are\", result)\n"
      ],
      "execution_count": 0,
      "outputs": []
    },
    {
      "cell_type": "code",
      "metadata": {
        "id": "rGNpNZ3KLNzg",
        "colab_type": "code",
        "colab": {}
      },
      "source": [
        ""
      ],
      "execution_count": 0,
      "outputs": []
    }
  ]
}