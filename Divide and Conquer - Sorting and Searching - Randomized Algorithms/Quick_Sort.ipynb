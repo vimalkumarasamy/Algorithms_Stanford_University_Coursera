{
  "nbformat": 4,
  "nbformat_minor": 0,
  "metadata": {
    "colab": {
      "name": "Quick_Sort.ipynb",
      "provenance": [],
      "collapsed_sections": [],
      "authorship_tag": "ABX9TyPK+e/wtj8dkAchoDyFPaL4",
      "include_colab_link": true
    },
    "kernelspec": {
      "name": "python3",
      "display_name": "Python 3"
    }
  },
  "cells": [
    {
      "cell_type": "markdown",
      "metadata": {
        "id": "view-in-github",
        "colab_type": "text"
      },
      "source": [
        "<a href=\"https://colab.research.google.com/github/vimalkumarasamy/Algorithms_Stanford_University_Coursera/blob/master/Divide%20and%20Conquer%20-%20Sorting%20and%20Searching%20-%20Randomized%20Algorithms/Quick_Sort.ipynb\" target=\"_parent\"><img src=\"https://colab.research.google.com/assets/colab-badge.svg\" alt=\"Open In Colab\"/></a>"
      ]
    },
    {
      "cell_type": "code",
      "metadata": {
        "id": "kwOdPLL7wXUX",
        "colab_type": "code",
        "colab": {
          "base_uri": "https://localhost:8080/",
          "height": 124
        },
        "outputId": "489ad431-9282-4e88-ad1a-a1135bc15a05"
      },
      "source": [
        "from google.colab import drive\n",
        "drive.mount('/content/gdrive')"
      ],
      "execution_count": 1,
      "outputs": [
        {
          "output_type": "stream",
          "text": [
            "Go to this URL in a browser: https://accounts.google.com/o/oauth2/auth?client_id=947318989803-6bn6qk8qdgf4n4g3pfee6491hc0brc4i.apps.googleusercontent.com&redirect_uri=urn%3aietf%3awg%3aoauth%3a2.0%3aoob&response_type=code&scope=email%20https%3a%2f%2fwww.googleapis.com%2fauth%2fdocs.test%20https%3a%2f%2fwww.googleapis.com%2fauth%2fdrive%20https%3a%2f%2fwww.googleapis.com%2fauth%2fdrive.photos.readonly%20https%3a%2f%2fwww.googleapis.com%2fauth%2fpeopleapi.readonly\n",
            "\n",
            "Enter your authorization code:\n",
            "··········\n",
            "Mounted at /content/gdrive\n"
          ],
          "name": "stdout"
        }
      ]
    },
    {
      "cell_type": "code",
      "metadata": {
        "id": "hQOzSE3bw2Cx",
        "colab_type": "code",
        "colab": {}
      },
      "source": [
        "path='gdrive/My Drive/Algorithms/quick_sort_data.txt'"
      ],
      "execution_count": 0,
      "outputs": []
    },
    {
      "cell_type": "code",
      "metadata": {
        "id": "HU9xTAV1xBwJ",
        "colab_type": "code",
        "colab": {}
      },
      "source": [
        "fp=open(path,'r+');\n",
        "arr=[]\n",
        "for i in fp:\n",
        "  i=i.replace(\"\\n\", \"\")\n",
        "  i=int(i)\n",
        "  arr=arr+[i]"
      ],
      "execution_count": 0,
      "outputs": []
    },
    {
      "cell_type": "code",
      "metadata": {
        "id": "WGyVCCmpxNVE",
        "colab_type": "code",
        "colab": {}
      },
      "source": [
        "# couting the number of comparisons\n",
        "\n",
        "def count_comparisons(sequence):\n",
        "  pivot=sequence[0]\n",
        "  comparison=len(sequence)-1\n",
        "  i=1\n",
        "  j=1\n",
        "  for pos in range(1,len(sequence)+1):\n",
        "    if sequence[pos]>pivot:\n",
        "      j+=1\n",
        "    else:\n",
        "      \n",
        "\n",
        "\n",
        "\n",
        "    \n"
      ],
      "execution_count": 0,
      "outputs": []
    },
    {
      "cell_type": "code",
      "metadata": {
        "id": "r8DgQ_iMxPUS",
        "colab_type": "code",
        "colab": {}
      },
      "source": [
        ""
      ],
      "execution_count": 0,
      "outputs": []
    }
  ]
}