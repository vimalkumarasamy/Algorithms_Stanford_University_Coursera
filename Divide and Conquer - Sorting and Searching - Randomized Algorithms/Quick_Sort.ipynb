{
  "nbformat": 4,
  "nbformat_minor": 0,
  "metadata": {
    "colab": {
      "name": "Quick_Sort.ipynb",
      "provenance": [],
      "collapsed_sections": [],
      "authorship_tag": "ABX9TyMNlXgm0yRrL+9xaGIJQcCE",
      "include_colab_link": true
    },
    "kernelspec": {
      "name": "python3",
      "display_name": "Python 3"
    }
  },
  "cells": [
    {
      "cell_type": "markdown",
      "metadata": {
        "id": "view-in-github",
        "colab_type": "text"
      },
      "source": [
        "<a href=\"https://colab.research.google.com/github/vimalkumarasamy/Algorithms_Stanford_University_Coursera/blob/master/Divide%20and%20Conquer%20-%20Sorting%20and%20Searching%20-%20Randomized%20Algorithms/Quick_Sort.ipynb\" target=\"_parent\"><img src=\"https://colab.research.google.com/assets/colab-badge.svg\" alt=\"Open In Colab\"/></a>"
      ]
    },
    {
      "cell_type": "code",
      "metadata": {
        "id": "kwOdPLL7wXUX",
        "colab_type": "code",
        "colab": {
          "base_uri": "https://localhost:8080/",
          "height": 122
        },
        "outputId": "489ad431-9282-4e88-ad1a-a1135bc15a05"
      },
      "source": [
        "from google.colab import drive\n",
        "drive.mount('/content/gdrive')"
      ],
      "execution_count": 1,
      "outputs": [
        {
          "output_type": "stream",
          "text": [
            "Go to this URL in a browser: https://accounts.google.com/o/oauth2/auth?client_id=947318989803-6bn6qk8qdgf4n4g3pfee6491hc0brc4i.apps.googleusercontent.com&redirect_uri=urn%3aietf%3awg%3aoauth%3a2.0%3aoob&response_type=code&scope=email%20https%3a%2f%2fwww.googleapis.com%2fauth%2fdocs.test%20https%3a%2f%2fwww.googleapis.com%2fauth%2fdrive%20https%3a%2f%2fwww.googleapis.com%2fauth%2fdrive.photos.readonly%20https%3a%2f%2fwww.googleapis.com%2fauth%2fpeopleapi.readonly\n",
            "\n",
            "Enter your authorization code:\n",
            "··········\n",
            "Mounted at /content/gdrive\n"
          ],
          "name": "stdout"
        }
      ]
    },
    {
      "cell_type": "code",
      "metadata": {
        "id": "hQOzSE3bw2Cx",
        "colab_type": "code",
        "colab": {}
      },
      "source": [
        "path='gdrive/My Drive/Algorithms/quick_sort_data.txt'"
      ],
      "execution_count": 0,
      "outputs": []
    },
    {
      "cell_type": "code",
      "metadata": {
        "id": "HU9xTAV1xBwJ",
        "colab_type": "code",
        "colab": {}
      },
      "source": [
        "fp=open(path,'r+');\n",
        "arr=[]\n",
        "for i in fp:\n",
        "  i=i.replace(\"\\n\", \"\")\n",
        "  i=int(i)\n",
        "  arr=arr+[i]"
      ],
      "execution_count": 0,
      "outputs": []
    },
    {
      "cell_type": "code",
      "metadata": {
        "id": "WGyVCCmpxNVE",
        "colab_type": "code",
        "colab": {}
      },
      "source": [
        "# Implementing Quick sort and couting the number of comparisons\n",
        "# Pivot is the first element\n",
        "def quick_sort_first_pivot(sequence,comp=0):\n",
        "  if len(sequence)<2:\n",
        "    return(sequence,comp)\n",
        "  else:\n",
        "    pivot=sequence[0]\n",
        "    i=1\n",
        "    j=1\n",
        "    for pos in range(1,len(sequence)):\n",
        "      if sequence[pos]>pivot:\n",
        "        j+=1\n",
        "      else:\n",
        "        temp=sequence[i]\n",
        "        sequence[i]=sequence[pos]\n",
        "        sequence[pos]=temp\n",
        "        i+=1\n",
        "        j+=1\n",
        "    comp+=len(sequence)-1\n",
        "    temp=sequence[i-1]\n",
        "    sequence[i-1]=pivot\n",
        "    sequence[0]=temp    \n",
        "    seq1=sequence[:i-1]\n",
        "    seq2=sequence[i:]\n",
        "    seq1,comp=quick_sort_first_pivot(seq1,comp)\n",
        "    seq2,comp=quick_sort_first_pivot(seq2,comp)\n",
        "    sorted_sequence=seq1+[pivot]+seq2\n",
        "    return(sorted_sequence,comp)"
      ],
      "execution_count": 0,
      "outputs": []
    },
    {
      "cell_type": "code",
      "metadata": {
        "id": "r8DgQ_iMxPUS",
        "colab_type": "code",
        "colab": {
          "base_uri": "https://localhost:8080/",
          "height": 34
        },
        "outputId": "940ccf0a-d55e-45c6-d851-785c4698c1b3"
      },
      "source": [
        "sequence=arr.copy()\n",
        "results=quick_sort_first_pivot(sequence)\n",
        "results[1]"
      ],
      "execution_count": 223,
      "outputs": [
        {
          "output_type": "execute_result",
          "data": {
            "text/plain": [
              "162085"
            ]
          },
          "metadata": {
            "tags": []
          },
          "execution_count": 223
        }
      ]
    },
    {
      "cell_type": "code",
      "metadata": {
        "id": "QnLYJ4jz6YJ1",
        "colab_type": "code",
        "colab": {}
      },
      "source": [
        "# Implementing Quick sort and couting the number of comparisons\n",
        "# Pivot is the last element\n",
        "def quick_sort_last_pivot(sequence,comp=0):\n",
        "  if len(sequence)<2:\n",
        "    return(sequence,comp)\n",
        "  else:\n",
        "    pivot=sequence[-1]\n",
        "    i=0\n",
        "    j=0\n",
        "    for pos in range(0,len(sequence)-1):\n",
        "      if sequence[pos]>pivot:\n",
        "        j+=1\n",
        "      else:\n",
        "        temp=sequence[i]\n",
        "        sequence[i]=sequence[pos]\n",
        "        sequence[pos]=temp\n",
        "        i+=1\n",
        "        j+=1\n",
        "    comp+=len(sequence)-1\n",
        "\n",
        "    temp=sequence[i]\n",
        "    sequence[i]=pivot\n",
        "    sequence[-1]=temp    \n",
        "    seq1=sequence[:i]\n",
        "    seq2=sequence[i+1:]\n",
        "    seq1,comp=quick_sort_last_pivot(seq1,comp)\n",
        "    seq2,comp=quick_sort_last_pivot(seq2,comp)\n",
        "    sorted_sequence=seq1+[pivot]+seq2\n",
        "    return(sorted_sequence,comp)\n"
      ],
      "execution_count": 0,
      "outputs": []
    },
    {
      "cell_type": "code",
      "metadata": {
        "id": "3QEsBK3g6dz5",
        "colab_type": "code",
        "colab": {
          "base_uri": "https://localhost:8080/",
          "height": 34
        },
        "outputId": "fc86856d-64cf-4770-980f-c80b3f41ad68"
      },
      "source": [
        "sequence=arr.copy()\n",
        "results=quick_sort_last_pivot(sequence)\n",
        "results[1]"
      ],
      "execution_count": 235,
      "outputs": [
        {
          "output_type": "execute_result",
          "data": {
            "text/plain": [
              "160361"
            ]
          },
          "metadata": {
            "tags": []
          },
          "execution_count": 235
        }
      ]
    },
    {
      "cell_type": "code",
      "metadata": {
        "id": "FgJKU8UqFBvf",
        "colab_type": "code",
        "colab": {}
      },
      "source": [
        "# Implementing Quick sort and couting the number of comparisons\n",
        "# Pivot is the median of first, last and middle element\n",
        "def quick_sort_median_pivot(sequence,comp=0):\n",
        "  import statistics\n",
        "  if len(sequence)<2:\n",
        "    return(sequence,comp)\n",
        "  else:\n",
        "    a=sequence[0]\n",
        "    b=sequence[-1]\n",
        "    if len(sequence)%2==1:\n",
        "      c=sequence[(len(sequence)//2)]\n",
        "    else:\n",
        "      c=sequence[(len(sequence)//2)-1]\n",
        "    pivot=statistics.median([a,b,c])\n",
        "\n",
        "    i=0\n",
        "    j=len(sequence)-1\n",
        "    sequence_sorted=sequence.copy()\n",
        "    for pos in range(len(sequence)):\n",
        "      if sequence[pos]!=pivot:\n",
        "        if sequence[pos]>pivot:\n",
        "          sequence_sorted[j]=sequence[pos]\n",
        "          j=j-1\n",
        "        elif sequence[pos]<pivot:\n",
        "          sequence_sorted[i]=sequence[pos]\n",
        "          i=i+1\n",
        "        else:\n",
        "          pass\n",
        "      else:\n",
        "        pass\n",
        "      sequence_sorted[i]=pivot\n",
        "    comp+=len(sequence)-1\n",
        "    seq1=sequence[:i]\n",
        "    seq2=sequence[i+1:]\n",
        "    seq1,comp=quick_sort_median_pivot(seq1,comp)\n",
        "    seq2,comp=quick_sort_median_pivot(seq2,comp)\n",
        "    sorted_sequence=seq1+[pivot]+seq2\n",
        "    return(sorted_sequence,comp)\n"
      ],
      "execution_count": 0,
      "outputs": []
    },
    {
      "cell_type": "code",
      "metadata": {
        "id": "IiJ6raFmFDVK",
        "colab_type": "code",
        "colab": {
          "base_uri": "https://localhost:8080/",
          "height": 34
        },
        "outputId": "0b6f28af-9fea-4262-953a-1680e0578c85"
      },
      "source": [
        "seq=[1,2,3]\n",
        "quick_sort_median_pivot(seq)"
      ],
      "execution_count": 264,
      "outputs": [
        {
          "output_type": "execute_result",
          "data": {
            "text/plain": [
              "([1, 2, 3], 2)"
            ]
          },
          "metadata": {
            "tags": []
          },
          "execution_count": 264
        }
      ]
    },
    {
      "cell_type": "code",
      "metadata": {
        "id": "ekKfulfUndbo",
        "colab_type": "code",
        "colab": {
          "base_uri": "https://localhost:8080/",
          "height": 34
        },
        "outputId": "c292d27b-d448-4aeb-d3a4-66e8e0c4caa4"
      },
      "source": [
        "sequence=arr.copy()\n",
        "results=quick_sort_median_pivot(sequence)\n",
        "results[1]"
      ],
      "execution_count": 265,
      "outputs": [
        {
          "output_type": "execute_result",
          "data": {
            "text/plain": [
              "131994"
            ]
          },
          "metadata": {
            "tags": []
          },
          "execution_count": 265
        }
      ]
    },
    {
      "cell_type": "code",
      "metadata": {
        "id": "Pc5NM9GzvtGC",
        "colab_type": "code",
        "colab": {}
      },
      "source": [
        ""
      ],
      "execution_count": 0,
      "outputs": []
    }
  ]
}