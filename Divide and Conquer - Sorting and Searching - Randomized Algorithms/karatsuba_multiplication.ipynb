{
  "nbformat": 4,
  "nbformat_minor": 0,
  "metadata": {
    "colab": {
      "name": "karatsuba_multiplication.ipynb",
      "provenance": [],
      "authorship_tag": "ABX9TyMbcwCP17Fng70ZZ5sjpeFG",
      "include_colab_link": true
    },
    "kernelspec": {
      "name": "python3",
      "display_name": "Python 3"
    }
  },
  "cells": [
    {
      "cell_type": "markdown",
      "metadata": {
        "id": "view-in-github",
        "colab_type": "text"
      },
      "source": [
        "<a href=\"https://colab.research.google.com/github/vimalkumarasamy/Algorithms_Stanford_University_Coursera/blob/master/karatsuba_multiplication.ipynb\" target=\"_parent\"><img src=\"https://colab.research.google.com/assets/colab-badge.svg\" alt=\"Open In Colab\"/></a>"
      ]
    },
    {
      "cell_type": "code",
      "metadata": {
        "id": "Vn6-MwCYPVtV",
        "colab_type": "code",
        "colab": {}
      },
      "source": [
        "# This notebook is to implement mu;ltiplication of two integers through karatsuba multiplication"
      ],
      "execution_count": 0,
      "outputs": []
    },
    {
      "cell_type": "code",
      "metadata": {
        "id": "IUsEZxFdPe5V",
        "colab_type": "code",
        "colab": {
          "base_uri": "https://localhost:8080/",
          "height": 35
        },
        "outputId": "ae2a6cd3-0017-4c7e-e17b-0994e098e412"
      },
      "source": [
        "i=3141592653589793238462643383279502884197169399375105820974944592\n",
        "j=2718281828459045235360287471352662497757247093699959574966967627\n",
        "prod=i*j\n",
        "print(prod)"
      ],
      "execution_count": 5,
      "outputs": [
        {
          "output_type": "stream",
          "text": [
            "8539734222673567065463550869546574495034888535765114961879601127067743044893204848617875072216249073013374895871952806582723184\n"
          ],
          "name": "stdout"
        }
      ]
    },
    {
      "cell_type": "code",
      "metadata": {
        "id": "vwyALBYpPhW_",
        "colab_type": "code",
        "colab": {
          "base_uri": "https://localhost:8080/",
          "height": 35
        },
        "outputId": "d5498025-3bdd-491b-b15d-98a00172bd66"
      },
      "source": [
        "n=len(str(i))\n",
        "22//3\n"
      ],
      "execution_count": 14,
      "outputs": [
        {
          "output_type": "execute_result",
          "data": {
            "text/plain": [
              "7"
            ]
          },
          "metadata": {
            "tags": []
          },
          "execution_count": 14
        }
      ]
    },
    {
      "cell_type": "code",
      "metadata": {
        "id": "YfRfnlWTPk61",
        "colab_type": "code",
        "colab": {}
      },
      "source": [
        "def karatsuba(x,y):\n",
        "  n=len(str(x))\n",
        "  if len(str(x))>1 and len(str(y))>1:\n",
        "    p=len(str(x))//2\n",
        "    a=x//(10**p)\n",
        "    b=x-a*(10**p)\n",
        "\n",
        "    q=len(str(y))//2\n",
        "    c=y//(10**q)\n",
        "    d=y-c*(10**q)\n",
        "\n",
        "    ac=karatsuba(a,c)\n",
        "    bd=karatsuba(b,d)\n",
        "    mid=karatsuba((a+b),(c+d))-ac-bd\n",
        "\n",
        "    return int((10**n*ac)+((10**(n/2))*mid)+bd)\n",
        "  else:\n",
        "    return int(x*y)  "
      ],
      "execution_count": 0,
      "outputs": []
    },
    {
      "cell_type": "code",
      "metadata": {
        "id": "OCN4zB63V9kt",
        "colab_type": "code",
        "colab": {
          "base_uri": "https://localhost:8080/",
          "height": 52
        },
        "outputId": "13f82c9e-06c4-4d48-f060-4175e6595271"
      },
      "source": [
        "import time\n",
        "t = time.time()\n",
        "prod_kasturba=karatsuba(i,j)\n",
        "elapsed = time.time() - t\n",
        "print(elapsed)\n",
        "\n",
        "t = time.time()\n",
        "prod_inbuilt=i*j\n",
        "elapsed = time.time() - t\n",
        "print(elapsed)\n",
        "\n",
        "\n",
        "\n"
      ],
      "execution_count": 35,
      "outputs": [
        {
          "output_type": "stream",
          "text": [
            "0.010569334030151367\n",
            "4.1961669921875e-05\n"
          ],
          "name": "stdout"
        }
      ]
    },
    {
      "cell_type": "code",
      "metadata": {
        "id": "TuVB2CxWWBjT",
        "colab_type": "code",
        "colab": {}
      },
      "source": [
        ""
      ],
      "execution_count": 0,
      "outputs": []
    }
  ]
}