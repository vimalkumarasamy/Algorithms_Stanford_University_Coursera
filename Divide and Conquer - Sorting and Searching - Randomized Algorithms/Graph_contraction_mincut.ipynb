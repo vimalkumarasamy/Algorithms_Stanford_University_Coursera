{
  "nbformat": 4,
  "nbformat_minor": 0,
  "metadata": {
    "colab": {
      "name": "Graph_contraction_mincut.ipynb",
      "provenance": [],
      "collapsed_sections": [],
      "authorship_tag": "ABX9TyOYPCKFDJy/dizLh2TJEW4e",
      "include_colab_link": true
    },
    "kernelspec": {
      "name": "python3",
      "display_name": "Python 3"
    },
    "accelerator": "GPU"
  },
  "cells": [
    {
      "cell_type": "markdown",
      "metadata": {
        "id": "view-in-github",
        "colab_type": "text"
      },
      "source": [
        "<a href=\"https://colab.research.google.com/github/vimalkumarasamy/Algorithms_Stanford_University_Coursera/blob/master/Divide%20and%20Conquer%20-%20Sorting%20and%20Searching%20-%20Randomized%20Algorithms/Graph_contraction_mincut.ipynb\" target=\"_parent\"><img src=\"https://colab.research.google.com/assets/colab-badge.svg\" alt=\"Open In Colab\"/></a>"
      ]
    },
    {
      "cell_type": "code",
      "metadata": {
        "id": "xVWjgb6U5Z3h",
        "colab_type": "code",
        "colab": {}
      },
      "source": [
        "# This notebook is to implement the Graph contraction - given a graph, split them into 2 groups of nodes, such that there are minimum number of cuts\n",
        "# This code returns the minimum number of cuts as the output"
      ],
      "execution_count": 0,
      "outputs": []
    },
    {
      "cell_type": "code",
      "metadata": {
        "id": "3EpTOy753pV-",
        "colab_type": "code",
        "outputId": "502160aa-e813-4923-f81a-807b218a0eae",
        "colab": {
          "base_uri": "https://localhost:8080/",
          "height": 124
        }
      },
      "source": [
        "from google.colab import drive\n",
        "drive.mount('/content/gdrive')"
      ],
      "execution_count": 2,
      "outputs": [
        {
          "output_type": "stream",
          "text": [
            "Go to this URL in a browser: https://accounts.google.com/o/oauth2/auth?client_id=947318989803-6bn6qk8qdgf4n4g3pfee6491hc0brc4i.apps.googleusercontent.com&redirect_uri=urn%3aietf%3awg%3aoauth%3a2.0%3aoob&response_type=code&scope=email%20https%3a%2f%2fwww.googleapis.com%2fauth%2fdocs.test%20https%3a%2f%2fwww.googleapis.com%2fauth%2fdrive%20https%3a%2f%2fwww.googleapis.com%2fauth%2fdrive.photos.readonly%20https%3a%2f%2fwww.googleapis.com%2fauth%2fpeopleapi.readonly\n",
            "\n",
            "Enter your authorization code:\n",
            "··········\n",
            "Mounted at /content/gdrive\n"
          ],
          "name": "stdout"
        }
      ]
    },
    {
      "cell_type": "code",
      "metadata": {
        "id": "g4His9Vz37CP",
        "colab_type": "code",
        "colab": {}
      },
      "source": [
        "path='gdrive/My Drive/Algorithms/kargerMinCut.txt'"
      ],
      "execution_count": 0,
      "outputs": []
    },
    {
      "cell_type": "code",
      "metadata": {
        "id": "H_cQx_ox4HnQ",
        "colab_type": "code",
        "colab": {}
      },
      "source": [
        "fp=open(path,'r+');\n",
        "arr=[]\n",
        "for i in fp:\n",
        "  i=i.replace(\"\\n\", \"\")\n",
        "  arr=arr+[i]"
      ],
      "execution_count": 0,
      "outputs": []
    },
    {
      "cell_type": "code",
      "metadata": {
        "id": "k26kINBq4U1x",
        "colab_type": "code",
        "outputId": "153b9a5e-f60d-4a58-d875-564dad8d7746",
        "colab": {
          "base_uri": "https://localhost:8080/",
          "height": 35
        }
      },
      "source": [
        "arr[0]"
      ],
      "execution_count": 5,
      "outputs": [
        {
          "output_type": "execute_result",
          "data": {
            "text/plain": [
              "'1\\t37\\t79\\t164\\t155\\t32\\t87\\t39\\t113\\t15\\t18\\t78\\t175\\t140\\t200\\t4\\t160\\t97\\t191\\t100\\t91\\t20\\t69\\t198\\t196\\t'"
            ]
          },
          "metadata": {
            "tags": []
          },
          "execution_count": 5
        }
      ]
    },
    {
      "cell_type": "code",
      "metadata": {
        "id": "zZPbl2Pr6GqF",
        "colab_type": "code",
        "colab": {}
      },
      "source": [
        "# Lets try to represent a graph with adjacency matrix \n",
        "# This may not be efficient due to sparsity of the data, but lets get started somewhere "
      ],
      "execution_count": 0,
      "outputs": []
    },
    {
      "cell_type": "code",
      "metadata": {
        "id": "RatFY4bT6MPw",
        "colab_type": "code",
        "colab": {}
      },
      "source": [
        ""
      ],
      "execution_count": 0,
      "outputs": []
    },
    {
      "cell_type": "code",
      "metadata": {
        "id": "DV-JytzU72PM",
        "colab_type": "code",
        "colab": {}
      },
      "source": [
        "# import numpy as np\n",
        "# adj_mat = np.zeros(40000).reshape(200,200)\n",
        "# for i in arr:\n",
        "#   items=i.split('\\t')\n",
        "#   vertex=items[0]\n",
        "#   for j in items[1:]:\n",
        "#     if j!='':\n",
        "#       adj_mat[int(vertex)-1][int(j)-1]=1\n",
        "#     else:\n",
        "#       pass"
      ],
      "execution_count": 0,
      "outputs": []
    },
    {
      "cell_type": "code",
      "metadata": {
        "id": "gD93tZmM8uLU",
        "colab_type": "code",
        "outputId": "389391c9-9630-425b-db77-43f8df057225",
        "colab": {
          "base_uri": "https://localhost:8080/",
          "height": 35
        }
      },
      "source": [
        "# the number of adjacent vertices for the first vertex\n",
        "# excluding the last member which is a null array\n",
        "len(arr[0].split('\\t')[1:-1])"
      ],
      "execution_count": 8,
      "outputs": [
        {
          "output_type": "execute_result",
          "data": {
            "text/plain": [
              "24"
            ]
          },
          "metadata": {
            "tags": []
          },
          "execution_count": 8
        }
      ]
    },
    {
      "cell_type": "code",
      "metadata": {
        "id": "G8juwbe38u6H",
        "colab_type": "code",
        "colab": {}
      },
      "source": [
        "# number of populated adjacent vertices for the first vertex from the populated adj_mat\n",
        "# adj_mat[0].sum()"
      ],
      "execution_count": 0,
      "outputs": []
    },
    {
      "cell_type": "code",
      "metadata": {
        "id": "6tjHIRSGGhPa",
        "colab_type": "code",
        "colab": {}
      },
      "source": [
        "# # how do we remove the vertex k=1 ?\n",
        "# # define the vertex to be removed - k \n",
        "# k = 1\n",
        "# # define the total number of vertices\n",
        "# v=200\n",
        "# for i in range(200):\n",
        "#   for j in range(i+1,200):\n",
        "#     if adj_mat[k][i]==1 and adj_mat[k][j]==1:\n",
        "#       adj_mat[i][j]+=1\n",
        "#       adj_mat[j][i]+=1\n",
        "# adj_mat[k][:]=0\n",
        "# for i in range(200):\n",
        "#   adj_mat[i][k]=0\n"
      ],
      "execution_count": 0,
      "outputs": []
    },
    {
      "cell_type": "code",
      "metadata": {
        "id": "ujpexHhfGt-k",
        "colab_type": "code",
        "colab": {}
      },
      "source": [
        "# def remove_vertex(mat,vertex):\n",
        "#   adj_mat=mat.copy()\n",
        "#   v=len(adj_mat)\n",
        "#   for i in range(v):\n",
        "#     for j in range(i+1,v):\n",
        "#       if adj_mat[vertex][i]==1 and adj_mat[vertex][j]==1:\n",
        "#         adj_mat[i][j]+=1\n",
        "#         adj_mat[j][i]+=1\n",
        "#   adj_mat[vertex][:]=0\n",
        "#   for i in range(v):\n",
        "#     adj_mat[i][vertex]=0\n",
        "#     adj_mat[i][i]=0\n",
        "#   return(adj_mat)"
      ],
      "execution_count": 0,
      "outputs": []
    },
    {
      "cell_type": "code",
      "metadata": {
        "id": "qvmABEyMITzl",
        "colab_type": "code",
        "colab": {}
      },
      "source": [
        "# how to remove an edge?"
      ],
      "execution_count": 0,
      "outputs": []
    },
    {
      "cell_type": "code",
      "metadata": {
        "id": "ZD2lju2_LjrB",
        "colab_type": "code",
        "colab": {}
      },
      "source": [
        "# arr[0]"
      ],
      "execution_count": 0,
      "outputs": []
    },
    {
      "cell_type": "code",
      "metadata": {
        "id": "9hIOUclvLsOT",
        "colab_type": "code",
        "colab": {}
      },
      "source": [
        "# Creating a dictionary of the current status of the connections\n",
        "def create_parent_graph(path):\n",
        "  parent_graph={}\n",
        "  fp=open(path,'r+')\n",
        "  for i in fp:\n",
        "    i=i.replace(\"\\n\", \"\")\n",
        "    items=i.split('\\t')\n",
        "    vertex=int(items[0])\n",
        "    adj_vertices=items[1:-1]\n",
        "    parent_graph[vertex]=[int(j) for j in adj_vertices]\n",
        "  return(parent_graph)\n",
        "  "
      ],
      "execution_count": 0,
      "outputs": []
    },
    {
      "cell_type": "code",
      "metadata": {
        "id": "ybNjdd3cL08v",
        "colab_type": "code",
        "colab": {}
      },
      "source": [
        "# Creating parent graph from a path where the flat file is located\n",
        "parent_graph=create_parent_graph(path)"
      ],
      "execution_count": 0,
      "outputs": []
    },
    {
      "cell_type": "code",
      "metadata": {
        "id": "xOadc2H4MGM7",
        "colab_type": "code",
        "colab": {}
      },
      "source": [
        "# Create a list of edges from a graph \n",
        "def create_edge_from_graph(graph):\n",
        "  edges=[]\n",
        "  for i in graph:\n",
        "    for j in graph[i]:\n",
        "      edges=edges+[[i,j]]\n",
        "  return(edges)\n",
        "\n"
      ],
      "execution_count": 0,
      "outputs": []
    },
    {
      "cell_type": "code",
      "metadata": {
        "id": "Fs58eBkeNVvr",
        "colab_type": "code",
        "colab": {
          "base_uri": "https://localhost:8080/",
          "height": 35
        },
        "outputId": "12bd018d-71e4-4680-c03b-b0b08e2bf027"
      },
      "source": [
        "# checking the count of edges in the parent file\n",
        "cnt=0\n",
        "for i in arr:\n",
        "  cnt+=len(i.split('\\t'))-2\n",
        "\n",
        "print(cnt)"
      ],
      "execution_count": 15,
      "outputs": [
        {
          "output_type": "stream",
          "text": [
            "5034\n"
          ],
          "name": "stdout"
        }
      ]
    },
    {
      "cell_type": "code",
      "metadata": {
        "id": "kGIsyttrNYwN",
        "colab_type": "code",
        "colab": {}
      },
      "source": [
        "# function to remove an edge from the graph and redefine the entire dictionary\n",
        "def remove_edge(graph,edge):\n",
        "  new_vertex=max(graph.keys())+1\n",
        "  adj_vertices=graph[edge[0]]+graph[edge[1]]\n",
        "  # print(len(adj_vertices))\n",
        "  adj_vertices=[i for i in adj_vertices if i not in edge]\n",
        "  # print(len(adj_vertices))\n",
        "  del graph[edge[0]]\n",
        "  del graph[edge[1]]\n",
        "  graph[new_vertex]=adj_vertices\n",
        "  for i in graph.keys():\n",
        "    graph[i]=[new_vertex if x in edge else x for x in graph[i]]\n",
        "    # [x+1 if x >= 45 else x+5 for x in l]\n",
        "  return(graph)\n"
      ],
      "execution_count": 0,
      "outputs": []
    },
    {
      "cell_type": "code",
      "metadata": {
        "id": "v9zxU-hD9Fid",
        "colab_type": "code",
        "colab": {}
      },
      "source": [
        "def contraction(parent_graph):\n",
        "  import random\n",
        "  graph=parent_graph.copy()\n",
        "  edges=create_edge_from_graph(graph)\n",
        "  while len(graph.keys())>2:\n",
        "    graph=remove_edge(graph,random.choice(edges))\n",
        "    edges=create_edge_from_graph(graph)\n",
        "  return(len(graph[max(graph.keys())]))"
      ],
      "execution_count": 0,
      "outputs": []
    },
    {
      "cell_type": "code",
      "metadata": {
        "id": "rZOQPiDF5iAF",
        "colab_type": "code",
        "colab": {}
      },
      "source": [
        "parent_graph=create_parent_graph(path)\n",
        "contraction(parent_graph)"
      ],
      "execution_count": 0,
      "outputs": []
    },
    {
      "cell_type": "code",
      "metadata": {
        "id": "AGEyDxqH9Npt",
        "colab_type": "code",
        "colab": {}
      },
      "source": [
        "def ncuts(parent_graph):\n",
        "  n=len(parent_graph.keys())\n",
        "  cuts=[]\n",
        "  for i in range(n**2):\n",
        "    cuts+=[contraction(parent_graph)]\n",
        "  return(cuts)"
      ],
      "execution_count": 0,
      "outputs": []
    },
    {
      "cell_type": "code",
      "metadata": {
        "id": "s2mNCSWBCeTE",
        "colab_type": "code",
        "colab": {}
      },
      "source": [
        "mincuts=ncuts(parent_graph)\n",
        "min(mincuts)"
      ],
      "execution_count": 0,
      "outputs": []
    },
    {
      "cell_type": "code",
      "metadata": {
        "id": "ROMBT8M3GdtZ",
        "colab_type": "code",
        "colab": {}
      },
      "source": [
        "min(mincuts)"
      ],
      "execution_count": 0,
      "outputs": []
    },
    {
      "cell_type": "code",
      "metadata": {
        "id": "bZKeTzvgV7az",
        "colab_type": "code",
        "colab": {}
      },
      "source": [
        ""
      ],
      "execution_count": 0,
      "outputs": []
    }
  ]
}