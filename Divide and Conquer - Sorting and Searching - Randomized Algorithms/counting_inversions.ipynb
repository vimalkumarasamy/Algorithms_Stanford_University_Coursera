{
  "nbformat": 4,
  "nbformat_minor": 0,
  "metadata": {
    "colab": {
      "name": "counting_inversions.ipynb",
      "provenance": [],
      "collapsed_sections": [],
      "authorship_tag": "ABX9TyPHKUeu1g/VQg2yHZ2D1vB0",
      "include_colab_link": true
    },
    "kernelspec": {
      "name": "python3",
      "display_name": "Python 3"
    },
    "accelerator": "GPU"
  },
  "cells": [
    {
      "cell_type": "markdown",
      "metadata": {
        "id": "view-in-github",
        "colab_type": "text"
      },
      "source": [
        "<a href=\"https://colab.research.google.com/github/vimalkumarasamy/Algorithms_Stanford_University_Coursera/blob/master/counting_inversions.ipynb\" target=\"_parent\"><img src=\"https://colab.research.google.com/assets/colab-badge.svg\" alt=\"Open In Colab\"/></a>"
      ]
    },
    {
      "cell_type": "code",
      "metadata": {
        "id": "2zCJYxDkph-Q",
        "colab_type": "code",
        "colab": {
          "base_uri": "https://localhost:8080/",
          "height": 122
        },
        "outputId": "d2e75500-e4c1-4514-dfd8-3d0dc7095a02"
      },
      "source": [
        "from google.colab import drive\n",
        "drive.mount('/content/gdrive')"
      ],
      "execution_count": 2,
      "outputs": [
        {
          "output_type": "stream",
          "text": [
            "Go to this URL in a browser: https://accounts.google.com/o/oauth2/auth?client_id=947318989803-6bn6qk8qdgf4n4g3pfee6491hc0brc4i.apps.googleusercontent.com&redirect_uri=urn%3aietf%3awg%3aoauth%3a2.0%3aoob&response_type=code&scope=email%20https%3a%2f%2fwww.googleapis.com%2fauth%2fdocs.test%20https%3a%2f%2fwww.googleapis.com%2fauth%2fdrive%20https%3a%2f%2fwww.googleapis.com%2fauth%2fdrive.photos.readonly%20https%3a%2f%2fwww.googleapis.com%2fauth%2fpeopleapi.readonly\n",
            "\n",
            "Enter your authorization code:\n",
            "··········\n",
            "Mounted at /content/gdrive\n"
          ],
          "name": "stdout"
        }
      ]
    },
    {
      "cell_type": "code",
      "metadata": {
        "id": "U1LFBm_4qtte",
        "colab_type": "code",
        "colab": {}
      },
      "source": [
        "path='gdrive/My Drive/Algorithms/array_inversions_raw_data.txt'"
      ],
      "execution_count": 0,
      "outputs": []
    },
    {
      "cell_type": "code",
      "metadata": {
        "id": "9YgwfSmCrFTv",
        "colab_type": "code",
        "colab": {}
      },
      "source": [
        "fp=open(path,'r+');\n",
        "arr=[]"
      ],
      "execution_count": 0,
      "outputs": []
    },
    {
      "cell_type": "code",
      "metadata": {
        "id": "D1wa_MhyqTy9",
        "colab_type": "code",
        "colab": {}
      },
      "source": [
        "for i in fp:\n",
        "  i=i.replace(\"\\n\", \"\")\n",
        "  i=int(i)\n",
        "  arr=arr+[i]"
      ],
      "execution_count": 0,
      "outputs": []
    },
    {
      "cell_type": "code",
      "metadata": {
        "id": "mvT7KlZBrSZV",
        "colab_type": "code",
        "colab": {}
      },
      "source": [
        "# Implementing a solution with Big oh of n^2 \n",
        "# not efficient \n",
        "def getInvCount(arr): \n",
        "  n=len(arr)\n",
        "  inv_count = 0\n",
        "  for i in range(n): \n",
        "    for j in range(i + 1, n): \n",
        "      if (arr[i] > arr[j]): \n",
        "        inv_count += 1\n",
        "  \n",
        "  return inv_count "
      ],
      "execution_count": 0,
      "outputs": []
    },
    {
      "cell_type": "code",
      "metadata": {
        "id": "j6WWO1qhyAWi",
        "colab_type": "code",
        "colab": {
          "base_uri": "https://localhost:8080/",
          "height": 34
        },
        "outputId": "933a2f77-1fcc-4e5d-a14c-1d8d9d5def14"
      },
      "source": [
        "getInvCount(arr)"
      ],
      "execution_count": 8,
      "outputs": [
        {
          "output_type": "execute_result",
          "data": {
            "text/plain": [
              "2407905288"
            ]
          },
          "metadata": {
            "tags": []
          },
          "execution_count": 8
        }
      ]
    },
    {
      "cell_type": "code",
      "metadata": {
        "id": "6OGBlO4IsAeR",
        "colab_type": "code",
        "colab": {}
      },
      "source": [
        "arr2=[1,2,3,6,4,5]"
      ],
      "execution_count": 0,
      "outputs": []
    },
    {
      "cell_type": "code",
      "metadata": {
        "id": "HtdqVgGIxY6k",
        "colab_type": "code",
        "colab": {
          "base_uri": "https://localhost:8080/",
          "height": 34
        },
        "outputId": "a801c171-ffa1-455e-d6ff-debc5c2cb139"
      },
      "source": [
        "getInvCount(arr2)"
      ],
      "execution_count": 12,
      "outputs": [
        {
          "output_type": "execute_result",
          "data": {
            "text/plain": [
              "2"
            ]
          },
          "metadata": {
            "tags": []
          },
          "execution_count": 12
        }
      ]
    },
    {
      "cell_type": "code",
      "metadata": {
        "id": "wvZc2Bf8xdwz",
        "colab_type": "code",
        "colab": {
          "base_uri": "https://localhost:8080/",
          "height": 34
        },
        "outputId": "cc69b7c8-ac5d-4f08-aaf2-457ea8f2c833"
      },
      "source": [
        "# Python 3 program to count inversions in an array \n",
        "  \n",
        "# Function to Use Inversion Count \n",
        "def mergeSort(arr, n): \n",
        "    # A temp_arr is created to store \n",
        "    # sorted array in merge function \n",
        "    temp_arr = [0]*n \n",
        "    return _mergeSort(arr, temp_arr, 0, n-1) \n",
        "  \n",
        "# This Function will use MergeSort to count inversions \n",
        "  \n",
        "def _mergeSort(arr, temp_arr, left, right): \n",
        "  \n",
        "    # A variable inv_count is used to store \n",
        "    # inversion counts in each recursive call \n",
        "  \n",
        "    inv_count = 0\n",
        "  \n",
        "    # We will make a recursive call if and only if \n",
        "    # we have more than one elements \n",
        "  \n",
        "    if left < right: \n",
        "  \n",
        "        # mid is calculated to divide the array into two subarrays \n",
        "        # Floor division is must in case of python \n",
        "  \n",
        "        mid = (left + right)//2\n",
        "  \n",
        "        # It will calculate inversion counts in the left subarray \n",
        "  \n",
        "        inv_count += _mergeSort(arr, temp_arr, left, mid) \n",
        "  \n",
        "        # It will calculate inversion counts in right subarray \n",
        "  \n",
        "        inv_count += _mergeSort(arr, temp_arr, mid + 1, right) \n",
        "  \n",
        "        # It will merge two subarrays in a sorted subarray \n",
        "  \n",
        "        inv_count += merge(arr, temp_arr, left, mid, right) \n",
        "    return inv_count \n",
        "  \n",
        "# This function will merge two subarrays in a single sorted subarray \n",
        "def merge(arr, temp_arr, left, mid, right): \n",
        "    i = left     # Starting index of left subarray \n",
        "    j = mid + 1 # Starting index of right subarray \n",
        "    k = left     # Starting index of to be sorted subarray \n",
        "    inv_count = 0\n",
        "  \n",
        "    # Conditions are checked to make sure that i and j don't exceed their \n",
        "    # subarray limits. \n",
        "  \n",
        "    while i <= mid and j <= right: \n",
        "  \n",
        "        # There will be no inversion if arr[i] <= arr[j] \n",
        "  \n",
        "        if arr[i] <= arr[j]: \n",
        "            temp_arr[k] = arr[i] \n",
        "            k += 1\n",
        "            i += 1\n",
        "        else: \n",
        "            # Inversion will occur. \n",
        "            temp_arr[k] = arr[j] \n",
        "            inv_count += (mid-i + 1) \n",
        "            k += 1\n",
        "            j += 1\n",
        "  \n",
        "    # Copy the remaining elements of left subarray into temporary array \n",
        "    while i <= mid: \n",
        "        temp_arr[k] = arr[i] \n",
        "        k += 1\n",
        "        i += 1\n",
        "  \n",
        "    # Copy the remaining elements of right subarray into temporary array \n",
        "    while j <= right: \n",
        "        temp_arr[k] = arr[j] \n",
        "        k += 1\n",
        "        j += 1\n",
        "  \n",
        "    # Copy the sorted subarray into Original array \n",
        "    for loop_var in range(left, right + 1): \n",
        "        arr[loop_var] = temp_arr[loop_var] \n",
        "          \n",
        "    return inv_count \n",
        "  \n",
        "# Driver Code \n",
        "# Given array is \n",
        "# arr\n",
        "n = len(arr) \n",
        "result = mergeSort(arr, n) \n",
        "print(\"Number of inversions are\", result) "
      ],
      "execution_count": 13,
      "outputs": [
        {
          "output_type": "stream",
          "text": [
            "Number of inversions are 2407905288\n"
          ],
          "name": "stdout"
        }
      ]
    },
    {
      "cell_type": "code",
      "metadata": {
        "id": "n_BZ62Wu3SoI",
        "colab_type": "code",
        "colab": {}
      },
      "source": [
        ""
      ],
      "execution_count": 0,
      "outputs": []
    }
  ]
}