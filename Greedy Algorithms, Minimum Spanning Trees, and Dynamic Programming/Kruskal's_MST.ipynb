{
  "nbformat": 4,
  "nbformat_minor": 0,
  "metadata": {
    "colab": {
      "name": "Kruskal's_MST.ipynb",
      "provenance": [],
      "collapsed_sections": [],
      "authorship_tag": "ABX9TyOd6/0H1c6wFAyNwpbvpgPl",
      "include_colab_link": true
    },
    "kernelspec": {
      "name": "python3",
      "display_name": "Python 3"
    }
  },
  "cells": [
    {
      "cell_type": "markdown",
      "metadata": {
        "id": "view-in-github",
        "colab_type": "text"
      },
      "source": [
        "<a href=\"https://colab.research.google.com/github/vimalkumarasamy/Algorithms_Stanford_University_Coursera/blob/master/Greedy%20Algorithms%2C%20Minimum%20Spanning%20Trees%2C%20and%20Dynamic%20Programming/Kruskal's_MST.ipynb\" target=\"_parent\"><img src=\"https://colab.research.google.com/assets/colab-badge.svg\" alt=\"Open In Colab\"/></a>"
      ]
    },
    {
      "cell_type": "code",
      "metadata": {
        "id": "W-Fs0aWHobBZ",
        "colab_type": "code",
        "colab": {
          "base_uri": "https://localhost:8080/",
          "height": 35
        },
        "outputId": "ad5922be-5d8a-4f69-f915-3b0197f0c59b"
      },
      "source": [
        "from google.colab import drive\n",
        "drive.mount('/content/gdrive')"
      ],
      "execution_count": 33,
      "outputs": [
        {
          "output_type": "stream",
          "text": [
            "Drive already mounted at /content/gdrive; to attempt to forcibly remount, call drive.mount(\"/content/gdrive\", force_remount=True).\n"
          ],
          "name": "stdout"
        }
      ]
    },
    {
      "cell_type": "code",
      "metadata": {
        "id": "cPPL13pGozhG",
        "colab_type": "code",
        "colab": {}
      },
      "source": [
        "filename ='gdrive/My Drive/Algorithms/clustering1.txt'"
      ],
      "execution_count": 0,
      "outputs": []
    },
    {
      "cell_type": "code",
      "metadata": {
        "id": "8qOXNPrzoh4j",
        "colab_type": "code",
        "colab": {}
      },
      "source": [
        "graph={}\n",
        "for f in open(filename):\n",
        "  f=f.replace(\"\\n\",\"\")\n",
        "  f=f.split(\" \")\n",
        "  f=[int(i) for i in f]\n",
        "  if len(f)==3:\n",
        "    if f[0] in graph.keys():\n",
        "      temp=graph[f[0]]\n",
        "      temp[f[1]]=f[2]\n",
        "      graph[f[0]]=temp\n",
        "    else: \n",
        "      graph[f[0]]={}\n",
        "      graph[f[0]][f[1]]=f[2]\n",
        "    if f[1] in graph.keys():\n",
        "      temp=graph[f[1]]\n",
        "      temp[f[0]]=f[2]\n",
        "      graph[f[1]]=temp\n",
        "    else: \n",
        "      graph[f[1]]={}\n",
        "      graph[f[1]][f[0]]=f[2]\n",
        "\n",
        "\n",
        "\n"
      ],
      "execution_count": 0,
      "outputs": []
    },
    {
      "cell_type": "code",
      "metadata": {
        "id": "HDwKRi6RpFa4",
        "colab_type": "code",
        "colab": {}
      },
      "source": [
        "leader={}\n",
        "leader_to_mem={}\n",
        "leader_count={}\n",
        "for i in graph.keys():\n",
        "  leader[i]=i\n",
        "  leader_count[i]=1\n",
        "  leader_to_mem[i]=[i]\n"
      ],
      "execution_count": 0,
      "outputs": []
    },
    {
      "cell_type": "code",
      "metadata": {
        "id": "EO-R_tjVqKEt",
        "colab_type": "code",
        "colab": {}
      },
      "source": [
        "# let's create a dictionary for edges and sort them\n",
        "edges={}\n",
        "for f in open(filename):\n",
        "  f=f.replace(\"\\n\",\"\")\n",
        "  f=f.split(\" \")\n",
        "  f=[int(i) for i in f]\n",
        "  if len(f)==3:\n",
        "    if f[2] in edges.keys():\n",
        "      edges[f[2]].append([f[0],f[1]])\n",
        "    else:\n",
        "      edges[f[2]]=[[f[0],f[1]]]\n",
        "\n"
      ],
      "execution_count": 0,
      "outputs": []
    },
    {
      "cell_type": "code",
      "metadata": {
        "id": "PfCx735nr8ei",
        "colab_type": "code",
        "colab": {}
      },
      "source": [
        "edges_list=[i for i in edges.keys()]"
      ],
      "execution_count": 0,
      "outputs": []
    },
    {
      "cell_type": "code",
      "metadata": {
        "id": "pb_vZ6-1uJOE",
        "colab_type": "code",
        "colab": {}
      },
      "source": [
        "# I started using quick sort for pe-processing a graph before computing MST \n",
        "# I am happy that we are re-using codes\n",
        "\n",
        "def quick_sort_median_pivot(sequence,comp=0):\n",
        "  import statistics\n",
        "  if len(sequence)<2:\n",
        "    return(sequence,comp)\n",
        "  else:\n",
        "    a=sequence[0]\n",
        "    if len(sequence)%2==1:\n",
        "      b=sequence[(len(sequence)//2)]\n",
        "      b_ind=(len(sequence)//2)\n",
        "    else:\n",
        "      b=sequence[(len(sequence)//2)-1]\n",
        "      b_ind=(len(sequence)//2)-1\n",
        "    c=sequence[-1]\n",
        "    pivot=statistics.median([a,b,c])\n",
        "    \n",
        "    if pivot==b:\n",
        "      sequence[0],sequence[b_ind]=sequence[b_ind],sequence[0]\n",
        "    elif pivot==c:\n",
        "      sequence[0],sequence[-1]=sequence[-1],sequence[0]\n",
        "\n",
        "  \n",
        "    i=1\n",
        "    j=1\n",
        "    for pos in range(1,len(sequence)):\n",
        "      if sequence[pos]>pivot:\n",
        "        j+=1\n",
        "      else:\n",
        "        temp=sequence[i]\n",
        "        sequence[i]=sequence[pos]\n",
        "        sequence[pos]=temp\n",
        "        i+=1\n",
        "        j+=1\n",
        "    comp+=len(sequence)-1\n",
        "    temp=sequence[i-1]\n",
        "    sequence[i-1]=pivot\n",
        "    sequence[0]=temp    \n",
        "    seq1=sequence[:i-1]\n",
        "    seq2=sequence[i:]\n",
        "    seq1,comp=quick_sort_median_pivot(seq1,comp)\n",
        "    seq2,comp=quick_sort_median_pivot(seq2,comp)\n",
        "    sorted_sequence=seq1+[pivot]+seq2\n",
        "    return(sorted_sequence,comp)\n",
        "\n"
      ],
      "execution_count": 0,
      "outputs": []
    },
    {
      "cell_type": "code",
      "metadata": {
        "id": "YPQ1dpWNuP2O",
        "colab_type": "code",
        "colab": {}
      },
      "source": [
        "edges_list_for_sorting=edges_list.copy()"
      ],
      "execution_count": 0,
      "outputs": []
    },
    {
      "cell_type": "code",
      "metadata": {
        "id": "DFOvf_C00pMg",
        "colab_type": "code",
        "colab": {}
      },
      "source": [
        "(sorted_edges,comp)=quick_sort_median_pivot(edges_list_for_sorting,0)"
      ],
      "execution_count": 0,
      "outputs": []
    },
    {
      "cell_type": "code",
      "metadata": {
        "id": "R756ztmA0zSX",
        "colab_type": "code",
        "colab": {
          "base_uri": "https://localhost:8080/",
          "height": 35
        },
        "outputId": "04b5c80f-8c35-41d0-c366-b8c462855776"
      },
      "source": [
        "len(edges_list_for_sorting)"
      ],
      "execution_count": 42,
      "outputs": [
        {
          "output_type": "execute_result",
          "data": {
            "text/plain": [
              "10000"
            ]
          },
          "metadata": {
            "tags": []
          },
          "execution_count": 42
        }
      ]
    },
    {
      "cell_type": "code",
      "metadata": {
        "id": "iKV6Hly902F0",
        "colab_type": "code",
        "colab": {
          "base_uri": "https://localhost:8080/",
          "height": 35
        },
        "outputId": "cd15df0a-b75e-4009-8014-8733fdba89c6"
      },
      "source": [
        "len(sorted_edges)"
      ],
      "execution_count": 43,
      "outputs": [
        {
          "output_type": "execute_result",
          "data": {
            "text/plain": [
              "10000"
            ]
          },
          "metadata": {
            "tags": []
          },
          "execution_count": 43
        }
      ]
    },
    {
      "cell_type": "code",
      "metadata": {
        "id": "OF9u35uK1NlV",
        "colab_type": "code",
        "colab": {}
      },
      "source": [
        "edges_for_MST={}\n",
        "i=0\n",
        "while i<124750:\n",
        "  for j in sorted_edges:\n",
        "    for k in edges[j]:\n",
        "      edges_for_MST[i]=[k[0],k[1],j]\n",
        "      i+=1\n",
        "      # print(i)"
      ],
      "execution_count": 0,
      "outputs": []
    },
    {
      "cell_type": "code",
      "metadata": {
        "id": "iWCS_Cw02Rf1",
        "colab_type": "code",
        "colab": {
          "base_uri": "https://localhost:8080/",
          "height": 35
        },
        "outputId": "dfb77911-ecb0-4845-e857-313a5520be31"
      },
      "source": [
        "print(len(edges_for_MST.keys()))\n",
        "edge_count=len(edges_for_MST.keys())"
      ],
      "execution_count": 81,
      "outputs": [
        {
          "output_type": "stream",
          "text": [
            "124750\n"
          ],
          "name": "stdout"
        }
      ]
    },
    {
      "cell_type": "code",
      "metadata": {
        "id": "vRODPIn33AQO",
        "colab_type": "code",
        "colab": {
          "base_uri": "https://localhost:8080/",
          "height": 35
        },
        "outputId": "e5f41844-95d2-44af-d5d7-ca8d7a53cf92"
      },
      "source": [
        "# leader\n",
        "# leader_count\n",
        "# edges_for_MST\n",
        "# graph \n",
        "# leader_to_mem ?\n",
        "\n",
        "len(leader_count.keys())\n",
        "\n"
      ],
      "execution_count": 77,
      "outputs": [
        {
          "output_type": "execute_result",
          "data": {
            "text/plain": [
              "500"
            ]
          },
          "metadata": {
            "tags": []
          },
          "execution_count": 77
        }
      ]
    },
    {
      "cell_type": "code",
      "metadata": {
        "id": "QuPlevwJ-dmG",
        "colab_type": "code",
        "colab": {}
      },
      "source": [
        "k=4\n",
        "\n",
        "i=1\n",
        "while len(leader_count.keys())>k:\n",
        "  # print(len(leader_count.keys()))\n",
        "  a=edges_for_MST[i][0]\n",
        "  b=edges_for_MST[i][1]\n",
        "  dist=edges_for_MST[i][2]\n",
        "  a_leader=leader[a]\n",
        "  b_leader=leader[b]\n",
        "  a_leader_count=leader_count[a_leader]\n",
        "  b_leader_count=leader_count[b_leader]\n",
        "  if a_leader==b_leader:\n",
        "    i=i+1\n",
        "  else:\n",
        "    if a_leader_count>b_leader_count:\n",
        "      mem=leader_to_mem[b_leader]\n",
        "      for j in mem:\n",
        "        leader[j]=a_leader\n",
        "      leader_to_mem[a_leader]=leader_to_mem[a_leader]+leader_to_mem[b_leader]\n",
        "      del leader_to_mem[b_leader]\n",
        "      leader_count[a_leader]=leader_count[a_leader]+leader_count[b_leader]\n",
        "      del leader_count[b_leader]\n",
        "      \n",
        "    else:\n",
        "      mem=leader_to_mem[a_leader]\n",
        "      for j in mem:\n",
        "        leader[j]=b_leader\n",
        "      leader_to_mem[b_leader]=leader_to_mem[b_leader]+leader_to_mem[a_leader]\n",
        "      del leader_to_mem[a_leader]\n",
        "      leader_count[b_leader]=leader_count[b_leader]+leader_count[a_leader]\n",
        "      del leader_count[a_leader]\n",
        "    i=i+1\n",
        "\n",
        "\n",
        "\n",
        "\n",
        "\n"
      ],
      "execution_count": 0,
      "outputs": []
    },
    {
      "cell_type": "code",
      "metadata": {
        "id": "omr1_aMj-f8V",
        "colab_type": "code",
        "colab": {
          "base_uri": "https://localhost:8080/",
          "height": 35
        },
        "outputId": "2b1a447f-6d01-4fcd-b47d-f4c35c2ee2a0"
      },
      "source": [
        "dist"
      ],
      "execution_count": 84,
      "outputs": [
        {
          "output_type": "execute_result",
          "data": {
            "text/plain": [
              "97"
            ]
          },
          "metadata": {
            "tags": []
          },
          "execution_count": 84
        }
      ]
    },
    {
      "cell_type": "code",
      "metadata": {
        "id": "uWZVq5O7-glL",
        "colab_type": "code",
        "colab": {
          "base_uri": "https://localhost:8080/",
          "height": 35
        },
        "outputId": "3cf54d68-ccdc-4dfc-934e-29b5648cb9fa"
      },
      "source": [
        "leader_to_mem.keys()"
      ],
      "execution_count": 87,
      "outputs": [
        {
          "output_type": "execute_result",
          "data": {
            "text/plain": [
              "dict_keys([384, 414, 438, 462])"
            ]
          },
          "metadata": {
            "tags": []
          },
          "execution_count": 87
        }
      ]
    },
    {
      "cell_type": "code",
      "metadata": {
        "id": "lQIfUUat_nnp",
        "colab_type": "code",
        "colab": {
          "base_uri": "https://localhost:8080/",
          "height": 35
        },
        "outputId": "d8abb908-e0a5-405a-cd13-6995a428cb2a"
      },
      "source": [
        "i"
      ],
      "execution_count": 88,
      "outputs": [
        {
          "output_type": "execute_result",
          "data": {
            "text/plain": [
              "1218"
            ]
          },
          "metadata": {
            "tags": []
          },
          "execution_count": 88
        }
      ]
    },
    {
      "cell_type": "code",
      "metadata": {
        "id": "IeBMrExM_om7",
        "colab_type": "code",
        "colab": {
          "base_uri": "https://localhost:8080/",
          "height": 35
        },
        "outputId": "4b10bdb0-1ed8-4697-9d3e-8b5042b58623"
      },
      "source": [
        "l=0\n",
        "for m in leader_to_mem.keys():\n",
        "  l+=len(leader_to_mem[m])\n",
        "\n",
        "l\n"
      ],
      "execution_count": 90,
      "outputs": [
        {
          "output_type": "execute_result",
          "data": {
            "text/plain": [
              "500"
            ]
          },
          "metadata": {
            "tags": []
          },
          "execution_count": 90
        }
      ]
    },
    {
      "cell_type": "code",
      "metadata": {
        "id": "acz9JVWlCjAI",
        "colab_type": "code",
        "colab": {
          "base_uri": "https://localhost:8080/",
          "height": 35
        },
        "outputId": "3c828277-6c52-487f-f8bc-b5d1f262120e"
      },
      "source": [
        "edges_for_MST[1218]"
      ],
      "execution_count": 91,
      "outputs": [
        {
          "output_type": "execute_result",
          "data": {
            "text/plain": [
              "[232, 403, 97]"
            ]
          },
          "metadata": {
            "tags": []
          },
          "execution_count": 91
        }
      ]
    },
    {
      "cell_type": "code",
      "metadata": {
        "id": "A6eIFjDBCklH",
        "colab_type": "code",
        "colab": {
          "base_uri": "https://localhost:8080/",
          "height": 35
        },
        "outputId": "393a792b-7ecf-4a1d-bf8d-7e75965f80c7"
      },
      "source": [
        "edges_for_MST[1219]"
      ],
      "execution_count": 92,
      "outputs": [
        {
          "output_type": "execute_result",
          "data": {
            "text/plain": [
              "[409, 498, 97]"
            ]
          },
          "metadata": {
            "tags": []
          },
          "execution_count": 92
        }
      ]
    },
    {
      "cell_type": "code",
      "metadata": {
        "id": "3dNoIGVDG1Te",
        "colab_type": "code",
        "colab": {
          "base_uri": "https://localhost:8080/",
          "height": 35
        },
        "outputId": "2d2681a1-0a37-4ccb-e2b6-845a1aff4a41"
      },
      "source": [
        "edges_for_MST[1217]"
      ],
      "execution_count": 94,
      "outputs": [
        {
          "output_type": "execute_result",
          "data": {
            "text/plain": [
              "[165, 339, 97]"
            ]
          },
          "metadata": {
            "tags": []
          },
          "execution_count": 94
        }
      ]
    },
    {
      "cell_type": "code",
      "metadata": {
        "id": "yZAJzlm9xqxJ",
        "colab_type": "code",
        "colab": {
          "base_uri": "https://localhost:8080/",
          "height": 35
        },
        "outputId": "a570cd13-6efe-4050-9742-73aea294d275"
      },
      "source": [
        "edges_for_MST[0]\n"
      ],
      "execution_count": 95,
      "outputs": [
        {
          "output_type": "execute_result",
          "data": {
            "text/plain": [
              "[1, 348, 1]"
            ]
          },
          "metadata": {
            "tags": []
          },
          "execution_count": 95
        }
      ]
    },
    {
      "cell_type": "code",
      "metadata": {
        "id": "MTy0KEGG2P0Z",
        "colab_type": "code",
        "colab": {
          "base_uri": "https://localhost:8080/",
          "height": 35
        },
        "outputId": "15607cc1-491f-43e4-bcb4-b64bc2c89668"
      },
      "source": [
        "edges_for_MST[1]"
      ],
      "execution_count": 96,
      "outputs": [
        {
          "output_type": "execute_result",
          "data": {
            "text/plain": [
              "[12, 373, 1]"
            ]
          },
          "metadata": {
            "tags": []
          },
          "execution_count": 96
        }
      ]
    },
    {
      "cell_type": "code",
      "metadata": {
        "id": "FrpmiAFs2R-R",
        "colab_type": "code",
        "colab": {}
      },
      "source": [
        "for i in range(0,len(edges_for_MST.keys())):\n",
        "  out=edges_for_MST[i]\n",
        "  if leader[edges_for_MST[i][0]]!=leader[edges_for_MST[i][1]]:\n",
        "    break"
      ],
      "execution_count": 0,
      "outputs": []
    },
    {
      "cell_type": "code",
      "metadata": {
        "id": "MM4zhomF2WCf",
        "colab_type": "code",
        "colab": {
          "base_uri": "https://localhost:8080/",
          "height": 35
        },
        "outputId": "66933ba2-58ab-42db-ab44-39933497e68f"
      },
      "source": [
        "out"
      ],
      "execution_count": 105,
      "outputs": [
        {
          "output_type": "execute_result",
          "data": {
            "text/plain": [
              "[414, 455, 106]"
            ]
          },
          "metadata": {
            "tags": []
          },
          "execution_count": 105
        }
      ]
    },
    {
      "cell_type": "code",
      "metadata": {
        "id": "NSUtkwml2_Ny",
        "colab_type": "code",
        "colab": {
          "base_uri": "https://localhost:8080/",
          "height": 35
        },
        "outputId": "0e51667b-5fb3-43c4-a17f-2942ccd0030a"
      },
      "source": [
        "i"
      ],
      "execution_count": 101,
      "outputs": [
        {
          "output_type": "execute_result",
          "data": {
            "text/plain": [
              "124749"
            ]
          },
          "metadata": {
            "tags": []
          },
          "execution_count": 101
        }
      ]
    },
    {
      "cell_type": "code",
      "metadata": {
        "id": "yyFhVudK3DbS",
        "colab_type": "code",
        "colab": {}
      },
      "source": [
        ""
      ],
      "execution_count": 0,
      "outputs": []
    }
  ]
}