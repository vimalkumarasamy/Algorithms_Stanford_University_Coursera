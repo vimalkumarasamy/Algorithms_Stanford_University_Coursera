{
  "nbformat": 4,
  "nbformat_minor": 0,
  "metadata": {
    "colab": {
      "name": "Kruskal's MST - implicit distance - Union Find Data Structure.ipynb",
      "provenance": [],
      "collapsed_sections": [],
      "authorship_tag": "ABX9TyPKDo4q8+fhxIaDcYLygkSs",
      "include_colab_link": true
    },
    "kernelspec": {
      "name": "python3",
      "display_name": "Python 3"
    }
  },
  "cells": [
    {
      "cell_type": "markdown",
      "metadata": {
        "id": "view-in-github",
        "colab_type": "text"
      },
      "source": [
        "<a href=\"https://colab.research.google.com/github/vimalkumarasamy/Algorithms_Stanford_University_Coursera/blob/master/Greedy%20Algorithms%2C%20Minimum%20Spanning%20Trees%2C%20and%20Dynamic%20Programming/Kruskal's_MST_implicit_distance_Union_Find_Data_Structure.ipynb\" target=\"_parent\"><img src=\"https://colab.research.google.com/assets/colab-badge.svg\" alt=\"Open In Colab\"/></a>"
      ]
    },
    {
      "cell_type": "code",
      "metadata": {
        "id": "R3_8RcZMM2s0",
        "colab_type": "code",
        "colab": {}
      },
      "source": [
        "def find(data, i):\n",
        "    if i != data[i]:\n",
        "        data[i] = find(data, data[i])\n",
        "    return data[i]\n",
        "def union(data, i, j):\n",
        "    pi, pj = find(data, i), find(data, j)\n",
        "    if pi != pj:\n",
        "        data[pi] = pj\n",
        "def connected(data, i, j):\n",
        "    return find(data, i) == find(data, j)"
      ],
      "execution_count": 0,
      "outputs": []
    },
    {
      "cell_type": "code",
      "metadata": {
        "id": "XaSRluP4NNp5",
        "colab_type": "code",
        "colab": {
          "base_uri": "https://localhost:8080/",
          "height": 35
        },
        "outputId": "0e2ccee6-cb64-4b5b-e564-0822c3d5d071"
      },
      "source": [
        "from google.colab import drive\n",
        "drive.mount('/content/gdrive')"
      ],
      "execution_count": 7,
      "outputs": [
        {
          "output_type": "stream",
          "text": [
            "Drive already mounted at /content/gdrive; to attempt to forcibly remount, call drive.mount(\"/content/gdrive\", force_remount=True).\n"
          ],
          "name": "stdout"
        }
      ]
    },
    {
      "cell_type": "code",
      "metadata": {
        "id": "Af8AwXjWNVdU",
        "colab_type": "code",
        "colab": {}
      },
      "source": [
        "filename ='gdrive/My Drive/Algorithms/clustering_big.txt'\n"
      ],
      "execution_count": 0,
      "outputs": []
    },
    {
      "cell_type": "code",
      "metadata": {
        "id": "ztJkZ8UuNOlO",
        "colab_type": "code",
        "colab": {}
      },
      "source": [
        "firstline=True\n",
        "nodes_to_leader={}\n",
        "leader_to_mem={}\n",
        "for f in open(filename):\n",
        "  if firstline:\n",
        "    firstline=False\n",
        "    pass\n",
        "  else:\n",
        "    f=f.replace(\"\\n\",\"\")\n",
        "    f=f.replace(\" \",\"\")\n",
        "    nodes_to_leader[int(f,2)]=int(f,2)\n",
        "    leader_to_mem[int(f,2)]=[int(f,2)]"
      ],
      "execution_count": 0,
      "outputs": []
    },
    {
      "cell_type": "code",
      "metadata": {
        "id": "Zv4cvGQuNfrA",
        "colab_type": "code",
        "colab": {}
      },
      "source": [
        "def friends(node,nodes):\n",
        "  from itertools import combinations \n",
        "  frens=[]\n",
        "  mask=[1<<i for i in range(24)]\n",
        "  comb = combinations(mask, 2)\n",
        "  # print(mask)\n",
        "  for i in mask:\n",
        "    if node^i in nodes:\n",
        "      frens+=[node^i]\n",
        "  for i in comb:\n",
        "    if (node^(1<<i[0]))^(1<<i[1]) in nodes:\n",
        "      frens+=[(node^(1<<i[0]))^(1<<i[1])]\n",
        "  return(frens)"
      ],
      "execution_count": 0,
      "outputs": []
    },
    {
      "cell_type": "code",
      "metadata": {
        "id": "blzFrFmDNjoh",
        "colab_type": "code",
        "colab": {
          "base_uri": "https://localhost:8080/",
          "height": 191
        },
        "outputId": "19d0ad7a-6ff1-415f-d966-a621ef9bea91"
      },
      "source": [
        "m=0\n",
        "for node in nodes_to_leader:\n",
        "  for friend in friends(node,nodes_to_leader):\n",
        "    union(nodes_to_leader, node, friend)\n",
        "      \n",
        "  if m%1000==0:\n",
        "    print(m,' nodes processed')\n",
        "  m=m+1"
      ],
      "execution_count": 0,
      "outputs": [
        {
          "output_type": "stream",
          "text": [
            "0  nodes processed\n",
            "1000  nodes processed\n",
            "2000  nodes processed\n",
            "3000  nodes processed\n",
            "4000  nodes processed\n",
            "5000  nodes processed\n",
            "6000  nodes processed\n",
            "7000  nodes processed\n",
            "8000  nodes processed\n",
            "9000  nodes processed\n"
          ],
          "name": "stdout"
        }
      ]
    },
    {
      "cell_type": "code",
      "metadata": {
        "id": "1IXCAoNQPq0N",
        "colab_type": "code",
        "colab": {}
      },
      "source": [
        ""
      ],
      "execution_count": 0,
      "outputs": []
    }
  ]
}