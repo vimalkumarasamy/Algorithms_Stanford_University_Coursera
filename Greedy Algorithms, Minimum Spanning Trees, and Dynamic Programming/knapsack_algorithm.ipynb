{
  "nbformat": 4,
  "nbformat_minor": 0,
  "metadata": {
    "colab": {
      "name": "knapsack_algorithm.ipynb",
      "provenance": [],
      "collapsed_sections": [],
      "machine_shape": "hm",
      "authorship_tag": "ABX9TyM9XIkd0qKkbTAvVN2c9XPa",
      "include_colab_link": true
    },
    "kernelspec": {
      "name": "python3",
      "display_name": "Python 3"
    },
    "accelerator": "GPU"
  },
  "cells": [
    {
      "cell_type": "markdown",
      "metadata": {
        "id": "view-in-github",
        "colab_type": "text"
      },
      "source": [
        "<a href=\"https://colab.research.google.com/github/vimalkumarasamy/Algorithms_Stanford_University_Coursera/blob/master/Greedy%20Algorithms%2C%20Minimum%20Spanning%20Trees%2C%20and%20Dynamic%20Programming/knapsack_algorithm.ipynb\" target=\"_parent\"><img src=\"https://colab.research.google.com/assets/colab-badge.svg\" alt=\"Open In Colab\"/></a>"
      ]
    },
    {
      "cell_type": "code",
      "metadata": {
        "id": "SfrRiF11YaXm",
        "colab_type": "code",
        "colab": {
          "base_uri": "https://localhost:8080/",
          "height": 69
        },
        "outputId": "9511dc71-7099-46b9-f764-d8645c6695f3"
      },
      "source": [
        "# This code is to implement knapsack algorithm"
      ],
      "execution_count": 5,
      "outputs": [
        {
          "output_type": "stream",
          "text": [
            "Knapsack size: 10000\n",
            "number of items: 100\n",
            "2493893.0\n"
          ],
          "name": "stdout"
        }
      ]
    },
    {
      "cell_type": "code",
      "metadata": {
        "id": "2c4CchS9Yl_g",
        "colab_type": "code",
        "colab": {
          "base_uri": "https://localhost:8080/",
          "height": 124
        },
        "outputId": "c4943b7f-5140-4d12-a068-fb2b74958103"
      },
      "source": [
        "from google.colab import drive\n",
        "drive.mount('/content/gdrive')"
      ],
      "execution_count": 1,
      "outputs": [
        {
          "output_type": "stream",
          "text": [
            "Go to this URL in a browser: https://accounts.google.com/o/oauth2/auth?client_id=947318989803-6bn6qk8qdgf4n4g3pfee6491hc0brc4i.apps.googleusercontent.com&redirect_uri=urn%3aietf%3awg%3aoauth%3a2.0%3aoob&response_type=code&scope=email%20https%3a%2f%2fwww.googleapis.com%2fauth%2fdocs.test%20https%3a%2f%2fwww.googleapis.com%2fauth%2fdrive%20https%3a%2f%2fwww.googleapis.com%2fauth%2fdrive.photos.readonly%20https%3a%2f%2fwww.googleapis.com%2fauth%2fpeopleapi.readonly\n",
            "\n",
            "Enter your authorization code:\n",
            "··········\n",
            "Mounted at /content/gdrive\n"
          ],
          "name": "stdout"
        }
      ]
    },
    {
      "cell_type": "code",
      "metadata": {
        "id": "sDqH90bbYmgs",
        "colab_type": "code",
        "colab": {}
      },
      "source": [
        "filename ='gdrive/My Drive/Algorithms/knapsack1.txt'\n"
      ],
      "execution_count": 0,
      "outputs": []
    },
    {
      "cell_type": "code",
      "metadata": {
        "id": "F-Ql8IPSYvDB",
        "colab_type": "code",
        "colab": {
          "base_uri": "https://localhost:8080/",
          "height": 69
        },
        "outputId": "7442ddac-8805-471b-8079-ac60c4b25ccd"
      },
      "source": [
        "import numpy as np\n",
        "\n",
        "if __name__ == '__main__':\n",
        "    # filename = 'knapsack1.txt'\n",
        "    with open(filename, 'r') as f:\n",
        "        lines = f.readlines()\n",
        "        w, n = map(int, lines[0].split())\n",
        "        print(f'Knapsack size: {w}')\n",
        "        print(f'number of items: {n}')\n",
        "        items = []\n",
        "        for line in lines[1:]:\n",
        "            items.append(tuple(map(int, line.split())))\n",
        "\n",
        "        assert len(items) == n, 'length of items does not match metadata'\n",
        "\n",
        "        A = np.zeros((n, w))\n",
        "        for i in range(1, n):\n",
        "            v_i, w_i = items[i]\n",
        "            for j in range(w):\n",
        "                if w_i > j:\n",
        "                    A[i][j] = A[i - 1, j]\n",
        "                else:\n",
        "                    A[i][j] = max(A[i - 1, j], A[i - 1, j - w_i] + v_i)\n",
        "\n",
        "        print(A.max())"
      ],
      "execution_count": 6,
      "outputs": [
        {
          "output_type": "stream",
          "text": [
            "Knapsack size: 10000\n",
            "number of items: 100\n",
            "2493893.0\n"
          ],
          "name": "stdout"
        }
      ]
    },
    {
      "cell_type": "code",
      "metadata": {
        "id": "p7mAb3pKbzly",
        "colab_type": "code",
        "colab": {}
      },
      "source": [
        "filename ='gdrive/My Drive/Algorithms/knapsack_big.txt'\n"
      ],
      "execution_count": 0,
      "outputs": []
    },
    {
      "cell_type": "code",
      "metadata": {
        "id": "S5P1sfVgb3X6",
        "colab_type": "code",
        "colab": {
          "base_uri": "https://localhost:8080/",
          "height": 52
        },
        "outputId": "d577e1a3-d326-4441-f4cf-45b7acbd6cc1"
      },
      "source": [
        "for i in open(filename):\n",
        "  print(i)\n",
        "  break"
      ],
      "execution_count": 2,
      "outputs": [
        {
          "output_type": "stream",
          "text": [
            "2000000 2000\n",
            "\n"
          ],
          "name": "stdout"
        }
      ]
    },
    {
      "cell_type": "code",
      "metadata": {
        "id": "pB9cFA1Tb72p",
        "colab_type": "code",
        "colab": {
          "base_uri": "https://localhost:8080/",
          "height": 52
        },
        "outputId": "fdcd8815-725c-43ea-dd13-3d5e0690cf46"
      },
      "source": [
        "import numpy as np\n",
        "sys.setrecursionlimit(2 ** 20)  # approx 1 million recursions\n",
        "if __name__ == '__main__':\n",
        "    # filename = 'knapsack1.txt'\n",
        "    with open(filename, 'r') as f:\n",
        "        lines = f.readlines()\n",
        "        w, n = map(int, lines[0].split())\n",
        "        print(f'Knapsack size: {w}')\n",
        "        print(f'number of items: {n}')\n",
        "        items = []\n",
        "        for line in lines[1:]:\n",
        "            items.append(tuple(map(int, line.split())))\n",
        "\n",
        "        assert len(items) == n, 'length of items does not match metadata'\n",
        "\n",
        "        A = np.zeros((n, w))\n",
        "        for i in range(1, n):\n",
        "            v_i, w_i = items[i]\n",
        "            for j in range(w):\n",
        "                if w_i > j:\n",
        "                    A[i][j] = A[i - 1, j]\n",
        "                else:\n",
        "                    A[i][j] = max(A[i - 1, j], A[i - 1, j - w_i] + v_i)\n",
        "\n",
        "        print(A.max())"
      ],
      "execution_count": 0,
      "outputs": [
        {
          "output_type": "stream",
          "text": [
            "Knapsack size: 2000000\n",
            "number of items: 2000\n"
          ],
          "name": "stdout"
        }
      ]
    },
    {
      "cell_type": "code",
      "metadata": {
        "id": "TUrwL3qDb_VB",
        "colab_type": "code",
        "colab": {}
      },
      "source": [
        "import sys\n",
        "import threading\n",
        "\n",
        "def main():\n",
        "    with open(filename, mode='r') as f:\n",
        "        lines = f.readlines()\n",
        "\n",
        "    w, n = map(int, lines[0].split())\n",
        "    print(f'Knapsack size: {w}')\n",
        "    print(f'number of items: {n}')\n",
        "\n",
        "    items = [tuple(map(int, line.split())) for line in lines[1:]]\n",
        "    A = dict()\n",
        "\n",
        "    def get_max_value(i, x):\n",
        "        if i == 0:\n",
        "            return 0\n",
        "        str_ix = str(i) + \":\" + str(x)\n",
        "        if str_ix in A:\n",
        "            return A[str_ix]\n",
        "        v_i_prev, w_i_prev = items[i - 1]\n",
        "        if w_i_prev > x:\n",
        "            A[str_ix] = get_max_value(i - 1, x)\n",
        "        else:\n",
        "            A[str_ix] = max(get_max_value(i - 1, x),\n",
        "                            v_i_prev + get_max_value(i - 1, x - w_i_prev))\n",
        "        return A[str_ix]\n",
        "\n",
        "    result = get_max_value(n, w)\n",
        "    print(result)  # 4243395\n",
        "    return(result)\n",
        "\n"
      ],
      "execution_count": 0,
      "outputs": []
    },
    {
      "cell_type": "code",
      "metadata": {
        "id": "7uUpVPhHdbAA",
        "colab_type": "code",
        "colab": {
          "base_uri": "https://localhost:8080/",
          "height": 52
        },
        "outputId": "bd412cbc-be0a-44e1-ec50-6712cc7a18df"
      },
      "source": [
        "threading.stack_size(64 * 1024 * 1024)  # 64MB stack\n",
        "sys.setrecursionlimit(2 ** 20)  # approx 1 million recursions\n",
        "thread = threading.Thread(target=main)\n",
        "thread.start()\n"
      ],
      "execution_count": 9,
      "outputs": [
        {
          "output_type": "stream",
          "text": [
            "Knapsack size: 2000000\n",
            "number of items: 2000\n"
          ],
          "name": "stdout"
        }
      ]
    },
    {
      "cell_type": "code",
      "metadata": {
        "id": "i7EFXxAcd1vr",
        "colab_type": "code",
        "colab": {}
      },
      "source": [
        ""
      ],
      "execution_count": 0,
      "outputs": []
    }
  ]
}