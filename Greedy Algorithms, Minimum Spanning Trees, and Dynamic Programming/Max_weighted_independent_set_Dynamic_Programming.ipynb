{
  "nbformat": 4,
  "nbformat_minor": 0,
  "metadata": {
    "colab": {
      "name": "Max weighted independent set - Dynamic Programming.ipynb",
      "provenance": [],
      "collapsed_sections": [],
      "authorship_tag": "ABX9TyMxJbJVc7/oESOT7C8qA0Z8",
      "include_colab_link": true
    },
    "kernelspec": {
      "name": "python3",
      "display_name": "Python 3"
    }
  },
  "cells": [
    {
      "cell_type": "markdown",
      "metadata": {
        "id": "view-in-github",
        "colab_type": "text"
      },
      "source": [
        "<a href=\"https://colab.research.google.com/github/vimalkumarasamy/Algorithms_Stanford_University_Coursera/blob/master/Greedy%20Algorithms%2C%20Minimum%20Spanning%20Trees%2C%20and%20Dynamic%20Programming/Max_weighted_independent_set_Dynamic_Programming.ipynb\" target=\"_parent\"><img src=\"https://colab.research.google.com/assets/colab-badge.svg\" alt=\"Open In Colab\"/></a>"
      ]
    },
    {
      "cell_type": "code",
      "metadata": {
        "id": "68hp83zJl247",
        "colab_type": "code",
        "colab": {}
      },
      "source": [
        "# Reference: https://github.com/tiefenauer/stanford-algorithms/blob/master/03-greedy-alorithms-minimum-spanning-trees-dynamic-programming/week-03/min_weight_is.py\n",
        "\n",
        "if __name__ == '__main__':\n",
        "    filename = 'mwis.txt'\n",
        "    # filename = 'huffman.txt'\n",
        "    with open(filename, 'r') as f:\n",
        "        lines = f.readlines()\n",
        "        n_weights = int(lines[0])\n",
        "        weights = [int(line) for line in lines[1:]]\n",
        "        assert n_weights == len(weights), 'something went wrong'\n",
        "\n",
        "        A = [0] * n_weights\n",
        "        A[1] = weights[0]\n",
        "        for i in range(2, n_weights):\n",
        "            A[i] = max(A[i - 1], A[i - 2] + weights[i - 1])\n",
        "\n",
        "        i = len(A)\n",
        "        S = set()\n",
        "        while i >= 1:\n",
        "            if A[i - 1] >= A[i - 2] + weights[i - 1]:\n",
        "                i -= 1\n",
        "            else:\n",
        "                S.add(weights[i - 1])\n",
        "                i -= 2\n",
        "\n",
        "        string = ''\n",
        "        for i in [1, 2, 3, 4, 17, 117, 517, 997]:\n",
        "            if weights[i - 1] in S:\n",
        "                string += '1'\n",
        "                print(f'vertex {i} belongs to S')\n",
        "            else:\n",
        "                string += '0'\n",
        "                print(f'vertex {i} does not belong to S')\n",
        "        print(string)  # 10100110"
      ],
      "execution_count": 0,
      "outputs": []
    }
  ]
}