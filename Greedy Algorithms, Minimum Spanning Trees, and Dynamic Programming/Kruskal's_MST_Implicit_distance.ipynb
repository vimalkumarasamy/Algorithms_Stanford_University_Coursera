{
  "nbformat": 4,
  "nbformat_minor": 0,
  "metadata": {
    "colab": {
      "name": "Kruskal's MST - Implicit distance.ipynb",
      "provenance": [],
      "collapsed_sections": [],
      "authorship_tag": "ABX9TyN7mdA0GL9aURvdtvHq2Hvj",
      "include_colab_link": true
    },
    "kernelspec": {
      "name": "python3",
      "display_name": "Python 3"
    }
  },
  "cells": [
    {
      "cell_type": "markdown",
      "metadata": {
        "id": "view-in-github",
        "colab_type": "text"
      },
      "source": [
        "<a href=\"https://colab.research.google.com/github/vimalkumarasamy/Algorithms_Stanford_University_Coursera/blob/master/Greedy%20Algorithms%2C%20Minimum%20Spanning%20Trees%2C%20and%20Dynamic%20Programming/Kruskal's_MST_Implicit_distance.ipynb\" target=\"_parent\"><img src=\"https://colab.research.google.com/assets/colab-badge.svg\" alt=\"Open In Colab\"/></a>"
      ]
    },
    {
      "cell_type": "code",
      "metadata": {
        "id": "aM5pNar6dYMJ",
        "colab_type": "code",
        "colab": {
          "base_uri": "https://localhost:8080/",
          "height": 124
        },
        "outputId": "48c6f843-0638-49fc-a6c9-fb71953a83fa"
      },
      "source": [
        "from google.colab import drive\n",
        "drive.mount('/content/gdrive')"
      ],
      "execution_count": 1,
      "outputs": [
        {
          "output_type": "stream",
          "text": [
            "Go to this URL in a browser: https://accounts.google.com/o/oauth2/auth?client_id=947318989803-6bn6qk8qdgf4n4g3pfee6491hc0brc4i.apps.googleusercontent.com&redirect_uri=urn%3aietf%3awg%3aoauth%3a2.0%3aoob&response_type=code&scope=email%20https%3a%2f%2fwww.googleapis.com%2fauth%2fdocs.test%20https%3a%2f%2fwww.googleapis.com%2fauth%2fdrive%20https%3a%2f%2fwww.googleapis.com%2fauth%2fdrive.photos.readonly%20https%3a%2f%2fwww.googleapis.com%2fauth%2fpeopleapi.readonly\n",
            "\n",
            "Enter your authorization code:\n",
            "··········\n",
            "Mounted at /content/gdrive\n"
          ],
          "name": "stdout"
        }
      ]
    },
    {
      "cell_type": "code",
      "metadata": {
        "id": "yH599j9id7vY",
        "colab_type": "code",
        "colab": {}
      },
      "source": [
        "filename ='gdrive/My Drive/Algorithms/clustering_big.txt'\n"
      ],
      "execution_count": 0,
      "outputs": []
    },
    {
      "cell_type": "code",
      "metadata": {
        "id": "S7v5O3UOduLa",
        "colab_type": "code",
        "colab": {}
      },
      "source": [
        "leader={}\n",
        "leader_to_mem={}\n",
        "for f in open(filename):\n",
        "  f=f.replace(\"\\n\",\"\")\n",
        "  f=f.replace(\" \",\"\")\n",
        "  if f[:1]!='2':\n",
        "    leader[f]=f\n",
        "    leader_to_mem[f]=[f]"
      ],
      "execution_count": 0,
      "outputs": []
    },
    {
      "cell_type": "code",
      "metadata": {
        "id": "GwPhx8ec5Mu5",
        "colab_type": "code",
        "colab": {}
      },
      "source": [
        "# Function to create a list of members with a distance of 1 unit hamming distance\n",
        "def hamming_1_dist(parent):\n",
        "  children=[]\n",
        "  size=len(parent)\n",
        "  for i in range(0,size):\n",
        "    if parent[i]=='0':\n",
        "      j='1'\n",
        "      child=parent[:i]+j+parent[i+1:]\n",
        "    else:\n",
        "      j='0'\n",
        "      child=parent[:i]+j+parent[i+1:]\n",
        "    children.append(child)\n",
        "\n",
        "  return(children)\n"
      ],
      "execution_count": 0,
      "outputs": []
    },
    {
      "cell_type": "code",
      "metadata": {
        "id": "ukCS7RlHesp8",
        "colab_type": "code",
        "colab": {}
      },
      "source": [
        "# Function to create a list of members with a distance of 2 unit hamming distance\n",
        "def hamming_2_dist(parent):\n",
        "  children=[]\n",
        "  children_interim=hamming_1_dist(parent)\n",
        "  for i in children_interim:\n",
        "    children=children+hamming_1_dist(i)\n",
        "  while parent in children:\n",
        "    children.remove(parent)\n",
        "  \n",
        "  children=list(dict.fromkeys(children))\n",
        "  return(children)"
      ],
      "execution_count": 0,
      "outputs": []
    },
    {
      "cell_type": "code",
      "metadata": {
        "id": "6LDWfySy5Okz",
        "colab_type": "code",
        "colab": {}
      },
      "source": [
        "\n"
      ],
      "execution_count": 0,
      "outputs": []
    },
    {
      "cell_type": "code",
      "metadata": {
        "id": "CweZq_F8coKY",
        "colab_type": "code",
        "colab": {}
      },
      "source": [
        "\n",
        "\n",
        "\n"
      ],
      "execution_count": 0,
      "outputs": []
    },
    {
      "cell_type": "code",
      "metadata": {
        "id": "R7tfDCQhkuyz",
        "colab_type": "code",
        "colab": {}
      },
      "source": [
        ""
      ],
      "execution_count": 0,
      "outputs": []
    }
  ]
}