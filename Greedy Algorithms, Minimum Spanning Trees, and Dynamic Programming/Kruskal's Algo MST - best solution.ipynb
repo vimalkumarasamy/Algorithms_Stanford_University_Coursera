{
  "nbformat": 4,
  "nbformat_minor": 0,
  "metadata": {
    "colab": {
      "name": "Untitled2.ipynb",
      "provenance": [],
      "authorship_tag": "ABX9TyOi5hivW4rhSu/mhCK8tku0",
      "include_colab_link": true
    },
    "kernelspec": {
      "name": "python3",
      "display_name": "Python 3"
    }
  },
  "cells": [
    {
      "cell_type": "markdown",
      "metadata": {
        "id": "view-in-github",
        "colab_type": "text"
      },
      "source": [
        "<a href=\"https://colab.research.google.com/github/vimalkumarasamy/Algorithms_Stanford_University_Coursera/blob/master/Greedy%20Algorithms%2C%20Minimum%20Spanning%20Trees%2C%20and%20Dynamic%20Programming/Kruskal's%20Algo%20MST%20-%20best%20solution.ipynb\" target=\"_parent\"><img src=\"https://colab.research.google.com/assets/colab-badge.svg\" alt=\"Open In Colab\"/></a>"
      ]
    },
    {
      "cell_type": "code",
      "metadata": {
        "id": "GVI-KgOmU6t-",
        "colab_type": "code",
        "colab": {
          "base_uri": "https://localhost:8080/",
          "height": 176
        },
        "outputId": "4ecc95c3-abef-4ad9-9ee1-f4632dcec9da"
      },
      "source": [
        "from google.colab import drive\n",
        "drive.mount('/content/gdrive')\n",
        "\n",
        "import itertools\n",
        "\n",
        "from networkx.utils import UnionFind\n",
        "\n",
        "if __name__ == \"__main__\":\n",
        "    # filename = \"clustering_big.txt\"\n",
        "    filename ='gdrive/My Drive/Algorithms/clustering_big.txt'\n",
        "    with open(filename, \"r\") as f:\n",
        "        lines = f.readlines()\n",
        "\n",
        "    n_nodes, n_bits = map(int, lines[0].split())\n",
        "    print(f'{n_nodes} nodes')\n",
        "    print(f'{n_bits} bits per node')\n",
        "\n",
        "    numbers = [int(''.join(line.split()), 2) for line in lines[1:]]\n",
        "    nodes = {}\n",
        "    for node, num in enumerate(numbers):\n",
        "        if num not in nodes:\n",
        "            nodes[num] = set()\n",
        "        nodes[num].add(node)\n",
        "\n",
        "    uf = UnionFind(range(n_nodes))\n",
        "\n",
        "    distances = [1 << i for i in range(n_bits)]\n",
        "    distances += [(1 << ix_1) ^ (1 << ix_2) for (ix_1, ix_2) in itertools.combinations(range(n_bits), 2)]\n",
        "    distances.append(0)\n",
        "\n",
        "    for distance in distances:\n",
        "        for number in nodes.keys():\n",
        "            if (number ^ distance) in nodes:\n",
        "                for node_from in nodes[number]:\n",
        "                    for node_to in nodes[number ^ distance]:\n",
        "                        uf.union(node_from, node_to)\n",
        "    print(len(list(uf.to_sets())))  # 6118"
      ],
      "execution_count": 1,
      "outputs": [
        {
          "output_type": "stream",
          "text": [
            "Go to this URL in a browser: https://accounts.google.com/o/oauth2/auth?client_id=947318989803-6bn6qk8qdgf4n4g3pfee6491hc0brc4i.apps.googleusercontent.com&redirect_uri=urn%3aietf%3awg%3aoauth%3a2.0%3aoob&response_type=code&scope=email%20https%3a%2f%2fwww.googleapis.com%2fauth%2fdocs.test%20https%3a%2f%2fwww.googleapis.com%2fauth%2fdrive%20https%3a%2f%2fwww.googleapis.com%2fauth%2fdrive.photos.readonly%20https%3a%2f%2fwww.googleapis.com%2fauth%2fpeopleapi.readonly\n",
            "\n",
            "Enter your authorization code:\n",
            "··········\n",
            "Mounted at /content/gdrive\n",
            "200000 nodes\n",
            "24 bits per node\n",
            "6118\n"
          ],
          "name": "stdout"
        }
      ]
    },
    {
      "cell_type": "code",
      "metadata": {
        "id": "f4LlHfseVGCl",
        "colab_type": "code",
        "colab": {}
      },
      "source": [
        ""
      ],
      "execution_count": 0,
      "outputs": []
    }
  ]
}