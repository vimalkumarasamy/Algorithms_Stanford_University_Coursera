{
  "nbformat": 4,
  "nbformat_minor": 0,
  "metadata": {
    "colab": {
      "name": "Scheduling_jobs_Algo.ipynb",
      "provenance": [],
      "collapsed_sections": [],
      "authorship_tag": "ABX9TyMeuwNbWDh9dg5uzKoBru+J",
      "include_colab_link": true
    },
    "kernelspec": {
      "name": "python3",
      "display_name": "Python 3"
    }
  },
  "cells": [
    {
      "cell_type": "markdown",
      "metadata": {
        "id": "view-in-github",
        "colab_type": "text"
      },
      "source": [
        "<a href=\"https://colab.research.google.com/github/vimalkumarasamy/Algorithms_Stanford_University_Coursera/blob/master/Greedy%20Algorithms%2C%20Minimum%20Spanning%20Trees%2C%20and%20Dynamic%20Programming/Scheduling_jobs_Algo.ipynb\" target=\"_parent\"><img src=\"https://colab.research.google.com/assets/colab-badge.svg\" alt=\"Open In Colab\"/></a>"
      ]
    },
    {
      "cell_type": "code",
      "metadata": {
        "id": "N2kWHYAquGGO",
        "colab_type": "code",
        "colab": {}
      },
      "source": [
        "# Scheduling jobs Algorithm"
      ],
      "execution_count": 0,
      "outputs": []
    },
    {
      "cell_type": "code",
      "metadata": {
        "id": "cqFeruvzuOH4",
        "colab_type": "code",
        "colab": {
          "base_uri": "https://localhost:8080/",
          "height": 124
        },
        "outputId": "04dea1ec-0f96-4f91-ea46-38b0ecaecfad"
      },
      "source": [
        "from google.colab import drive\n",
        "drive.mount('/content/gdrive')"
      ],
      "execution_count": 1,
      "outputs": [
        {
          "output_type": "stream",
          "text": [
            "Go to this URL in a browser: https://accounts.google.com/o/oauth2/auth?client_id=947318989803-6bn6qk8qdgf4n4g3pfee6491hc0brc4i.apps.googleusercontent.com&redirect_uri=urn%3aietf%3awg%3aoauth%3a2.0%3aoob&response_type=code&scope=email%20https%3a%2f%2fwww.googleapis.com%2fauth%2fdocs.test%20https%3a%2f%2fwww.googleapis.com%2fauth%2fdrive%20https%3a%2f%2fwww.googleapis.com%2fauth%2fdrive.photos.readonly%20https%3a%2f%2fwww.googleapis.com%2fauth%2fpeopleapi.readonly\n",
            "\n",
            "Enter your authorization code:\n",
            "··········\n",
            "Mounted at /content/gdrive\n"
          ],
          "name": "stdout"
        }
      ]
    },
    {
      "cell_type": "markdown",
      "metadata": {
        "id": "txXdLlXMuX-n",
        "colab_type": "text"
      },
      "source": [
        ""
      ]
    },
    {
      "cell_type": "code",
      "metadata": {
        "id": "-4PWEUf2uYYG",
        "colab_type": "code",
        "colab": {}
      },
      "source": [
        "filename ='gdrive/My Drive/Algorithms/jobs.txt'\n"
      ],
      "execution_count": 0,
      "outputs": []
    },
    {
      "cell_type": "code",
      "metadata": {
        "id": "j7629DGnuSLC",
        "colab_type": "code",
        "colab": {}
      },
      "source": [
        "jobs={}\n",
        "id=1\n",
        "for f in open(filename):\n",
        "  f=f.replace(\"\\n\",\"\")\n",
        "  f=f.split(\" \")\n",
        "  if len(f)==2:\n",
        "    f=[int(i) for i in f]\n",
        "    f=f+[f[0]-f[1]]\n",
        "    jobs[id]=f\n",
        "    id+=1"
      ],
      "execution_count": 0,
      "outputs": []
    },
    {
      "cell_type": "code",
      "metadata": {
        "id": "IhEI_rS7vFK3",
        "colab_type": "code",
        "colab": {
          "base_uri": "https://localhost:8080/",
          "height": 35
        },
        "outputId": "cbdd92df-8f49-4f5b-8dba-aa8f06b802b1"
      },
      "source": [
        "for f in open(filename):\n",
        "  f=f.replace(\"\\n\",\"\")\n",
        "  f=f.split(\" \")\n",
        "  if len(f)!=2:\n",
        "    print(f)"
      ],
      "execution_count": 10,
      "outputs": [
        {
          "output_type": "stream",
          "text": [
            "['10000']\n"
          ],
          "name": "stdout"
        }
      ]
    },
    {
      "cell_type": "code",
      "metadata": {
        "id": "lQBO8SHQvFxM",
        "colab_type": "code",
        "colab": {
          "base_uri": "https://localhost:8080/",
          "height": 35
        },
        "outputId": "e41fca36-6e83-454e-9b0a-5e16ed008536"
      },
      "source": [
        "len(jobs.keys())"
      ],
      "execution_count": 4,
      "outputs": [
        {
          "output_type": "execute_result",
          "data": {
            "text/plain": [
              "10000"
            ]
          },
          "metadata": {
            "tags": []
          },
          "execution_count": 4
        }
      ]
    },
    {
      "cell_type": "code",
      "metadata": {
        "id": "aVAmF1XYw9LW",
        "colab_type": "code",
        "colab": {
          "base_uri": "https://localhost:8080/",
          "height": 35
        },
        "outputId": "5b6b31b6-b6af-4199-ab0a-b31483dec6d0"
      },
      "source": [
        "max(jobs.keys())"
      ],
      "execution_count": 5,
      "outputs": [
        {
          "output_type": "execute_result",
          "data": {
            "text/plain": [
              "10000"
            ]
          },
          "metadata": {
            "tags": []
          },
          "execution_count": 5
        }
      ]
    },
    {
      "cell_type": "code",
      "metadata": {
        "id": "VUdsRBTNxBSZ",
        "colab_type": "code",
        "colab": {
          "base_uri": "https://localhost:8080/",
          "height": 35
        },
        "outputId": "e4e1054e-6d40-4dfe-8317-dcf8cf16d870"
      },
      "source": [
        "jobs[1]"
      ],
      "execution_count": 6,
      "outputs": [
        {
          "output_type": "execute_result",
          "data": {
            "text/plain": [
              "[8, 50, -42]"
            ]
          },
          "metadata": {
            "tags": []
          },
          "execution_count": 6
        }
      ]
    },
    {
      "cell_type": "code",
      "metadata": {
        "id": "Vk2qjHIgxrrV",
        "colab_type": "code",
        "colab": {}
      },
      "source": [
        "val=100\n",
        "for i in jobs.keys():\n",
        "  if jobs[i][2]<val:\n",
        "    val=jobs[i][2]\n",
        "  "
      ],
      "execution_count": 0,
      "outputs": []
    },
    {
      "cell_type": "code",
      "metadata": {
        "id": "BslBsxYq4EKG",
        "colab_type": "code",
        "colab": {
          "base_uri": "https://localhost:8080/",
          "height": 35
        },
        "outputId": "2cdd0694-2fbb-4d9f-f22e-c78e0d19ee93"
      },
      "source": [
        "val"
      ],
      "execution_count": 9,
      "outputs": [
        {
          "output_type": "execute_result",
          "data": {
            "text/plain": [
              "-97"
            ]
          },
          "metadata": {
            "tags": []
          },
          "execution_count": 9
        }
      ]
    },
    {
      "cell_type": "code",
      "metadata": {
        "id": "UDRbcXTV4FH2",
        "colab_type": "code",
        "colab": {}
      },
      "source": [
        "for i in jobs.keys():\n",
        "  prev=0\n",
        "  for j in jobs.keys():\n",
        "    if j!=i:\n",
        "      if jobs[i][2]<jobs[j][2]:\n",
        "        prev+=1\n",
        "  jobs[i]=jobs[i]+[prev]"
      ],
      "execution_count": 0,
      "outputs": []
    },
    {
      "cell_type": "code",
      "metadata": {
        "id": "jlVOUWtK5KfD",
        "colab_type": "code",
        "colab": {}
      },
      "source": [
        "arr=[]\n",
        "for i in jobs:\n",
        "  arr+=[jobs[i][3]]"
      ],
      "execution_count": 0,
      "outputs": []
    },
    {
      "cell_type": "code",
      "metadata": {
        "id": "84GYgrv_5SNw",
        "colab_type": "code",
        "colab": {
          "base_uri": "https://localhost:8080/",
          "height": 52
        },
        "outputId": "43aaddc8-bbc5-4323-acf9-48a673c85814"
      },
      "source": [
        "print(len(arr))\n",
        "mylist = list(dict.fromkeys(arr))\n",
        "print(len(mylist))"
      ],
      "execution_count": 18,
      "outputs": [
        {
          "output_type": "stream",
          "text": [
            "10000\n",
            "196\n"
          ],
          "name": "stdout"
        }
      ]
    },
    {
      "cell_type": "code",
      "metadata": {
        "id": "eMUPsNjG5bb2",
        "colab_type": "code",
        "colab": {
          "base_uri": "https://localhost:8080/",
          "height": 35
        },
        "outputId": "d96eb22e-0269-4298-c752-a5a027ddc3c0"
      },
      "source": [
        "jobs[1]"
      ],
      "execution_count": 19,
      "outputs": [
        {
          "output_type": "execute_result",
          "data": {
            "text/plain": [
              "[8, 50, -42, 1715]"
            ]
          },
          "metadata": {
            "tags": []
          },
          "execution_count": 19
        }
      ]
    },
    {
      "cell_type": "code",
      "metadata": {
        "id": "NRL816O36At5",
        "colab_type": "code",
        "colab": {}
      },
      "source": [
        "arr.sort()"
      ],
      "execution_count": 0,
      "outputs": []
    },
    {
      "cell_type": "code",
      "metadata": {
        "id": "GnkM8ram6Qq7",
        "colab_type": "code",
        "colab": {}
      },
      "source": [
        "sorted_jobs={}\n",
        "for i in range(0,10001):\n",
        "  collection={}\n",
        "  for j in jobs.keys():\n",
        "    if i==jobs[j][3]:\n",
        "      collection[j]=jobs[j]\n",
        "  # print(collection)\n",
        "  if len(collection.keys())==1:\n",
        "    for k in collection.keys():\n",
        "      sorted_jobs[jobs[k][3]]=jobs[k]\n",
        "  elif len(collection.keys())>1:\n",
        "    k=i\n",
        "    order={}\n",
        "    for l in collection.keys():\n",
        "      prev=0\n",
        "      \n",
        "      for m in collection.keys():\n",
        "        if l!=m:\n",
        "          if collection[m][0]>collection[l][0]:\n",
        "            prev+=1\n",
        "      # print(prev)\n",
        "      while prev in order.keys():\n",
        "        prev=prev+1 \n",
        "      # print(prev)\n",
        "      order[prev]=l\n",
        "    # print(order)\n",
        "    for n in range(0,len(collection.keys())):\n",
        "      # print(n)\n",
        "      sorted_jobs[k+n]=jobs[order[n]]\n",
        "\n",
        "\n",
        "\n"
      ],
      "execution_count": 0,
      "outputs": []
    },
    {
      "cell_type": "code",
      "metadata": {
        "id": "YA76IXMQ6d2N",
        "colab_type": "code",
        "colab": {}
      },
      "source": [
        "initial_time=0\n",
        "cost=0\n",
        "for i in range(0,10000):\n",
        "  current_cost=sorted_jobs[i][0]*(sorted_jobs[i][1] + initial_time)\n",
        "  cost+=current_cost\n",
        "  initial_time+=sorted_jobs[i][1]"
      ],
      "execution_count": 0,
      "outputs": []
    },
    {
      "cell_type": "code",
      "metadata": {
        "id": "CBz55-0wBIgm",
        "colab_type": "code",
        "colab": {
          "base_uri": "https://localhost:8080/",
          "height": 35
        },
        "outputId": "f630cf49-f0d2-4d2e-f1ec-55682bffef3e"
      },
      "source": [
        "cost "
      ],
      "execution_count": 76,
      "outputs": [
        {
          "output_type": "execute_result",
          "data": {
            "text/plain": [
              "69119377652"
            ]
          },
          "metadata": {
            "tags": []
          },
          "execution_count": 76
        }
      ]
    },
    {
      "cell_type": "code",
      "metadata": {
        "id": "NF8mn728BJ9M",
        "colab_type": "code",
        "colab": {}
      },
      "source": [
        ""
      ],
      "execution_count": 0,
      "outputs": []
    },
    {
      "cell_type": "code",
      "metadata": {
        "id": "q9cBRVLhHAOf",
        "colab_type": "code",
        "colab": {
          "base_uri": "https://localhost:8080/",
          "height": 35
        },
        "outputId": "c8d80da9-841d-453d-945f-a1d2d52b65b8"
      },
      "source": [
        "jobs={}\n",
        "id=1\n",
        "for f in open(filename):\n",
        "  f=f.replace(\"\\n\",\"\")\n",
        "  f=f.split(\" \")\n",
        "  if len(f)==2:\n",
        "    f=[int(i) for i in f]\n",
        "    f=f+[f[0]/f[1]]\n",
        "    jobs[id]=f\n",
        "    id+=1\n",
        "\n",
        "for i in jobs.keys():\n",
        "  prev=0\n",
        "  for j in jobs.keys():\n",
        "    if j!=i:\n",
        "      if jobs[i][2]<jobs[j][2]:\n",
        "        prev+=1\n",
        "  jobs[i]=jobs[i]+[prev]\n",
        "\n",
        "\n",
        "sorted_jobs={}\n",
        "for i in range(0,10001):\n",
        "  collection={}\n",
        "  for j in jobs.keys():\n",
        "    if i==jobs[j][3]:\n",
        "      collection[j]=jobs[j]\n",
        "  # print(collection)\n",
        "  if len(collection.keys())==1:\n",
        "    for k in collection.keys():\n",
        "      sorted_jobs[jobs[k][3]]=jobs[k]\n",
        "  elif len(collection.keys())>1:\n",
        "    k=i\n",
        "    order={}\n",
        "    for l in collection.keys():\n",
        "      prev=0\n",
        "      \n",
        "      for m in collection.keys():\n",
        "        if l!=m:\n",
        "          if collection[m][0]>collection[l][0]:\n",
        "            prev+=1\n",
        "      # print(prev)\n",
        "      while prev in order.keys():\n",
        "        prev=prev+1 \n",
        "      # print(prev)\n",
        "      order[prev]=l\n",
        "    # print(order)\n",
        "    for n in range(0,len(collection.keys())):\n",
        "      # print(n)\n",
        "      sorted_jobs[k+n]=jobs[order[n]]\n",
        "\n",
        "\n",
        "initial_time=0\n",
        "cost=0\n",
        "for i in range(0,10000):\n",
        "  current_cost=sorted_jobs[i][0]*(sorted_jobs[i][1] + initial_time)\n",
        "  cost+=current_cost\n",
        "  initial_time+=sorted_jobs[i][1]\n",
        "\n",
        "\n",
        "print(cost)\n"
      ],
      "execution_count": 78,
      "outputs": [
        {
          "output_type": "stream",
          "text": [
            "67311454237\n"
          ],
          "name": "stdout"
        }
      ]
    },
    {
      "cell_type": "code",
      "metadata": {
        "id": "_C0Gos1nVW5Z",
        "colab_type": "code",
        "colab": {}
      },
      "source": [
        ""
      ],
      "execution_count": 0,
      "outputs": []
    }
  ]
}