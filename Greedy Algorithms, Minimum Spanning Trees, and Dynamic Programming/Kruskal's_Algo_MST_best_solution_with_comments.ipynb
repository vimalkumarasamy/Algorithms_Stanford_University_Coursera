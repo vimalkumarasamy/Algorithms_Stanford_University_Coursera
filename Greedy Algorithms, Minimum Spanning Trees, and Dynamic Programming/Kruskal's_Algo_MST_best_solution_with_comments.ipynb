{
  "nbformat": 4,
  "nbformat_minor": 0,
  "metadata": {
    "colab": {
      "name": "Kruskal's Algo MST - best solution.ipynb",
      "provenance": [],
      "collapsed_sections": [],
      "include_colab_link": true
    },
    "kernelspec": {
      "name": "python3",
      "display_name": "Python 3"
    }
  },
  "cells": [
    {
      "cell_type": "markdown",
      "metadata": {
        "id": "view-in-github",
        "colab_type": "text"
      },
      "source": [
        "<a href=\"https://colab.research.google.com/github/vimalkumarasamy/Algorithms_Stanford_University_Coursera/blob/master/Greedy%20Algorithms%2C%20Minimum%20Spanning%20Trees%2C%20and%20Dynamic%20Programming/Kruskal's_Algo_MST_best_solution_with_comments.ipynb\" target=\"_parent\"><img src=\"https://colab.research.google.com/assets/colab-badge.svg\" alt=\"Open In Colab\"/></a>"
      ]
    },
    {
      "cell_type": "code",
      "metadata": {
        "id": "GVI-KgOmU6t-",
        "colab_type": "code",
        "outputId": "3cb00603-862b-475f-9dfd-2c7e79cf7f47",
        "colab": {
          "base_uri": "https://localhost:8080/",
          "height": 159
        }
      },
      "source": [
        "# Mounting Google Drive to import data\n",
        "from google.colab import drive\n",
        "drive.mount('/content/gdrive')\n",
        "\n",
        "# Importing package to compute combinations (24C2 to precise)\n",
        "import itertools\n",
        "\n",
        "# Imporitng union find data structure\n",
        "from networkx.utils import UnionFind\n",
        "\n",
        "if __name__ == \"__main__\":\n",
        "    # filename = \"clustering_big.txt\"\n",
        "    # Filename location \n",
        "    filename ='gdrive/My Drive/Algorithms/clustering_big.txt'\n",
        "    with open(filename, \"r\") as f:\n",
        "        lines = f.readlines()\n",
        "    \n",
        "    # Accessing the first line of the data, it contains number of nodes and number of bits\n",
        "    n_nodes, n_bits = map(int, lines[0].split())\n",
        "    print(f'{n_nodes} nodes')\n",
        "    print(f'{n_bits} bits per node')\n",
        "\n",
        "    # Reading 24 bits (sequence of 0s and 1s) and converting them in to base 10 version\n",
        "    numbers = [int(''.join(line.split()), 2) for line in lines[1:]]\n",
        "    nodes = {}\n",
        "\n",
        "    # node is the index of array, num is the base 10 number of the 24 bits read\n",
        "    for node, num in enumerate(numbers):\n",
        "        # creating a dictionary where the key is base 10 number, value is indexes with the same base 10 number\n",
        "        # the data provided had duplicates of 24 bit sequences\n",
        "        if num not in nodes:\n",
        "            nodes[num] = set()\n",
        "        nodes[num].add(node)\n"
      ],
      "execution_count": 1,
      "outputs": [
        {
          "output_type": "stream",
          "text": [
            "Go to this URL in a browser: https://accounts.google.com/o/oauth2/auth?client_id=947318989803-6bn6qk8qdgf4n4g3pfee6491hc0brc4i.apps.googleusercontent.com&redirect_uri=urn%3aietf%3awg%3aoauth%3a2.0%3aoob&response_type=code&scope=email%20https%3a%2f%2fwww.googleapis.com%2fauth%2fdocs.test%20https%3a%2f%2fwww.googleapis.com%2fauth%2fdrive%20https%3a%2f%2fwww.googleapis.com%2fauth%2fdrive.photos.readonly%20https%3a%2f%2fwww.googleapis.com%2fauth%2fpeopleapi.readonly\n",
            "\n",
            "Enter your authorization code:\n",
            "··········\n",
            "Mounted at /content/gdrive\n",
            "200000 nodes\n",
            "24 bits per node\n"
          ],
          "name": "stdout"
        }
      ]
    },
    {
      "cell_type": "code",
      "metadata": {
        "id": "f4LlHfseVGCl",
        "colab_type": "code",
        "colab": {}
      },
      "source": [
        "# creating a union find data structure with n_nodes - the last value stored in the variable would be the number of rows in (dataset-1)\n",
        "uf = UnionFind(range(n_nodes))\n",
        "\n",
        "# n_bits = 24\n",
        "# distances is an array of 1, 10, 100, 1000, ... 10^23 represented in base 10 form \n",
        "# say the input sequence is 1111, the points that are 1 hamming distance away are 1110, 1101, 1011, 0111\n",
        "# 1111 ^ 0100 = 1011 ( bitwise XOR operator)\n",
        "# so we are iterating 24 times and creating the numbers 1, 10, ... 10^23 such that we can perform XOR and get the sequences which are 1 hamming distance away\n",
        "distances = [1 << i for i in range(n_bits)]\n",
        "\n",
        "# we are appending to distances list with numbers like 11, 101, 1001, ... where there are 2 1s in 24 bit sequence\n",
        "# when we XOR the above set with the input sequence, we get all the sequences that are 2 hamming distance away from the given sequence\n",
        "distances += [(1 << ix_1) ^ (1 << ix_2) for (ix_1, ix_2) in itertools.combinations(range(n_bits), 2)]\n",
        "# adding 0 to the list to handle the duplicates in the data\n",
        "distances.append(0)\n"
      ],
      "execution_count": 0,
      "outputs": []
    },
    {
      "cell_type": "code",
      "metadata": {
        "id": "j08nWM7we7xB",
        "colab_type": "code",
        "colab": {
          "base_uri": "https://localhost:8080/",
          "height": 35
        },
        "outputId": "cc2a5eb0-059a-4389-8aed-5979356f2198"
      },
      "source": [
        "# for a given offset\n",
        "for distance in distances:\n",
        "  # iterating through the bit sequences in base 10\n",
        "    for number in nodes.keys():\n",
        "      # if the input sequence XOR an offset is a legitimate node (exists in the input data)\n",
        "        if (number ^ distance) in nodes:\n",
        "          # take all of the indexes under the given sequence\n",
        "            for node_from in nodes[number]:\n",
        "              # take all of the indexes under the given sequence XOR offset\n",
        "                for node_to in nodes[number ^ distance]:\n",
        "                  # make them part of the same cluster\n",
        "                    uf.union(node_from, node_to)\n",
        "print(len(list(uf.to_sets())))  # 6118"
      ],
      "execution_count": 3,
      "outputs": [
        {
          "output_type": "stream",
          "text": [
            "6118\n"
          ],
          "name": "stdout"
        }
      ]
    },
    {
      "cell_type": "code",
      "metadata": {
        "id": "mJjyiNLag16L",
        "colab_type": "code",
        "colab": {}
      },
      "source": [
        ""
      ],
      "execution_count": 0,
      "outputs": []
    },
    {
      "cell_type": "code",
      "metadata": {
        "id": "hBHx44FKfPwk",
        "colab_type": "code",
        "colab": {}
      },
      "source": [
        ""
      ],
      "execution_count": 0,
      "outputs": []
    }
  ]
}