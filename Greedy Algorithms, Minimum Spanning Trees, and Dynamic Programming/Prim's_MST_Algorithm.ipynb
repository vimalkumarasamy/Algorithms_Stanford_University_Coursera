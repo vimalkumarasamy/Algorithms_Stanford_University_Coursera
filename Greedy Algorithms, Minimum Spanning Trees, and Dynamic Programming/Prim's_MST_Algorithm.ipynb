{
  "nbformat": 4,
  "nbformat_minor": 0,
  "metadata": {
    "colab": {
      "name": "Prim's MST Algorithm.ipynb",
      "provenance": [],
      "collapsed_sections": [],
      "authorship_tag": "ABX9TyON2wYiVN5BWkEfFMiXPLyW",
      "include_colab_link": true
    },
    "kernelspec": {
      "name": "python3",
      "display_name": "Python 3"
    }
  },
  "cells": [
    {
      "cell_type": "markdown",
      "metadata": {
        "id": "view-in-github",
        "colab_type": "text"
      },
      "source": [
        "<a href=\"https://colab.research.google.com/github/vimalkumarasamy/Algorithms_Stanford_University_Coursera/blob/master/Greedy%20Algorithms%2C%20Minimum%20Spanning%20Trees%2C%20and%20Dynamic%20Programming/Prim's_MST_Algorithm.ipynb\" target=\"_parent\"><img src=\"https://colab.research.google.com/assets/colab-badge.svg\" alt=\"Open In Colab\"/></a>"
      ]
    },
    {
      "cell_type": "code",
      "metadata": {
        "id": "Or00gCV_W5Ib",
        "colab_type": "code",
        "colab": {
          "base_uri": "https://localhost:8080/",
          "height": 124
        },
        "outputId": "d43bae2e-b10e-472a-da77-b4e51af847fa"
      },
      "source": [
        "from google.colab import drive\n",
        "drive.mount('/content/gdrive')"
      ],
      "execution_count": 1,
      "outputs": [
        {
          "output_type": "stream",
          "text": [
            "Go to this URL in a browser: https://accounts.google.com/o/oauth2/auth?client_id=947318989803-6bn6qk8qdgf4n4g3pfee6491hc0brc4i.apps.googleusercontent.com&redirect_uri=urn%3aietf%3awg%3aoauth%3a2.0%3aoob&response_type=code&scope=email%20https%3a%2f%2fwww.googleapis.com%2fauth%2fdocs.test%20https%3a%2f%2fwww.googleapis.com%2fauth%2fdrive%20https%3a%2f%2fwww.googleapis.com%2fauth%2fdrive.photos.readonly%20https%3a%2f%2fwww.googleapis.com%2fauth%2fpeopleapi.readonly\n",
            "\n",
            "Enter your authorization code:\n",
            "··········\n",
            "Mounted at /content/gdrive\n"
          ],
          "name": "stdout"
        }
      ]
    },
    {
      "cell_type": "code",
      "metadata": {
        "id": "oZ969ZgIW_ea",
        "colab_type": "code",
        "colab": {
          "base_uri": "https://localhost:8080/",
          "height": 35
        },
        "outputId": "92069897-cfe4-426a-806f-2f7980c63cac"
      },
      "source": [
        "filename ='gdrive/My Drive/Algorithms/edges.txt'\n",
        "\n",
        "arr=[]\n",
        "graph={}\n",
        "for f in open(filename):\n",
        "  vertices={}\n",
        "  f=f.replace(\"\\n\",\"\")\n",
        "  f=f.split(\" \")\n",
        "  if len(f)==3:\n",
        "    arr=arr+[int(f[2])]\n",
        "\n",
        "max(arr)"
      ],
      "execution_count": 1,
      "outputs": [
        {
          "output_type": "execute_result",
          "data": {
            "text/plain": [
              "9999"
            ]
          },
          "metadata": {
            "tags": []
          },
          "execution_count": 1
        }
      ]
    },
    {
      "cell_type": "code",
      "metadata": {
        "id": "egj9K71qXmgU",
        "colab_type": "code",
        "colab": {}
      },
      "source": [
        "graph={}\n",
        "for f in open(filename):\n",
        "  vertices={}\n",
        "  f=f.replace(\"\\n\",\"\")\n",
        "  f=f.split(\" \")\n",
        "  if len(f)==3:\n",
        "    f=[int(i) for i in f]\n",
        "    if f[0] not in graph.keys():\n",
        "      graph[f[0]]={f[1]:f[2]}\n",
        "    else:\n",
        "      temp=graph[f[0]]\n",
        "      temp[f[1]]=f[2]\n",
        "      graph[f[0]]=temp\n",
        "    if f[1] not in graph.keys():\n",
        "      graph[f[1]]={f[0]:f[2]}\n",
        "    else:\n",
        "      temp=graph[f[1]]\n",
        "      temp[f[0]]=f[2]\n",
        "      graph[f[1]]=temp\n"
      ],
      "execution_count": 0,
      "outputs": []
    },
    {
      "cell_type": "code",
      "metadata": {
        "id": "iLK5KbSqqpmi",
        "colab_type": "code",
        "colab": {}
      },
      "source": [
        ""
      ],
      "execution_count": 0,
      "outputs": []
    },
    {
      "cell_type": "code",
      "metadata": {
        "id": "o6rK8sEwXqKW",
        "colab_type": "code",
        "colab": {}
      },
      "source": [
        "source=[i for i in graph.keys()]"
      ],
      "execution_count": 0,
      "outputs": []
    },
    {
      "cell_type": "code",
      "metadata": {
        "id": "WrhdPQyHkHfh",
        "colab_type": "code",
        "colab": {}
      },
      "source": [
        "dest=[]\n",
        "for i in graph.keys():\n",
        "  for j in graph[i].keys():\n",
        "    if j not in dest:\n",
        "      dest=dest+[j]\n"
      ],
      "execution_count": 0,
      "outputs": []
    },
    {
      "cell_type": "code",
      "metadata": {
        "id": "gdgG1MQnkY0A",
        "colab_type": "code",
        "colab": {
          "base_uri": "https://localhost:8080/",
          "height": 35
        },
        "outputId": "08ce6800-1984-4f2a-eb33-ed13cf9c13d3"
      },
      "source": [
        "mylist=source+dest\n",
        "# mylist = [\"a\", \"b\", \"a\", \"c\", \"c\"]\n",
        "mylist = list(dict.fromkeys(mylist))\n",
        "print(len(mylist))\n",
        "\n",
        "vertex_count=len(mylist)"
      ],
      "execution_count": 16,
      "outputs": [
        {
          "output_type": "stream",
          "text": [
            "500\n"
          ],
          "name": "stdout"
        }
      ]
    },
    {
      "cell_type": "code",
      "metadata": {
        "id": "SzWhFRmHXr2Y",
        "colab_type": "code",
        "colab": {}
      },
      "source": [
        "seen={}\n",
        "cost=0\n",
        "max_len=10000\n",
        "initial_vertex=1\n",
        "seen[initial_vertex]=True\n",
        "mylist=source+dest\n",
        "mst={}\n",
        "mylist = list(dict.fromkeys(mylist))\n",
        "vertex_count=len(mylist)\n",
        "\n",
        "while len(seen.keys())<vertex_count:\n",
        "  max_len=10000\n",
        "  for i in seen.keys():\n",
        "    try:\n",
        "      end_points=graph[i]\n",
        "      for j in end_points.keys():\n",
        "        if j not in seen.keys() and j!=i:\n",
        "          if end_points[j]<max_len:\n",
        "            max_len=end_points[j]\n",
        "            parent=i\n",
        "            child=j\n",
        "            next_edge=max_len\n",
        "    except:\n",
        "      pass\n",
        "\n",
        "  cost=cost+graph[parent][child]\n",
        "  # print(str(parent)+'_'+str(child))\n",
        "  # print(cost)\n",
        "  seen[child]=True\n",
        "  mst[str(parent)+'_'+str(child)]=True\n",
        "\n",
        "  \n"
      ],
      "execution_count": 0,
      "outputs": []
    },
    {
      "cell_type": "code",
      "metadata": {
        "id": "-m2MwRCzXx4o",
        "colab_type": "code",
        "colab": {
          "base_uri": "https://localhost:8080/",
          "height": 173
        },
        "outputId": "0c112782-e946-4a1a-e1d9-dfdbec4f6c82"
      },
      "source": [
        "graph[1]"
      ],
      "execution_count": 18,
      "outputs": [
        {
          "output_type": "execute_result",
          "data": {
            "text/plain": [
              "{2: 6807,\n",
              " 132: -151,\n",
              " 171: 8358,\n",
              " 244: 6723,\n",
              " 310: 9791,\n",
              " 316: 569,\n",
              " 324: -1612,\n",
              " 397: -5942,\n",
              " 414: 3655}"
            ]
          },
          "metadata": {
            "tags": []
          },
          "execution_count": 18
        }
      ]
    },
    {
      "cell_type": "code",
      "metadata": {
        "id": "5Zrnnu7Qi82e",
        "colab_type": "code",
        "colab": {
          "base_uri": "https://localhost:8080/",
          "height": 173
        },
        "outputId": "2c374dff-7ec7-4631-89c9-6d31fc978eeb"
      },
      "source": [
        "graph[397]"
      ],
      "execution_count": 19,
      "outputs": [
        {
          "output_type": "execute_result",
          "data": {
            "text/plain": [
              "{1: -5942,\n",
              " 132: -349,\n",
              " 140: -1008,\n",
              " 159: -7157,\n",
              " 228: -7927,\n",
              " 343: -7570,\n",
              " 348: 6497,\n",
              " 396: -1734,\n",
              " 398: 1603}"
            ]
          },
          "metadata": {
            "tags": []
          },
          "execution_count": 19
        }
      ]
    },
    {
      "cell_type": "code",
      "metadata": {
        "id": "q35PAcDDjPLy",
        "colab_type": "code",
        "colab": {
          "base_uri": "https://localhost:8080/",
          "height": 35
        },
        "outputId": "4481b374-c553-449c-fce2-3179cbd6419e"
      },
      "source": [
        "graph[324]"
      ],
      "execution_count": 20,
      "outputs": [
        {
          "output_type": "execute_result",
          "data": {
            "text/plain": [
              "{1: -1612, 30: -9689, 105: 2296, 201: 4802, 323: -6212, 325: -3338, 393: -3743}"
            ]
          },
          "metadata": {
            "tags": []
          },
          "execution_count": 20
        }
      ]
    },
    {
      "cell_type": "code",
      "metadata": {
        "id": "tBjbTmSimkpK",
        "colab_type": "code",
        "colab": {
          "base_uri": "https://localhost:8080/",
          "height": 35
        },
        "outputId": "2704fffc-643a-496b-ba47-fad626ce5064"
      },
      "source": [
        "cost"
      ],
      "execution_count": 21,
      "outputs": [
        {
          "output_type": "execute_result",
          "data": {
            "text/plain": [
              "-3612829"
            ]
          },
          "metadata": {
            "tags": []
          },
          "execution_count": 21
        }
      ]
    },
    {
      "cell_type": "code",
      "metadata": {
        "id": "jXn9Y_BYomZE",
        "colab_type": "code",
        "colab": {
          "base_uri": "https://localhost:8080/",
          "height": 35
        },
        "outputId": "4e58a737-2be9-431c-d8c8-5bb44e77706c"
      },
      "source": [
        "# reference: https://github.com/dbarabanov/coursera/blob/master/algorithms_2/assignment_1/question_3.py\n",
        "# Python 2 implementation\n",
        "edges = [map(int, x.split(' ')) for x in open(filename, 'r').read().split('\\n')[1:-1]]\n",
        "vertices = set()\n",
        "for edge in edges:\n",
        "    vertices.add(edge[0])\n",
        "    vertices.add(edge[1])\n",
        "spanned = set()\n",
        "spanned.add(vertices.pop())\n",
        "\n",
        "total_cost = 0\n",
        "while len(vertices)>0:\n",
        "    best_cost = 9999999\n",
        "    for edge in edges:\n",
        "        if edge[0] in spanned and edge[1] in vertices and edge[2]<best_cost:\n",
        "            best_cost = edge[2]\n",
        "            best_vert = edge[1]\n",
        "        if edge[1] in spanned and edge[0] in vertices and edge[2]<best_cost:\n",
        "            best_cost = edge[2]\n",
        "            best_vert = edge[0]\n",
        "    spanned.add(best_vert)\n",
        "    vertices.remove(best_vert)\n",
        "    total_cost+=best_cost\n",
        "\n",
        "#    print vertices\n",
        "#    print best_cost\n",
        "#    print best_vert\n",
        "#    print spanned\n",
        "#    print total_cost\n",
        "print (total_cost)"
      ],
      "execution_count": 3,
      "outputs": [
        {
          "output_type": "stream",
          "text": [
            "-3612829\n"
          ],
          "name": "stdout"
        }
      ]
    },
    {
      "cell_type": "code",
      "metadata": {
        "id": "9TW49OiPoxz-",
        "colab_type": "code",
        "colab": {}
      },
      "source": [
        ""
      ],
      "execution_count": 0,
      "outputs": []
    },
    {
      "cell_type": "code",
      "metadata": {
        "id": "CGGUPBVlqmGu",
        "colab_type": "code",
        "colab": {}
      },
      "source": [
        ""
      ],
      "execution_count": 0,
      "outputs": []
    }
  ]
}