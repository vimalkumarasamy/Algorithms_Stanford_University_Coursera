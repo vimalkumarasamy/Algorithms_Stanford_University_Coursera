{
  "nbformat": 4,
  "nbformat_minor": 0,
  "metadata": {
    "colab": {
      "name": "Huffman Binary Code Algorithm.ipynb",
      "provenance": [],
      "collapsed_sections": [],
      "authorship_tag": "ABX9TyN0BTsAVxTdwHMqrwKdzozf",
      "include_colab_link": true
    },
    "kernelspec": {
      "name": "python3",
      "display_name": "Python 3"
    }
  },
  "cells": [
    {
      "cell_type": "markdown",
      "metadata": {
        "id": "view-in-github",
        "colab_type": "text"
      },
      "source": [
        "<a href=\"https://colab.research.google.com/github/vimalkumarasamy/Algorithms_Stanford_University_Coursera/blob/master/Greedy%20Algorithms%2C%20Minimum%20Spanning%20Trees%2C%20and%20Dynamic%20Programming/Huffman_Binary_Code_Algorithm.ipynb\" target=\"_parent\"><img src=\"https://colab.research.google.com/assets/colab-badge.svg\" alt=\"Open In Colab\"/></a>"
      ]
    },
    {
      "cell_type": "code",
      "metadata": {
        "id": "mkWqu96O2HO9",
        "colab_type": "code",
        "colab": {
          "base_uri": "https://localhost:8080/",
          "height": 35
        },
        "outputId": "30a9fbc4-3861-4c48-8a7f-05f1a742857a"
      },
      "source": [
        "from google.colab import drive\n",
        "drive.mount('/content/gdrive')\n"
      ],
      "execution_count": 4,
      "outputs": [
        {
          "output_type": "stream",
          "text": [
            "Drive already mounted at /content/gdrive; to attempt to forcibly remount, call drive.mount(\"/content/gdrive\", force_remount=True).\n"
          ],
          "name": "stdout"
        }
      ]
    },
    {
      "cell_type": "code",
      "metadata": {
        "id": "e6ZxfuITDQBj",
        "colab_type": "code",
        "colab": {}
      },
      "source": [
        "filename ='gdrive/My Drive/Algorithms/huffman.txt'"
      ],
      "execution_count": 0,
      "outputs": []
    },
    {
      "cell_type": "code",
      "metadata": {
        "id": "bgxIsDxwDF_-",
        "colab_type": "code",
        "colab": {
          "base_uri": "https://localhost:8080/",
          "height": 69
        },
        "outputId": "8c656d94-2576-49d8-8644-c783dd126f8e"
      },
      "source": [
        "from heapq import heappop, heappush, heapify\n",
        "\n",
        "class Node(object):\n",
        "    def __init__(self, left_node=None, right_node=None, weight=None):\n",
        "        self.left_node = left_node\n",
        "        self.right_node = right_node\n",
        "        self.weight = 0\n",
        "        self.weight = weight or left_node.weight + right_node.weight\n",
        "\n",
        "    def __lt__(self, other):\n",
        "        return self.weight < other.weight\n",
        "\n",
        "    def __repr__(self):\n",
        "        return str(self.weight)\n",
        "\n",
        "if __name__ == '__main__':\n",
        "    filename ='gdrive/My Drive/Algorithms/huffman.txt'\n",
        "    # filename = 'huffman_sample_1.txt'\n",
        "    # filename = 'huffman_sample_2.txt'\n",
        "    # filename = 'huffman_sample_3.txt'\n",
        "    with open(filename, 'r') as f:\n",
        "        lines = f.readlines()\n",
        "        n_symbols = int(lines[0])\n",
        "        print(f'{n_symbols} symbols')\n",
        "        weights = [int(line) for line in lines[1:]]\n",
        "\n",
        "        # create leaf-nodes from the weights\n",
        "        nodes = [Node(None, None, weight) for weight in weights]\n",
        "        assert len(nodes) == n_symbols, 'something went wrong'\n",
        "\n",
        "        # construct binary tree by merging the two nodes with the least weight\n",
        "        while len(nodes) > 1:\n",
        "            heapify(nodes)\n",
        "            heappush(nodes, Node(heappop(nodes), heappop(nodes)))\n",
        "\n",
        "        def get_depth(node, minmax):\n",
        "            if node.left_node:\n",
        "                depth_left = 1 + get_depth(node.left_node, minmax)\n",
        "            else:\n",
        "                depth_left = 0\n",
        "            if node.right_node:\n",
        "                depth_right = 1 + get_depth(node.right_node, minmax)\n",
        "            else:\n",
        "                depth_right = 0\n",
        "\n",
        "            return minmax(depth_left, depth_right)\n",
        "\n",
        "\n",
        "        max_depth = get_depth(nodes[0], max)\n",
        "        min_depth = get_depth(nodes[0], min)\n",
        "        print('min. depth', min_depth)  # 9\n",
        "        print('max. depth', max_depth)  # 19"
      ],
      "execution_count": 3,
      "outputs": [
        {
          "output_type": "stream",
          "text": [
            "1000 symbols\n",
            "min. depth 9\n",
            "max. depth 19\n"
          ],
          "name": "stdout"
        }
      ]
    },
    {
      "cell_type": "code",
      "metadata": {
        "id": "5PFsn0bKFE9s",
        "colab_type": "code",
        "colab": {}
      },
      "source": [
        "from heapq import heappop, heappush, heapify\n",
        "\n",
        "class Node(object):\n",
        "    def __init__(self, left_node=None, right_node=None, weight=None):\n",
        "        self.left_node = left_node\n",
        "        self.right_node = right_node\n",
        "        self.weight = 0\n",
        "        self.weight = weight or left_node.weight + right_node.weight\n",
        "\n",
        "    def __lt__(self, other):\n",
        "        return self.weight < other.weight\n",
        "\n",
        "    def __repr__(self):\n",
        "        return str(self.weight)\n"
      ],
      "execution_count": 0,
      "outputs": []
    },
    {
      "cell_type": "code",
      "metadata": {
        "id": "t7iSF1W-XAKy",
        "colab_type": "code",
        "colab": {
          "base_uri": "https://localhost:8080/",
          "height": 35
        },
        "outputId": "aaf69ab5-7059-4f7a-cbd5-3e97a13b3b7c"
      },
      "source": [
        "filename ='gdrive/My Drive/Algorithms/huffman.txt'\n",
        "# filename = 'huffman_sample_1.txt'\n",
        "# filename = 'huffman_sample_2.txt'\n",
        "# filename = 'huffman_sample_3.txt'\n",
        "with open(filename, 'r') as f:\n",
        "    lines = f.readlines()\n",
        "    n_symbols = int(lines[0])\n",
        "    print(f'{n_symbols} symbols')\n",
        "    weights = [int(line) for line in lines[1:]]\n",
        "\n",
        "    # create leaf-nodes from the weights\n",
        "    nodes = [Node(None, None, weight) for weight in weights]\n",
        "    assert len(nodes) == n_symbols, 'something went wrong'\n"
      ],
      "execution_count": 28,
      "outputs": [
        {
          "output_type": "stream",
          "text": [
            "1000 symbols\n"
          ],
          "name": "stdout"
        }
      ]
    },
    {
      "cell_type": "code",
      "metadata": {
        "id": "xv7KPzwRXuZd",
        "colab_type": "code",
        "colab": {
          "base_uri": "https://localhost:8080/",
          "height": 52
        },
        "outputId": "c5b96ad8-5d64-4604-c0f2-6882664e63d4"
      },
      "source": [
        "print(nodes[0])\n",
        "heapify(nodes)\n",
        "print(nodes[0])"
      ],
      "execution_count": 29,
      "outputs": [
        {
          "output_type": "stream",
          "text": [
            "7540662\n",
            "1873\n"
          ],
          "name": "stdout"
        }
      ]
    },
    {
      "cell_type": "code",
      "metadata": {
        "id": "kUsfgxj8YTNO",
        "colab_type": "code",
        "colab": {}
      },
      "source": [
        "nodes[0].left_node"
      ],
      "execution_count": 0,
      "outputs": []
    },
    {
      "cell_type": "code",
      "metadata": {
        "id": "kv6qU6iGXK4I",
        "colab_type": "code",
        "colab": {}
      },
      "source": [
        "# construct binary tree by merging the two nodes with the least weight and second least weight\n",
        "# heappop returns the node - by default the heap is minimum heap \n",
        "while len(nodes) > 1:\n",
        "    # creating a heap with the weight of every character\n",
        "    heapify(nodes)\n",
        "    # heappop removes the node, the same code removes the second smallest weight (its node by then) and it defines it as a new Node and pushes it back to heap\n",
        "    heappush(nodes, Node(heappop(nodes), heappop(nodes)))\n",
        "    # This process runs until all the members of the node are combined into a single node\n",
        "    \n"
      ],
      "execution_count": 0,
      "outputs": []
    },
    {
      "cell_type": "code",
      "metadata": {
        "id": "_m_u8oATZ2Fd",
        "colab_type": "code",
        "colab": {
          "base_uri": "https://localhost:8080/",
          "height": 35
        },
        "outputId": "cd4e42b6-6914-40cf-8be3-b40e23fc23d8"
      },
      "source": [
        "nodes[0].left_node"
      ],
      "execution_count": 35,
      "outputs": [
        {
          "output_type": "execute_result",
          "data": {
            "text/plain": [
              "2110394819"
            ]
          },
          "metadata": {
            "tags": []
          },
          "execution_count": 35
        }
      ]
    },
    {
      "cell_type": "code",
      "metadata": {
        "id": "NenYyGGvZo_s",
        "colab_type": "code",
        "colab": {}
      },
      "source": [
        "# This is a beautiful piece of code, the min and max heigh of the tree\n",
        "\n",
        "def get_depth(node, minmax):\n",
        "    if node.left_node:\n",
        "        depth_left = 1 + get_depth(node.left_node, minmax)\n",
        "    else:\n",
        "        depth_left = 0\n",
        "    if node.right_node:\n",
        "        depth_right = 1 + get_depth(node.right_node, minmax)\n",
        "    else:\n",
        "        depth_right = 0\n",
        "\n",
        "    return minmax(depth_left, depth_right)\n",
        "\n",
        "\n",
        "max_depth = get_depth(nodes[0], max)\n",
        "min_depth = get_depth(nodes[0], min)\n",
        "print('min. depth', min_depth)  # 9\n",
        "print('max. depth', max_depth)  # 19"
      ],
      "execution_count": 0,
      "outputs": []
    }
  ]
}