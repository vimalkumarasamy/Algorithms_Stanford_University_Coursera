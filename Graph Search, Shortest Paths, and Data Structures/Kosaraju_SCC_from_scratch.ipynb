{
 "cells": [
  {
   "cell_type": "code",
   "execution_count": 111,
   "metadata": {},
   "outputs": [],
   "source": [
    "filename = 'input_mostlyCycles_68_320000.txt'\n",
    "def create_graph(filename):\n",
    "    graph ={}\n",
    "    graph_rev={}\n",
    "    edges=[]\n",
    "    for f in open(filename):\n",
    "        fields = [int(x) for x in f.split()]\n",
    "        edges.append(tuple(fields))\n",
    "        key = fields[0]\n",
    "        value = fields[1]\n",
    "        key_rev = fields[1]\n",
    "        value_rev = fields[0]\n",
    "        if key in graph.keys():\n",
    "            graph[key].append(value)\n",
    "        else:\n",
    "            graph[key]=[value]\n",
    "        if key_rev in graph_rev.keys():\n",
    "            graph_rev[key_rev].append(value_rev)\n",
    "        else:\n",
    "            graph_rev[key_rev]=[value_rev] \n",
    "    return graph,graph_rev,edges\n",
    "graph,graph_rev,edges = create_graph(filename)       "
   ]
  },
  {
   "cell_type": "code",
   "execution_count": 112,
   "metadata": {},
   "outputs": [],
   "source": [
    "def dfs_subroutine(reversed_graph, start,stack=[]):\n",
    "        if stack==[]:\n",
    "            visited[start] = True\n",
    "\n",
    "        stack=stack +[start]\n",
    "        \n",
    "        if start not in reversed_graph.keys():\n",
    "            return(stack)\n",
    "        \n",
    "        for vertex in reversed_graph[start]:\n",
    "            if vertex not in visited.keys():\n",
    "                visited[vertex] = True\n",
    "                stack=dfs_subroutine(reversed_graph,vertex,stack)\n",
    "                break\n",
    "#         print(stack)\n",
    "        return(stack)           "
   ]
  },
  {
   "cell_type": "code",
   "execution_count": 113,
   "metadata": {},
   "outputs": [
    {
     "ename": "RecursionError",
     "evalue": "maximum recursion depth exceeded in comparison",
     "output_type": "error",
     "traceback": [
      "\u001b[1;31m---------------------------------------------------------------------------\u001b[0m",
      "\u001b[1;31mRecursionError\u001b[0m                            Traceback (most recent call last)",
      "\u001b[1;32m<ipython-input-113-f92fac52ebd3>\u001b[0m in \u001b[0;36m<module>\u001b[1;34m\u001b[0m\n\u001b[0;32m      8\u001b[0m     \u001b[1;32mif\u001b[0m \u001b[0mi\u001b[0m \u001b[1;32mnot\u001b[0m \u001b[1;32min\u001b[0m \u001b[0mvisited\u001b[0m\u001b[1;33m.\u001b[0m\u001b[0mkeys\u001b[0m\u001b[1;33m(\u001b[0m\u001b[1;33m)\u001b[0m\u001b[1;33m:\u001b[0m\u001b[1;33m\u001b[0m\u001b[1;33m\u001b[0m\u001b[0m\n\u001b[0;32m      9\u001b[0m         \u001b[1;32mif\u001b[0m \u001b[0mlen\u001b[0m\u001b[1;33m(\u001b[0m\u001b[0mstack\u001b[0m\u001b[1;33m)\u001b[0m\u001b[1;33m==\u001b[0m\u001b[1;36m0\u001b[0m\u001b[1;33m:\u001b[0m\u001b[1;33m\u001b[0m\u001b[1;33m\u001b[0m\u001b[0m\n\u001b[1;32m---> 10\u001b[1;33m             \u001b[0mstack\u001b[0m\u001b[1;33m=\u001b[0m\u001b[0mdfs_subroutine\u001b[0m\u001b[1;33m(\u001b[0m\u001b[0mgraph_rev\u001b[0m\u001b[1;33m,\u001b[0m\u001b[0mi\u001b[0m\u001b[1;33m,\u001b[0m\u001b[0mstack\u001b[0m\u001b[1;33m)\u001b[0m\u001b[1;33m\u001b[0m\u001b[1;33m\u001b[0m\u001b[0m\n\u001b[0m\u001b[0;32m     11\u001b[0m             \u001b[0mitem\u001b[0m\u001b[1;33m=\u001b[0m\u001b[0mstack\u001b[0m\u001b[1;33m.\u001b[0m\u001b[0mpop\u001b[0m\u001b[1;33m(\u001b[0m\u001b[1;33m)\u001b[0m\u001b[1;33m\u001b[0m\u001b[1;33m\u001b[0m\u001b[0m\n\u001b[0;32m     12\u001b[0m             \u001b[0mtime_lapsed\u001b[0m\u001b[1;33m[\u001b[0m\u001b[0mlapsed\u001b[0m\u001b[1;33m]\u001b[0m\u001b[1;33m=\u001b[0m\u001b[0mitem\u001b[0m\u001b[1;33m\u001b[0m\u001b[1;33m\u001b[0m\u001b[0m\n",
      "\u001b[1;32m<ipython-input-112-91d675d9901b>\u001b[0m in \u001b[0;36mdfs_subroutine\u001b[1;34m(reversed_graph, start, stack)\u001b[0m\n\u001b[0;32m     11\u001b[0m             \u001b[1;32mif\u001b[0m \u001b[0mvertex\u001b[0m \u001b[1;32mnot\u001b[0m \u001b[1;32min\u001b[0m \u001b[0mvisited\u001b[0m\u001b[1;33m.\u001b[0m\u001b[0mkeys\u001b[0m\u001b[1;33m(\u001b[0m\u001b[1;33m)\u001b[0m\u001b[1;33m:\u001b[0m\u001b[1;33m\u001b[0m\u001b[1;33m\u001b[0m\u001b[0m\n\u001b[0;32m     12\u001b[0m                 \u001b[0mvisited\u001b[0m\u001b[1;33m[\u001b[0m\u001b[0mvertex\u001b[0m\u001b[1;33m]\u001b[0m \u001b[1;33m=\u001b[0m \u001b[1;32mTrue\u001b[0m\u001b[1;33m\u001b[0m\u001b[1;33m\u001b[0m\u001b[0m\n\u001b[1;32m---> 13\u001b[1;33m                 \u001b[0mstack\u001b[0m\u001b[1;33m=\u001b[0m\u001b[0mdfs_subroutine\u001b[0m\u001b[1;33m(\u001b[0m\u001b[0mreversed_graph\u001b[0m\u001b[1;33m,\u001b[0m\u001b[0mvertex\u001b[0m\u001b[1;33m,\u001b[0m\u001b[0mstack\u001b[0m\u001b[1;33m)\u001b[0m\u001b[1;33m\u001b[0m\u001b[1;33m\u001b[0m\u001b[0m\n\u001b[0m\u001b[0;32m     14\u001b[0m                 \u001b[1;32mbreak\u001b[0m\u001b[1;33m\u001b[0m\u001b[1;33m\u001b[0m\u001b[0m\n\u001b[0;32m     15\u001b[0m \u001b[1;31m#         print(stack)\u001b[0m\u001b[1;33m\u001b[0m\u001b[1;33m\u001b[0m\u001b[1;33m\u001b[0m\u001b[0m\n",
      "... last 1 frames repeated, from the frame below ...\n",
      "\u001b[1;32m<ipython-input-112-91d675d9901b>\u001b[0m in \u001b[0;36mdfs_subroutine\u001b[1;34m(reversed_graph, start, stack)\u001b[0m\n\u001b[0;32m     11\u001b[0m             \u001b[1;32mif\u001b[0m \u001b[0mvertex\u001b[0m \u001b[1;32mnot\u001b[0m \u001b[1;32min\u001b[0m \u001b[0mvisited\u001b[0m\u001b[1;33m.\u001b[0m\u001b[0mkeys\u001b[0m\u001b[1;33m(\u001b[0m\u001b[1;33m)\u001b[0m\u001b[1;33m:\u001b[0m\u001b[1;33m\u001b[0m\u001b[1;33m\u001b[0m\u001b[0m\n\u001b[0;32m     12\u001b[0m                 \u001b[0mvisited\u001b[0m\u001b[1;33m[\u001b[0m\u001b[0mvertex\u001b[0m\u001b[1;33m]\u001b[0m \u001b[1;33m=\u001b[0m \u001b[1;32mTrue\u001b[0m\u001b[1;33m\u001b[0m\u001b[1;33m\u001b[0m\u001b[0m\n\u001b[1;32m---> 13\u001b[1;33m                 \u001b[0mstack\u001b[0m\u001b[1;33m=\u001b[0m\u001b[0mdfs_subroutine\u001b[0m\u001b[1;33m(\u001b[0m\u001b[0mreversed_graph\u001b[0m\u001b[1;33m,\u001b[0m\u001b[0mvertex\u001b[0m\u001b[1;33m,\u001b[0m\u001b[0mstack\u001b[0m\u001b[1;33m)\u001b[0m\u001b[1;33m\u001b[0m\u001b[1;33m\u001b[0m\u001b[0m\n\u001b[0m\u001b[0;32m     14\u001b[0m                 \u001b[1;32mbreak\u001b[0m\u001b[1;33m\u001b[0m\u001b[1;33m\u001b[0m\u001b[0m\n\u001b[0;32m     15\u001b[0m \u001b[1;31m#         print(stack)\u001b[0m\u001b[1;33m\u001b[0m\u001b[1;33m\u001b[0m\u001b[1;33m\u001b[0m\u001b[0m\n",
      "\u001b[1;31mRecursionError\u001b[0m: maximum recursion depth exceeded in comparison"
     ]
    }
   ],
   "source": [
    "visited={}\n",
    "time_lapsed={}\n",
    "lapsed=1\n",
    "max_vertex=max(max(graph_rev.keys()),max(graph.keys()))\n",
    "stack=[]\n",
    "for i in range(max_vertex,0,-1):\n",
    "#     print(i)\n",
    "    if i not in visited.keys():\n",
    "        if len(stack)==0:\n",
    "            stack=dfs_subroutine(graph_rev,i,stack)\n",
    "            item=stack.pop()\n",
    "            time_lapsed[lapsed]=item\n",
    "            lapsed+=1\n",
    "        while len(stack)>0:\n",
    "            stack=dfs_subroutine(graph_rev,stack.pop(),stack)\n",
    "            item=stack.pop()\n",
    "            time_lapsed[lapsed]=item\n",
    "            lapsed+=1\n"
   ]
  },
  {
   "cell_type": "code",
   "execution_count": 115,
   "metadata": {},
   "outputs": [
    {
     "data": {
      "text/plain": [
       "<function sys.getrecursionlimit>"
      ]
     },
     "execution_count": 115,
     "metadata": {},
     "output_type": "execute_result"
    }
   ],
   "source": [
    "import sys\n",
    "sys.setrecursionlimit(10000)"
   ]
  },
  {
   "cell_type": "code",
   "execution_count": null,
   "metadata": {},
   "outputs": [],
   "source": [
    "leader = {}\n",
    "visited={}\n",
    "size={}\n",
    "stack=[]\n",
    "for i in range(max_vertex,0,-1):\n",
    "    node=time_lapsed[i]\n",
    "    \n",
    "    if node not in visited.keys():\n",
    "        if len(stack)==0:\n",
    "            stack=dfs_subroutine(graph,node,[])\n",
    "            if node in leader.keys():\n",
    "                leader[node]+=[stack.pop()]\n",
    "            else:\n",
    "                leader[node]=[stack.pop()]\n",
    "        while len(stack)>0:\n",
    "            stack=dfs_subroutine(graph,stack.pop(),stack)\n",
    "            if node in leader.keys():\n",
    "                leader[node]+=[stack.pop()]\n",
    "            else:\n",
    "                leader[node]=[stack.pop()]\n",
    "arr=[]            \n",
    "for i in leader.keys():\n",
    "    arr=arr+[len(leader[i])]\n",
    "arr.sort()\n",
    "print(arr[-5:])\n",
    "\n",
    "    \n",
    "# print(leader)\n",
    "# print(size)\n",
    "        "
   ]
  },
  {
   "cell_type": "code",
   "execution_count": null,
   "metadata": {},
   "outputs": [],
   "source": []
  },
  {
   "cell_type": "code",
   "execution_count": null,
   "metadata": {},
   "outputs": [],
   "source": []
  }
 ],
 "metadata": {
  "kernelspec": {
   "display_name": "Python 3",
   "language": "python",
   "name": "python3"
  },
  "language_info": {
   "codemirror_mode": {
    "name": "ipython",
    "version": 3
   },
   "file_extension": ".py",
   "mimetype": "text/x-python",
   "name": "python",
   "nbconvert_exporter": "python",
   "pygments_lexer": "ipython3",
   "version": "3.7.4"
  }
 },
 "nbformat": 4,
 "nbformat_minor": 2
}
