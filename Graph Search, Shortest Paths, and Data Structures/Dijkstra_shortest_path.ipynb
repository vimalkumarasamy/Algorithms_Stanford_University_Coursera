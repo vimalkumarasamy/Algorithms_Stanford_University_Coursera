{
  "nbformat": 4,
  "nbformat_minor": 0,
  "metadata": {
    "colab": {
      "name": "Dijkstra_shortest_path.ipynb",
      "provenance": [],
      "collapsed_sections": [],
      "authorship_tag": "ABX9TyPgBFg65CrP2waCh3koFGV2",
      "include_colab_link": true
    },
    "kernelspec": {
      "name": "python3",
      "display_name": "Python 3"
    },
    "accelerator": "GPU"
  },
  "cells": [
    {
      "cell_type": "markdown",
      "metadata": {
        "id": "view-in-github",
        "colab_type": "text"
      },
      "source": [
        "<a href=\"https://colab.research.google.com/github/vimalkumarasamy/Algorithms_Stanford_University_Coursera/blob/master/Graph%20Search%2C%20Shortest%20Paths%2C%20and%20Data%20Structures/Dijkstra_shortest_path.ipynb\" target=\"_parent\"><img src=\"https://colab.research.google.com/assets/colab-badge.svg\" alt=\"Open In Colab\"/></a>"
      ]
    },
    {
      "cell_type": "code",
      "metadata": {
        "id": "viE_kecEbF1S",
        "colab_type": "code",
        "colab": {}
      },
      "source": [
        "# This notebook is to code up the not very efficient implementation of Dijkstra Shortest Path (not using Heap Data Structure)"
      ],
      "execution_count": 0,
      "outputs": []
    },
    {
      "cell_type": "code",
      "metadata": {
        "id": "E_OzffocbVSQ",
        "colab_type": "code",
        "colab": {
          "base_uri": "https://localhost:8080/",
          "height": 124
        },
        "outputId": "a743f65e-a51d-47c2-b48a-acd5ddbfa189"
      },
      "source": [
        "from google.colab import drive\n",
        "drive.mount('/content/gdrive')"
      ],
      "execution_count": 1,
      "outputs": [
        {
          "output_type": "stream",
          "text": [
            "Go to this URL in a browser: https://accounts.google.com/o/oauth2/auth?client_id=947318989803-6bn6qk8qdgf4n4g3pfee6491hc0brc4i.apps.googleusercontent.com&redirect_uri=urn%3aietf%3awg%3aoauth%3a2.0%3aoob&response_type=code&scope=email%20https%3a%2f%2fwww.googleapis.com%2fauth%2fdocs.test%20https%3a%2f%2fwww.googleapis.com%2fauth%2fdrive%20https%3a%2f%2fwww.googleapis.com%2fauth%2fdrive.photos.readonly%20https%3a%2f%2fwww.googleapis.com%2fauth%2fpeopleapi.readonly\n",
            "\n",
            "Enter your authorization code:\n",
            "··········\n",
            "Mounted at /content/gdrive\n"
          ],
          "name": "stdout"
        }
      ]
    },
    {
      "cell_type": "code",
      "metadata": {
        "id": "Ni5tXVWWbfCy",
        "colab_type": "code",
        "colab": {}
      },
      "source": [
        "filename ='gdrive/My Drive/Algorithms/dijkstraData.txt'\n",
        "# filename ='gdrive/My Drive/Algorithms/input_random_12_16.txt'"
      ],
      "execution_count": 0,
      "outputs": []
    },
    {
      "cell_type": "code",
      "metadata": {
        "id": "VpCJymZvblon",
        "colab_type": "code",
        "colab": {}
      },
      "source": [
        "# creating a representation in dictionary for the entire graph\n",
        "graph={}\n",
        "for f in open(filename):\n",
        "  f=f.replace(\"\\n\",\"\")\n",
        "  f=f[:-1]\n",
        "  x=f.split(\"\\t\")\n",
        "  vertices={}\n",
        "  tail=int(x[0])\n",
        "  for items in range(1,len(x)):\n",
        "    next=x[items].split(',')\n",
        "    vertices[int(next[0])]=int(next[1])\n",
        "  graph[tail]=vertices    "
      ],
      "execution_count": 0,
      "outputs": []
    },
    {
      "cell_type": "code",
      "metadata": {
        "id": "1YX5xvXnbYrK",
        "colab_type": "code",
        "colab": {
          "base_uri": "https://localhost:8080/",
          "height": 35
        },
        "outputId": "0425bc9c-3cb5-4f22-f851-2358f4a0f5a3"
      },
      "source": [
        "max_pos_dist=0\n",
        "for i in graph.keys():\n",
        "  for j in graph[i].keys():\n",
        "    max_pos_dist=max_pos_dist+graph[i][j]\n",
        "\n",
        "max_pos_dist"
      ],
      "execution_count": 65,
      "outputs": [
        {
          "output_type": "execute_result",
          "data": {
            "text/plain": [
              "18834238"
            ]
          },
          "metadata": {
            "tags": []
          },
          "execution_count": 65
        }
      ]
    },
    {
      "cell_type": "code",
      "metadata": {
        "id": "gNJYvumsbsSR",
        "colab_type": "code",
        "colab": {}
      },
      "source": [
        "# this function is to compute the shortest path between 2 vertices in a graph\n",
        "# input graph, source, destination\n",
        "def dijkstra_shortest_path(graph,source,destination):\n",
        "  # iter=0\n",
        "  seen={}\n",
        "  dist={}\n",
        "  dist[source]=0\n",
        "  seen[source]=True \n",
        "  vertices=graph[source]\n",
        "  hop=min(vertices, key=vertices.get)\n",
        "  distance=vertices[hop]\n",
        "  seen[hop]=True\n",
        "  dist[hop]=distance\n",
        "\n",
        "\n",
        "  while hop!=destination:\n",
        "    prospects={}\n",
        "    max_pos_dist=18834238\n",
        "    for items in seen.keys():\n",
        "      for i in graph[items]:\n",
        "        if i not in seen.keys():\n",
        "          initial_dist=dist[items]\n",
        "          final_dist=graph[items][i]\n",
        "          if initial_dist+final_dist<max_pos_dist:\n",
        "            pos_hop=i\n",
        "            pos_dist=initial_dist+final_dist\n",
        "            max_pos_dist=pos_dist\n",
        "        \n",
        "\n",
        "\n",
        "    if pos_hop not in seen.keys():\n",
        "      hop=pos_hop\n",
        "      seen[hop]=True\n",
        "      dist[hop]=pos_dist\n",
        "      # print(hop)\n",
        "    else:\n",
        "      return(1000000)\n",
        "    \n",
        "  return(dist[destination])"
      ],
      "execution_count": 0,
      "outputs": []
    },
    {
      "cell_type": "code",
      "metadata": {
        "id": "Fry4WJQTmkUB",
        "colab_type": "code",
        "colab": {}
      },
      "source": [
        "solution=[]\n",
        "source=1\n",
        "for q in [7,37,59,82,99,115,133,165,188,197]:\n",
        "  solution=solution+[dijkstra_shortest_path(graph,source,q)]\n",
        "\n"
      ],
      "execution_count": 0,
      "outputs": []
    },
    {
      "cell_type": "code",
      "metadata": {
        "id": "7dMxZ96gmoMg",
        "colab_type": "code",
        "colab": {
          "base_uri": "https://localhost:8080/",
          "height": 35
        },
        "outputId": "9fdbe490-e3bd-45d9-a310-58e29ce8dd44"
      },
      "source": [
        "solution"
      ],
      "execution_count": 72,
      "outputs": [
        {
          "output_type": "execute_result",
          "data": {
            "text/plain": [
              "[2599, 2610, 2947, 2052, 2367, 2399, 2029, 2442, 2505, 3068]"
            ]
          },
          "metadata": {
            "tags": []
          },
          "execution_count": 72
        }
      ]
    }
  ]
}