{
  "nbformat": 4,
  "nbformat_minor": 0,
  "metadata": {
    "colab": {
      "name": "Dijkstra_shortest_path.ipynb",
      "provenance": [],
      "authorship_tag": "ABX9TyOJ5rUN4a2rpAJ24PNaiWrM",
      "include_colab_link": true
    },
    "kernelspec": {
      "name": "python3",
      "display_name": "Python 3"
    },
    "accelerator": "GPU"
  },
  "cells": [
    {
      "cell_type": "markdown",
      "metadata": {
        "id": "view-in-github",
        "colab_type": "text"
      },
      "source": [
        "<a href=\"https://colab.research.google.com/github/vimalkumarasamy/Algorithms_Stanford_University_Coursera/blob/master/Graph%20Search%2C%20Shortest%20Paths%2C%20and%20Data%20Structures/Dijkstra_shortest_path.ipynb\" target=\"_parent\"><img src=\"https://colab.research.google.com/assets/colab-badge.svg\" alt=\"Open In Colab\"/></a>"
      ]
    },
    {
      "cell_type": "code",
      "metadata": {
        "id": "viE_kecEbF1S",
        "colab_type": "code",
        "colab": {}
      },
      "source": [
        "# This notebook is to code up the not very efficient implementation of Dijkstra Shortest Path (not using Heap Data Structure)"
      ],
      "execution_count": 0,
      "outputs": []
    },
    {
      "cell_type": "code",
      "metadata": {
        "id": "E_OzffocbVSQ",
        "colab_type": "code",
        "colab": {
          "base_uri": "https://localhost:8080/",
          "height": 124
        },
        "outputId": "cef1a71a-9230-42f0-d422-b7db06ffa598"
      },
      "source": [
        "from google.colab import drive\n",
        "drive.mount('/content/gdrive')"
      ],
      "execution_count": 1,
      "outputs": [
        {
          "output_type": "stream",
          "text": [
            "Go to this URL in a browser: https://accounts.google.com/o/oauth2/auth?client_id=947318989803-6bn6qk8qdgf4n4g3pfee6491hc0brc4i.apps.googleusercontent.com&redirect_uri=urn%3aietf%3awg%3aoauth%3a2.0%3aoob&response_type=code&scope=email%20https%3a%2f%2fwww.googleapis.com%2fauth%2fdocs.test%20https%3a%2f%2fwww.googleapis.com%2fauth%2fdrive%20https%3a%2f%2fwww.googleapis.com%2fauth%2fdrive.photos.readonly%20https%3a%2f%2fwww.googleapis.com%2fauth%2fpeopleapi.readonly\n",
            "\n",
            "Enter your authorization code:\n",
            "··········\n",
            "Mounted at /content/gdrive\n"
          ],
          "name": "stdout"
        }
      ]
    },
    {
      "cell_type": "code",
      "metadata": {
        "id": "Ni5tXVWWbfCy",
        "colab_type": "code",
        "colab": {}
      },
      "source": [
        "filename ='gdrive/My Drive/Algorithms/dijkstraData.txt'"
      ],
      "execution_count": 0,
      "outputs": []
    },
    {
      "cell_type": "code",
      "metadata": {
        "id": "VpCJymZvblon",
        "colab_type": "code",
        "colab": {}
      },
      "source": [
        "for f in open(filename):\n",
        "  f=f.replace(\"\\n\",\"\")\n",
        "  f=f[:-1]\n",
        "  x=f.split(\"\\t\")"
      ],
      "execution_count": 0,
      "outputs": []
    },
    {
      "cell_type": "code",
      "metadata": {
        "id": "gNJYvumsbsSR",
        "colab_type": "code",
        "colab": {
          "base_uri": "https://localhost:8080/",
          "height": 468
        },
        "outputId": "4e4008b5-485c-429d-98f6-bd335adeda3d"
      },
      "source": [
        "x"
      ],
      "execution_count": 15,
      "outputs": [
        {
          "output_type": "execute_result",
          "data": {
            "text/plain": [
              "['200',\n",
              " '108,9976',\n",
              " '103,6851',\n",
              " '145,2753',\n",
              " '41,2622',\n",
              " '187,6767',\n",
              " '190,5999',\n",
              " '16,2848',\n",
              " '194,2915',\n",
              " '5,4009',\n",
              " '172,6888',\n",
              " '39,4319',\n",
              " '176,1709',\n",
              " '60,3269',\n",
              " '138,678',\n",
              " '43,8943',\n",
              " '98,2690',\n",
              " '1,8021',\n",
              " '104,7083',\n",
              " '154,229',\n",
              " '91,1988',\n",
              " '67,475',\n",
              " '76,4623',\n",
              " '195,8114',\n",
              " '37,7541',\n",
              " '54,4899']"
            ]
          },
          "metadata": {
            "tags": []
          },
          "execution_count": 15
        }
      ]
    },
    {
      "cell_type": "code",
      "metadata": {
        "id": "JPv5gexfbtZL",
        "colab_type": "code",
        "colab": {}
      },
      "source": [
        ""
      ],
      "execution_count": 0,
      "outputs": []
    }
  ]
}