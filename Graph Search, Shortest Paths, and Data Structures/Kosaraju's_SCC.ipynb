{
  "nbformat": 4,
  "nbformat_minor": 0,
  "metadata": {
    "colab": {
      "name": "Kosaraju's_SCC.ipynb",
      "provenance": [],
      "collapsed_sections": [],
      "authorship_tag": "ABX9TyMFwzuE8ChKcMgDm0LXhXVT",
      "include_colab_link": true
    },
    "kernelspec": {
      "name": "python3",
      "display_name": "Python 3"
    },
    "accelerator": "GPU"
  },
  "cells": [
    {
      "cell_type": "markdown",
      "metadata": {
        "id": "view-in-github",
        "colab_type": "text"
      },
      "source": [
        "<a href=\"https://colab.research.google.com/github/vimalkumarasamy/Algorithms_Stanford_University_Coursera/blob/master/Graph%20Search%2C%20Shortest%20Paths%2C%20and%20Data%20Structures/Kosaraju's_SCC.ipynb\" target=\"_parent\"><img src=\"https://colab.research.google.com/assets/colab-badge.svg\" alt=\"Open In Colab\"/></a>"
      ]
    },
    {
      "cell_type": "code",
      "metadata": {
        "id": "9Rxdk5Fx5A88",
        "colab_type": "code",
        "colab": {}
      },
      "source": [
        "# This notebook is to implement Kosaraju's algorithm to find the SCC in a given Graph"
      ],
      "execution_count": 0,
      "outputs": []
    },
    {
      "cell_type": "code",
      "metadata": {
        "id": "xxSi7D5x5MN_",
        "colab_type": "code",
        "colab": {
          "base_uri": "https://localhost:8080/",
          "height": 122
        },
        "outputId": "681102c5-a077-4988-9c98-77320961bc1b"
      },
      "source": [
        "from google.colab import drive\n",
        "drive.mount('/content/gdrive')"
      ],
      "execution_count": 1,
      "outputs": [
        {
          "output_type": "stream",
          "text": [
            "Go to this URL in a browser: https://accounts.google.com/o/oauth2/auth?client_id=947318989803-6bn6qk8qdgf4n4g3pfee6491hc0brc4i.apps.googleusercontent.com&redirect_uri=urn%3aietf%3awg%3aoauth%3a2.0%3aoob&response_type=code&scope=email%20https%3a%2f%2fwww.googleapis.com%2fauth%2fdocs.test%20https%3a%2f%2fwww.googleapis.com%2fauth%2fdrive%20https%3a%2f%2fwww.googleapis.com%2fauth%2fdrive.photos.readonly%20https%3a%2f%2fwww.googleapis.com%2fauth%2fpeopleapi.readonly\n",
            "\n",
            "Enter your authorization code:\n",
            "··········\n",
            "Mounted at /content/gdrive\n"
          ],
          "name": "stdout"
        }
      ]
    },
    {
      "cell_type": "code",
      "metadata": {
        "id": "x1hC5JGG5V3J",
        "colab_type": "code",
        "colab": {}
      },
      "source": [
        "path='gdrive/My Drive/Algorithms/SCC.txt'"
      ],
      "execution_count": 0,
      "outputs": []
    },
    {
      "cell_type": "code",
      "metadata": {
        "id": "18FqXCiH5XJ-",
        "colab_type": "code",
        "colab": {}
      },
      "source": [
        "def create_parent_graph(path):\n",
        "  parent_graph={}\n",
        "  fp=open(path,'r+')\n",
        "  for i in fp:\n",
        "    i=i.replace(\"\\n\", \"\")\n",
        "    items=i.split(\" \")\n",
        "    # print(items)\n",
        "    tail=int(items[0])\n",
        "    head=int(items[1])\n",
        "    if tail in parent_graph.keys():\n",
        "      parent_graph[tail]+=[head]\n",
        "    else:\n",
        "      parent_graph[tail]=[head]\n",
        "  return(parent_graph)"
      ],
      "execution_count": 0,
      "outputs": []
    },
    {
      "cell_type": "code",
      "metadata": {
        "id": "poMw9BC35eAu",
        "colab_type": "code",
        "colab": {}
      },
      "source": [
        "parent_graph=create_parent_graph(path)"
      ],
      "execution_count": 0,
      "outputs": []
    },
    {
      "cell_type": "code",
      "metadata": {
        "id": "RTz1Wbqo5g3r",
        "colab_type": "code",
        "colab": {
          "base_uri": "https://localhost:8080/",
          "height": 34
        },
        "outputId": "a4ec5485-6fbc-4069-99bc-e32f97ce0cfa"
      },
      "source": [
        "max(parent_graph.keys())"
      ],
      "execution_count": 5,
      "outputs": [
        {
          "output_type": "execute_result",
          "data": {
            "text/plain": [
              "875714"
            ]
          },
          "metadata": {
            "tags": []
          },
          "execution_count": 5
        }
      ]
    },
    {
      "cell_type": "code",
      "metadata": {
        "id": "06eFRsvm5npf",
        "colab_type": "code",
        "colab": {}
      },
      "source": [
        "import sys\n",
        "sys.setrecursionlimit(300000)\n",
        "source=path\n",
        "N=875714\n",
        "def getG():\n",
        "    G={}\n",
        "    Grev={}\n",
        "    for i in range(1,N+1):\n",
        "        G[i]=[]\n",
        "        Grev[i]=[]\n",
        "    fin=open(source)\n",
        "    for line in fin:\n",
        "        v1=int(line.split()[0])\n",
        "        v2=int(line.split()[1])\n",
        "        G[v1].append(v2)\n",
        "        Grev[v2].append(v1)\n",
        "    fin.close()\n",
        "    return G, Grev\n",
        "\n",
        "#globals\n",
        "visited={}\n",
        "finish={}\n",
        "leader={}\n",
        "\n",
        "def init():\n",
        "    for i in range(1,N+1):\n",
        "        visited[i]=0\n",
        "        finish[i]=0\n",
        "        leader[i]=0\n",
        "\n",
        "def dfs(G, i):\n",
        "    global t\n",
        "    visited[i]=1\n",
        "    leader[i]=s\n",
        "    for j in G[i]:\n",
        "        if(visited[j]==0): dfs(G,j)\n",
        "    t=t+1\n",
        "    finish[i]=t\n",
        "\n",
        "def dfs_loop(G):\n",
        "    global t\n",
        "    global s\n",
        "    t=0 #number of nodes processed so far\n",
        "    s=0 #current source vertex\n",
        "    i=N\n",
        "    while(i>0):\n",
        "        if(visited[i]==0):\n",
        "            s=i\n",
        "            dfs(G,i)\n",
        "        i=i-1\n",
        "\n",
        "if __name__ == \"__main__\":\n",
        "    init()\n",
        "    g, grev=getG()\n",
        "    dfs_loop(grev) #THE FIRST LOOP ON REVERSE GRAPH\n",
        "\n",
        "    # construct new graph\n",
        "    newGraph={}\n",
        "    for i in range(1,N+1):\n",
        "        temp=[]\n",
        "        for x in g[i]: temp.append(finish[x])\n",
        "        newGraph[finish[i]]=temp\n",
        "\n",
        "    init()    \n",
        "    dfs_loop(newGraph) #THE SECOND LOOP \n",
        "\n",
        "    # statistics\n",
        "    lst= sorted(leader.values())\n",
        "    stat=[]\n",
        "    pre=0\n",
        "    for i in range(0,N-1):\n",
        "        if lst[i]!=lst[i+1]:\n",
        "            stat.append(i+1-pre)\n",
        "            pre=i+1\n",
        "    stat.append(N-pre)\n",
        "    L= sorted(stat)\n",
        "    L.reverse()\n",
        "    print(L[0:5])"
      ],
      "execution_count": 0,
      "outputs": []
    },
    {
      "cell_type": "code",
      "metadata": {
        "id": "XROuyJarDFN-",
        "colab_type": "code",
        "colab": {}
      },
      "source": [
        ""
      ],
      "execution_count": 0,
      "outputs": []
    }
  ]
}