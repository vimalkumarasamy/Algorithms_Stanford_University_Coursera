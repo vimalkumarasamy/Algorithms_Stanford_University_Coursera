{
  "nbformat": 4,
  "nbformat_minor": 0,
  "metadata": {
    "kernelspec": {
      "name": "python3",
      "display_name": "Python 3"
    },
    "language_info": {
      "codemirror_mode": {
        "name": "ipython",
        "version": 3
      },
      "file_extension": ".py",
      "mimetype": "text/x-python",
      "name": "python",
      "nbconvert_exporter": "python",
      "pygments_lexer": "ipython3",
      "version": "3.7.4"
    },
    "colab": {
      "name": "Detecting and returning cycles in a graph.pynb",
      "provenance": [],
      "collapsed_sections": [],
      "include_colab_link": true
    },
    "accelerator": "GPU"
  },
  "cells": [
    {
      "cell_type": "markdown",
      "metadata": {
        "id": "view-in-github",
        "colab_type": "text"
      },
      "source": [
        "<a href=\"https://colab.research.google.com/github/vimalkumarasamy/Algorithms_Stanford_University_Coursera/blob/master/Graph%20Search%2C%20Shortest%20Paths%2C%20and%20Data%20Structures/Detecting_and_returning_cycles_in_a_graph_pynb.ipynb\" target=\"_parent\"><img src=\"https://colab.research.google.com/assets/colab-badge.svg\" alt=\"Open In Colab\"/></a>"
      ]
    },
    {
      "cell_type": "code",
      "metadata": {
        "id": "ZJN8XqDfcvuk",
        "colab_type": "code",
        "outputId": "c18ec139-1376-4388-d2e3-7e85d776ad14",
        "colab": {
          "base_uri": "https://localhost:8080/",
          "height": 124
        }
      },
      "source": [
        "from google.colab import drive\n",
        "drive.mount('/content/gdrive')"
      ],
      "execution_count": 1,
      "outputs": [
        {
          "output_type": "stream",
          "text": [
            "Go to this URL in a browser: https://accounts.google.com/o/oauth2/auth?client_id=947318989803-6bn6qk8qdgf4n4g3pfee6491hc0brc4i.apps.googleusercontent.com&redirect_uri=urn%3aietf%3awg%3aoauth%3a2.0%3aoob&response_type=code&scope=email%20https%3a%2f%2fwww.googleapis.com%2fauth%2fdocs.test%20https%3a%2f%2fwww.googleapis.com%2fauth%2fdrive%20https%3a%2f%2fwww.googleapis.com%2fauth%2fdrive.photos.readonly%20https%3a%2f%2fwww.googleapis.com%2fauth%2fpeopleapi.readonly\n",
            "\n",
            "Enter your authorization code:\n",
            "··········\n",
            "Mounted at /content/gdrive\n"
          ],
          "name": "stdout"
        }
      ]
    },
    {
      "cell_type": "code",
      "metadata": {
        "id": "Tz3SCgbGcnlV",
        "colab_type": "code",
        "colab": {}
      },
      "source": [
        "filename ='gdrive/My Drive/Algorithms/DFS_check_graph.txt'\n",
        "def create_graph(filename):\n",
        "    graph ={}\n",
        "    graph_rev={}\n",
        "    edges=[]\n",
        "    for f in open(filename):\n",
        "        fields = [int(x) for x in f.split()]\n",
        "        edges.append(tuple(fields))\n",
        "        key = fields[0]\n",
        "        value = fields[1]\n",
        "        key_rev = fields[1]\n",
        "        value_rev = fields[0]\n",
        "        if key in graph.keys():\n",
        "            graph[key].append(value)\n",
        "        else:\n",
        "            graph[key]=[value]\n",
        "        if key_rev in graph_rev.keys():\n",
        "            graph_rev[key_rev].append(value_rev)\n",
        "        else:\n",
        "            graph_rev[key_rev]=[value_rev] \n",
        "    return graph,graph_rev,edges\n",
        "graph,graph_rev,edges = create_graph(filename)       "
      ],
      "execution_count": 0,
      "outputs": []
    },
    {
      "cell_type": "code",
      "metadata": {
        "id": "0VaS48VleR4W",
        "colab_type": "code",
        "outputId": "1613fc55-f2f4-410e-ce7c-52cea1fad3e6",
        "colab": {
          "base_uri": "https://localhost:8080/",
          "height": 35
        }
      },
      "source": [
        "graph"
      ],
      "execution_count": 3,
      "outputs": [
        {
          "output_type": "execute_result",
          "data": {
            "text/plain": [
              "{1: [5, 2], 2: [4, 3], 3: [4]}"
            ]
          },
          "metadata": {
            "tags": []
          },
          "execution_count": 3
        }
      ]
    },
    {
      "cell_type": "code",
      "metadata": {
        "id": "J2N7zzfieX1g",
        "colab_type": "code",
        "colab": {}
      },
      "source": [
        "# fixing the graph - directional graph\n",
        "graph_raw=graph.copy()\n",
        "for i in graph_raw.keys():\n",
        "  for j in graph[i]:\n",
        "    if j in graph.keys():\n",
        "      if i not in graph[j]:\n",
        "        graph[j]=graph[j]+[i]\n",
        "    else:\n",
        "      graph[j]=[i]"
      ],
      "execution_count": 0,
      "outputs": []
    },
    {
      "cell_type": "code",
      "metadata": {
        "id": "-iD02W-cf8T-",
        "colab_type": "code",
        "outputId": "21298fe0-7f5e-45ba-e15b-4acc5626fb6b",
        "colab": {
          "base_uri": "https://localhost:8080/",
          "height": 35
        }
      },
      "source": [
        "graph"
      ],
      "execution_count": 5,
      "outputs": [
        {
          "output_type": "execute_result",
          "data": {
            "text/plain": [
              "{1: [5, 2], 2: [4, 3, 1], 3: [4, 2], 4: [2, 3], 5: [1]}"
            ]
          },
          "metadata": {
            "tags": []
          },
          "execution_count": 5
        }
      ]
    },
    {
      "cell_type": "code",
      "metadata": {
        "id": "NoNngYf8gEHQ",
        "colab_type": "code",
        "colab": {}
      },
      "source": [
        "# General purpose DFS to find the parent and child linkage\n",
        "# This can help in building DFS tree\n",
        "\n",
        "def dfs_subroutine(graph, start,stack=[]):\n",
        "        if stack==[]:\n",
        "            visited[start] = True\n",
        "            parent[start]=None\n",
        "\n",
        "        stack=stack+[start]\n",
        "        print(stack)\n",
        "        for vertex in graph[start]:\n",
        "            if vertex not in visited.keys():\n",
        "                visited[vertex] = True\n",
        "                parent[vertex]=start\n",
        "                stack=dfs_subroutine(graph,vertex,stack)\n",
        "                print(stack)\n",
        "                break\n",
        "        \n",
        "        return(stack)           "
      ],
      "execution_count": 0,
      "outputs": []
    },
    {
      "cell_type": "code",
      "metadata": {
        "id": "igggeME7cnlg",
        "colab_type": "code",
        "outputId": "f01a03a6-87fc-4dc9-9a61-75c844bedd08",
        "colab": {
          "base_uri": "https://localhost:8080/",
          "height": 416
        }
      },
      "source": [
        "# Book keeping and initiating DFS routine\n",
        "visited={}\n",
        "max_vertex=max(graph.keys())\n",
        "stack=[]\n",
        "parent={}\n",
        "# for i in range(max_vertex,0,-1):\n",
        "for i in range(1,max_vertex+1):\n",
        "    print(stack)\n",
        "    if i not in visited.keys():\n",
        "        if len(stack)==0:\n",
        "            stack=dfs_subroutine(graph,i,stack)\n",
        "            print(stack)\n",
        "            item=stack.pop()\n",
        "            \n",
        "        while len(stack)>0:\n",
        "            stack=dfs_subroutine(graph,stack.pop(),stack)\n",
        "            print(stack)\n",
        "            item=stack.pop()\n",
        "            \n"
      ],
      "execution_count": 10,
      "outputs": [
        {
          "output_type": "stream",
          "text": [
            "[]\n",
            "[1]\n",
            "[1, 5]\n",
            "[1, 5]\n",
            "[1, 5]\n",
            "[1]\n",
            "[1, 2]\n",
            "[1, 2, 4]\n",
            "[1, 2, 4, 3]\n",
            "[1, 2, 4, 3]\n",
            "[1, 2, 4, 3]\n",
            "[1, 2, 4, 3]\n",
            "[1, 2, 4, 3]\n",
            "[1, 2, 4]\n",
            "[1, 2, 4]\n",
            "[1, 2]\n",
            "[1, 2]\n",
            "[1]\n",
            "[1]\n",
            "[]\n",
            "[]\n",
            "[]\n",
            "[]\n"
          ],
          "name": "stdout"
        }
      ]
    },
    {
      "cell_type": "code",
      "metadata": {
        "id": "Ksf3JLeScnlk",
        "colab_type": "code",
        "colab": {}
      },
      "source": [
        "# Customizing the above DFS to accomodate finding cycles use case"
      ],
      "execution_count": 0,
      "outputs": []
    },
    {
      "cell_type": "code",
      "metadata": {
        "id": "rUGY2NDHcnln",
        "colab_type": "code",
        "colab": {}
      },
      "source": [
        ""
      ],
      "execution_count": 0,
      "outputs": []
    },
    {
      "cell_type": "code",
      "metadata": {
        "id": "Sy_Bq2d9cnlr",
        "colab_type": "code",
        "colab": {}
      },
      "source": [
        "\n"
      ],
      "execution_count": 0,
      "outputs": []
    },
    {
      "cell_type": "code",
      "metadata": {
        "id": "Lr5ERPFWcnlw",
        "colab_type": "code",
        "colab": {}
      },
      "source": [
        ""
      ],
      "execution_count": 0,
      "outputs": []
    }
  ]
}