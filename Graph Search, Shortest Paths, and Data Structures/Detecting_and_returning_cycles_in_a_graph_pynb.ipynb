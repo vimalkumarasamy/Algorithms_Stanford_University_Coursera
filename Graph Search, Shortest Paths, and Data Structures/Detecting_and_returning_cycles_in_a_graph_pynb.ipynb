{
  "nbformat": 4,
  "nbformat_minor": 0,
  "metadata": {
    "kernelspec": {
      "name": "python3",
      "display_name": "Python 3"
    },
    "language_info": {
      "codemirror_mode": {
        "name": "ipython",
        "version": 3
      },
      "file_extension": ".py",
      "mimetype": "text/x-python",
      "name": "python",
      "nbconvert_exporter": "python",
      "pygments_lexer": "ipython3",
      "version": "3.7.4"
    },
    "colab": {
      "name": "Detecting and returning cycles in a graph.pynb",
      "provenance": [],
      "collapsed_sections": [],
      "include_colab_link": true
    },
    "accelerator": "GPU"
  },
  "cells": [
    {
      "cell_type": "markdown",
      "metadata": {
        "id": "view-in-github",
        "colab_type": "text"
      },
      "source": [
        "<a href=\"https://colab.research.google.com/github/vimalkumarasamy/Algorithms_Stanford_University_Coursera/blob/master/Graph%20Search%2C%20Shortest%20Paths%2C%20and%20Data%20Structures/Detecting_and_returning_cycles_in_a_graph_pynb.ipynb\" target=\"_parent\"><img src=\"https://colab.research.google.com/assets/colab-badge.svg\" alt=\"Open In Colab\"/></a>"
      ]
    },
    {
      "cell_type": "code",
      "metadata": {
        "id": "ZJN8XqDfcvuk",
        "colab_type": "code",
        "outputId": "9d533f99-76d6-4e51-affe-95445799f076",
        "colab": {
          "base_uri": "https://localhost:8080/",
          "height": 35
        }
      },
      "source": [
        "from google.colab import drive\n",
        "drive.mount('/content/gdrive')"
      ],
      "execution_count": 18,
      "outputs": [
        {
          "output_type": "stream",
          "text": [
            "Drive already mounted at /content/gdrive; to attempt to forcibly remount, call drive.mount(\"/content/gdrive\", force_remount=True).\n"
          ],
          "name": "stdout"
        }
      ]
    },
    {
      "cell_type": "code",
      "metadata": {
        "id": "Tz3SCgbGcnlV",
        "colab_type": "code",
        "colab": {}
      },
      "source": [
        "filename ='gdrive/My Drive/Algorithms/DFS_check_graph.txt'\n",
        "def create_graph(filename):\n",
        "    graph ={}\n",
        "    for f in open(filename):\n",
        "        fields = [int(x) for x in f.split()]\n",
        "        edges.append(tuple(fields))\n",
        "        key = fields[0]\n",
        "        value = fields[1]\n",
        "        if key in graph.keys():\n",
        "            graph[key].append(value)\n",
        "        else:\n",
        "            graph[key]=[value] \n",
        "    return graph\n",
        "graph = create_graph(filename)       "
      ],
      "execution_count": 0,
      "outputs": []
    },
    {
      "cell_type": "code",
      "metadata": {
        "id": "0VaS48VleR4W",
        "colab_type": "code",
        "outputId": "43f47b90-91a9-45d6-fa25-609bae2c1f7b",
        "colab": {
          "base_uri": "https://localhost:8080/",
          "height": 35
        }
      },
      "source": [
        "graph"
      ],
      "execution_count": 86,
      "outputs": [
        {
          "output_type": "execute_result",
          "data": {
            "text/plain": [
              "{1: [5, 2], 2: [4, 3], 3: [4, 5]}"
            ]
          },
          "metadata": {
            "tags": []
          },
          "execution_count": 86
        }
      ]
    },
    {
      "cell_type": "code",
      "metadata": {
        "id": "J2N7zzfieX1g",
        "colab_type": "code",
        "colab": {}
      },
      "source": [
        "# fixing the graph - directional graph\n",
        "graph_raw=graph.copy()\n",
        "for i in graph_raw.keys():\n",
        "  for j in graph[i]:\n",
        "    if j in graph.keys():\n",
        "      if i not in graph[j]:\n",
        "        graph[j]=graph[j]+[i]\n",
        "    else:\n",
        "      graph[j]=[i]"
      ],
      "execution_count": 0,
      "outputs": []
    },
    {
      "cell_type": "code",
      "metadata": {
        "id": "-iD02W-cf8T-",
        "colab_type": "code",
        "outputId": "bccbd1ca-c442-4cd2-f7b6-9ce121e97230",
        "colab": {
          "base_uri": "https://localhost:8080/",
          "height": 35
        }
      },
      "source": [
        "graph"
      ],
      "execution_count": 88,
      "outputs": [
        {
          "output_type": "execute_result",
          "data": {
            "text/plain": [
              "{1: [5, 2], 2: [4, 3, 1], 3: [4, 5, 2], 4: [2, 3], 5: [1, 3]}"
            ]
          },
          "metadata": {
            "tags": []
          },
          "execution_count": 88
        }
      ]
    },
    {
      "cell_type": "code",
      "metadata": {
        "id": "NoNngYf8gEHQ",
        "colab_type": "code",
        "colab": {}
      },
      "source": [
        "# General purpose DFS to find the parent and child linkage\n",
        "# This can help in building DFS tree\n",
        "\n",
        "def dfs_subroutine(graph, start,stack=[]):\n",
        "        if stack==[]:\n",
        "            visited[start] = True\n",
        "            parent[start]=None\n",
        "\n",
        "        stack=stack+[start]\n",
        "        print(stack)\n",
        "        for vertex in graph[start]:\n",
        "            if vertex not in visited.keys():\n",
        "                visited[vertex] = True\n",
        "                parent[vertex]=start\n",
        "                stack=dfs_subroutine(graph,vertex,stack)\n",
        "                print(stack)\n",
        "                break\n",
        "        \n",
        "        return(stack)           "
      ],
      "execution_count": 0,
      "outputs": []
    },
    {
      "cell_type": "code",
      "metadata": {
        "id": "igggeME7cnlg",
        "colab_type": "code",
        "outputId": "b3f36cd2-4654-4b2c-b93e-528494f0bc5f",
        "colab": {
          "base_uri": "https://localhost:8080/",
          "height": 416
        }
      },
      "source": [
        "# Book keeping and initiating DFS routine\n",
        "visited={}\n",
        "max_vertex=max(graph.keys())\n",
        "stack=[]\n",
        "parent={}\n",
        "# for i in range(max_vertex,0,-1):\n",
        "for i in range(1,max_vertex+1):\n",
        "    print(stack)\n",
        "    if i not in visited.keys():\n",
        "        if len(stack)==0:\n",
        "            stack=dfs_subroutine(graph,i,stack)\n",
        "            print(stack)\n",
        "            item=stack.pop()\n",
        "            \n",
        "        while len(stack)>0:\n",
        "            stack=dfs_subroutine(graph,stack.pop(),stack)\n",
        "            print(stack)\n",
        "            item=stack.pop()\n",
        "            \n"
      ],
      "execution_count": 27,
      "outputs": [
        {
          "output_type": "stream",
          "text": [
            "[]\n",
            "[1]\n",
            "[1, 5]\n",
            "[1, 5, 3]\n",
            "[1, 5, 3, 4]\n",
            "[1, 5, 3, 4, 2]\n",
            "[1, 5, 3, 4, 2]\n",
            "[1, 5, 3, 4, 2]\n",
            "[1, 5, 3, 4, 2]\n",
            "[1, 5, 3, 4, 2]\n",
            "[1, 5, 3, 4, 2]\n",
            "[1, 5, 3, 4]\n",
            "[1, 5, 3, 4]\n",
            "[1, 5, 3]\n",
            "[1, 5, 3]\n",
            "[1, 5]\n",
            "[1, 5]\n",
            "[1]\n",
            "[1]\n",
            "[]\n",
            "[]\n",
            "[]\n",
            "[]\n"
          ],
          "name": "stdout"
        }
      ]
    },
    {
      "cell_type": "code",
      "metadata": {
        "id": "Ksf3JLeScnlk",
        "colab_type": "code",
        "outputId": "845e5ad7-7cd5-45e9-a782-e0ce890a54aa",
        "colab": {
          "base_uri": "https://localhost:8080/",
          "height": 35
        }
      },
      "source": [
        "parent"
      ],
      "execution_count": 28,
      "outputs": [
        {
          "output_type": "execute_result",
          "data": {
            "text/plain": [
              "{1: None, 2: 4, 3: 5, 4: 3, 5: 1}"
            ]
          },
          "metadata": {
            "tags": []
          },
          "execution_count": 28
        }
      ]
    },
    {
      "cell_type": "code",
      "metadata": {
        "id": "zLWhk2iI4auS",
        "colab_type": "code",
        "colab": {}
      },
      "source": [
        "# Customizing the above DFS to accomodate finding cycles use case"
      ],
      "execution_count": 0,
      "outputs": []
    },
    {
      "cell_type": "code",
      "metadata": {
        "id": "Sy_Bq2d9cnlr",
        "colab_type": "code",
        "colab": {}
      },
      "source": [
        "# General purpose DFS to find the parent and child linkage\n",
        "# This can help in building DFS tree\n",
        "\n",
        "def dfs_subroutine(graph, start,cycle,stack=[]):\n",
        "  if cycle is True:\n",
        "    return ([],cycle)\n",
        "\n",
        "  if stack==[]:\n",
        "      visited[start] = True\n",
        "      parent[start]=None\n",
        "\n",
        "  stack=stack+[start]\n",
        "  # print(stack)\n",
        "  for vertex in graph[start]:\n",
        "      if vertex in visited.keys() and parent[vertex]!=start and parent[start]!=vertex:\n",
        "        cycle=True\n",
        "        cycle_vertices=[]\n",
        "        head=vertex\n",
        "        tail=start\n",
        "        \n",
        "        cycle_vertices+=[head]\n",
        "        cycle_vertices+=[tail]\n",
        "        while parent[tail]!=head:\n",
        "          # cycle_vertices+=[tail]\n",
        "          tail=parent[tail]\n",
        "          cycle_vertices+=[tail]\n",
        "        print(\"There is a cycle present\")\n",
        "        print(\"The cycle is :\",cycle_vertices)\n",
        "\n",
        "\n",
        "\n",
        "      if vertex not in visited.keys():\n",
        "          visited[vertex] = True\n",
        "          parent[vertex]=start\n",
        "          stack,cycle=dfs_subroutine(graph,vertex,cycle,stack)\n",
        "          # print(stack)\n",
        "          break\n",
        "  \n",
        "  return(stack,cycle)"
      ],
      "execution_count": 0,
      "outputs": []
    },
    {
      "cell_type": "code",
      "metadata": {
        "id": "Lr5ERPFWcnlw",
        "colab_type": "code",
        "colab": {
          "base_uri": "https://localhost:8080/",
          "height": 87
        },
        "outputId": "8f8824f6-2a35-4006-e6ee-2678eb24d906"
      },
      "source": [
        "# Book keeping and initiating DFS routine\n",
        "visited={}\n",
        "max_vertex=max(graph.keys())\n",
        "stack=[]\n",
        "parent={}\n",
        "cycle=False\n",
        "# for i in range(max_vertex,0,-1):\n",
        "for i in range(1,max_vertex+1):\n",
        "    # print(stack)\n",
        "    if i not in visited.keys():\n",
        "        if len(stack)==0:\n",
        "            stack,cycle=dfs_subroutine(graph,i,cycle,stack)\n",
        "            if cycle:\n",
        "              break\n",
        "            # print(stack)\n",
        "            item=stack.pop()\n",
        "            \n",
        "        while len(stack)>0:\n",
        "            stack,cycle=dfs_subroutine(graph,stack.pop(),cycle,stack)\n",
        "            if cycle:\n",
        "              break\n",
        "            # print(stack)\n",
        "            item=stack.pop()"
      ],
      "execution_count": 83,
      "outputs": [
        {
          "output_type": "stream",
          "text": [
            "There is a cycle present\n",
            "The cycle is : [3, 2, 4]\n",
            "There is a cycle present\n",
            "The cycle is : [1, 2, 4, 3, 5]\n"
          ],
          "name": "stdout"
        }
      ]
    },
    {
      "cell_type": "code",
      "metadata": {
        "id": "E2QrknNk2cGu",
        "colab_type": "code",
        "colab": {}
      },
      "source": [
        ""
      ],
      "execution_count": 0,
      "outputs": []
    },
    {
      "cell_type": "code",
      "metadata": {
        "id": "W3dI-fEp7fOE",
        "colab_type": "code",
        "colab": {}
      },
      "source": [
        ""
      ],
      "execution_count": 0,
      "outputs": []
    }
  ]
}