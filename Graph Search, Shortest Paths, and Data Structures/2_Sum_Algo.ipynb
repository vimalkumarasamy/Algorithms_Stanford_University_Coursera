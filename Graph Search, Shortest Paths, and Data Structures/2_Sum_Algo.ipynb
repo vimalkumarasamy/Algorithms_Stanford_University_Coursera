{
  "nbformat": 4,
  "nbformat_minor": 0,
  "metadata": {
    "colab": {
      "name": "2_Sum_Algo.ipynb",
      "provenance": [],
      "authorship_tag": "ABX9TyNxdTda0dXzhLDoPn8J8cCd",
      "include_colab_link": true
    },
    "kernelspec": {
      "name": "python3",
      "display_name": "Python 3"
    },
    "accelerator": "GPU"
  },
  "cells": [
    {
      "cell_type": "markdown",
      "metadata": {
        "id": "view-in-github",
        "colab_type": "text"
      },
      "source": [
        "<a href=\"https://colab.research.google.com/github/vimalkumarasamy/Algorithms_Stanford_University_Coursera/blob/master/Graph%20Search%2C%20Shortest%20Paths%2C%20and%20Data%20Structures/2_Sum_Algo.ipynb\" target=\"_parent\"><img src=\"https://colab.research.google.com/assets/colab-badge.svg\" alt=\"Open In Colab\"/></a>"
      ]
    },
    {
      "cell_type": "code",
      "metadata": {
        "id": "lKz7X6k-dYWw",
        "colab_type": "code",
        "colab": {}
      },
      "source": [
        "# 2 sum algorithm "
      ],
      "execution_count": 0,
      "outputs": []
    },
    {
      "cell_type": "code",
      "metadata": {
        "id": "UbGXV6KQDyrK",
        "colab_type": "code",
        "outputId": "42ddf688-7c6c-42cb-cbfa-a6b8814d01e6",
        "colab": {
          "base_uri": "https://localhost:8080/",
          "height": 124
        }
      },
      "source": [
        "\n",
        "from google.colab import drive\n",
        "drive.mount('/content/gdrive')"
      ],
      "execution_count": 1,
      "outputs": [
        {
          "output_type": "stream",
          "text": [
            "Go to this URL in a browser: https://accounts.google.com/o/oauth2/auth?client_id=947318989803-6bn6qk8qdgf4n4g3pfee6491hc0brc4i.apps.googleusercontent.com&redirect_uri=urn%3aietf%3awg%3aoauth%3a2.0%3aoob&response_type=code&scope=email%20https%3a%2f%2fwww.googleapis.com%2fauth%2fdocs.test%20https%3a%2f%2fwww.googleapis.com%2fauth%2fdrive%20https%3a%2f%2fwww.googleapis.com%2fauth%2fdrive.photos.readonly%20https%3a%2f%2fwww.googleapis.com%2fauth%2fpeopleapi.readonly\n",
            "\n",
            "Enter your authorization code:\n",
            "··········\n",
            "Mounted at /content/gdrive\n"
          ],
          "name": "stdout"
        }
      ]
    },
    {
      "cell_type": "code",
      "metadata": {
        "id": "JOpp2eD5D6wl",
        "colab_type": "code",
        "colab": {}
      },
      "source": [
        "filename ='gdrive/My Drive/Algorithms/algo1-programming_prob-2sum.txt'"
      ],
      "execution_count": 0,
      "outputs": []
    },
    {
      "cell_type": "code",
      "metadata": {
        "id": "LCZwiVktdchz",
        "colab_type": "code",
        "colab": {
          "base_uri": "https://localhost:8080/",
          "height": 35
        },
        "outputId": "dd4a70d3-1be2-4769-eafe-5405130d2971"
      },
      "source": [
        "import sys\n",
        "# filename = \"algo6_2sum.txt\"\n",
        "numbers = [int(l) for l in open(filename)]\n",
        "targets = range(-10000,10001)\n",
        "H = {}\n",
        "answers = {}\n",
        " \n",
        "for i in numbers:\n",
        "  H[i] = True\n",
        " \n",
        "for i in numbers:\n",
        "  for t in targets:\n",
        "    if t - i in H:\n",
        "      if i == t - i:\n",
        "        continue\n",
        "      if t not in answers:\n",
        "        answers[t] = set([tuple(sorted([i, t - i]))])\n",
        "      else:\n",
        "        answers[t].add(tuple(sorted([i, t - i])))\n",
        " \n",
        "print (len(answers))"
      ],
      "execution_count": 3,
      "outputs": [
        {
          "output_type": "stream",
          "text": [
            "427\n"
          ],
          "name": "stdout"
        }
      ]
    },
    {
      "cell_type": "code",
      "metadata": {
        "id": "6zyjHVqudxQ9",
        "colab_type": "code",
        "colab": {}
      },
      "source": [
        ""
      ],
      "execution_count": 0,
      "outputs": []
    }
  ]
}