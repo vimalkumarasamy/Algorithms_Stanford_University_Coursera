{
  "nbformat": 4,
  "nbformat_minor": 0,
  "metadata": {
    "kernelspec": {
      "name": "python3",
      "display_name": "Python 3"
    },
    "language_info": {
      "codemirror_mode": {
        "name": "ipython",
        "version": 3
      },
      "file_extension": ".py",
      "mimetype": "text/x-python",
      "name": "python",
      "nbconvert_exporter": "python",
      "pygments_lexer": "ipython3",
      "version": "3.7.4"
    },
    "colab": {
      "name": "Kosaraju_SCC_from_scratch.ipynb",
      "provenance": [],
      "include_colab_link": true
    },
    "accelerator": "GPU"
  },
  "cells": [
    {
      "cell_type": "markdown",
      "metadata": {
        "id": "view-in-github",
        "colab_type": "text"
      },
      "source": [
        "<a href=\"https://colab.research.google.com/github/vimalkumarasamy/Algorithms_Stanford_University_Coursera/blob/master/Graph%20Search%2C%20Shortest%20Paths%2C%20and%20Data%20Structures/DFS_subroutine.ipynb\" target=\"_parent\"><img src=\"https://colab.research.google.com/assets/colab-badge.svg\" alt=\"Open In Colab\"/></a>"
      ]
    },
    {
      "cell_type": "code",
      "metadata": {
        "id": "ZJN8XqDfcvuk",
        "colab_type": "code",
        "outputId": "f52a70e0-ff39-4025-fea9-f6792aa908f8",
        "colab": {
          "base_uri": "https://localhost:8080/",
          "height": 124
        }
      },
      "source": [
        "from google.colab import drive\n",
        "drive.mount('/content/gdrive')"
      ],
      "execution_count": 1,
      "outputs": [
        {
          "output_type": "stream",
          "text": [
            "Go to this URL in a browser: https://accounts.google.com/o/oauth2/auth?client_id=947318989803-6bn6qk8qdgf4n4g3pfee6491hc0brc4i.apps.googleusercontent.com&redirect_uri=urn%3aietf%3awg%3aoauth%3a2.0%3aoob&response_type=code&scope=email%20https%3a%2f%2fwww.googleapis.com%2fauth%2fdocs.test%20https%3a%2f%2fwww.googleapis.com%2fauth%2fdrive%20https%3a%2f%2fwww.googleapis.com%2fauth%2fdrive.photos.readonly%20https%3a%2f%2fwww.googleapis.com%2fauth%2fpeopleapi.readonly\n",
            "\n",
            "Enter your authorization code:\n",
            "··········\n",
            "Mounted at /content/gdrive\n"
          ],
          "name": "stdout"
        }
      ]
    },
    {
      "cell_type": "code",
      "metadata": {
        "id": "Tz3SCgbGcnlV",
        "colab_type": "code",
        "colab": {}
      },
      "source": [
        "filename ='gdrive/My Drive/Algorithms/DFS_check_graph.txt'\n",
        "def create_graph(filename):\n",
        "    graph ={}\n",
        "    graph_rev={}\n",
        "    edges=[]\n",
        "    for f in open(filename):\n",
        "        fields = [int(x) for x in f.split()]\n",
        "        edges.append(tuple(fields))\n",
        "        key = fields[0]\n",
        "        value = fields[1]\n",
        "        key_rev = fields[1]\n",
        "        value_rev = fields[0]\n",
        "        if key in graph.keys():\n",
        "            graph[key].append(value)\n",
        "        else:\n",
        "            graph[key]=[value]\n",
        "        if key_rev in graph_rev.keys():\n",
        "            graph_rev[key_rev].append(value_rev)\n",
        "        else:\n",
        "            graph_rev[key_rev]=[value_rev] \n",
        "    return graph,graph_rev,edges\n",
        "graph,graph_rev,edges = create_graph(filename)       "
      ],
      "execution_count": 0,
      "outputs": []
    },
    {
      "cell_type": "code",
      "metadata": {
        "id": "0VaS48VleR4W",
        "colab_type": "code",
        "colab": {
          "base_uri": "https://localhost:8080/",
          "height": 35
        },
        "outputId": "8cc89926-c2bf-44b4-c4d0-f424aa1bb4bb"
      },
      "source": [
        "graph"
      ],
      "execution_count": 10,
      "outputs": [
        {
          "output_type": "execute_result",
          "data": {
            "text/plain": [
              "{1: [5, 2], 2: [4, 3, 1], 3: [4, 2], 4: [2, 3], 5: [1]}"
            ]
          },
          "metadata": {
            "tags": []
          },
          "execution_count": 10
        }
      ]
    },
    {
      "cell_type": "code",
      "metadata": {
        "id": "J2N7zzfieX1g",
        "colab_type": "code",
        "colab": {}
      },
      "source": [
        "# fixing the graph - directional graph\n",
        "graph_raw=graph.copy()\n",
        "for i in graph_raw.keys():\n",
        "  for j in graph[i]:\n",
        "    if j in graph.keys():\n",
        "      if i not in graph[j]:\n",
        "        graph[j]=graph[j]+[i]\n",
        "    else:\n",
        "      graph[j]=[i]"
      ],
      "execution_count": 0,
      "outputs": []
    },
    {
      "cell_type": "code",
      "metadata": {
        "id": "I2n1mabScnld",
        "colab_type": "code",
        "colab": {}
      },
      "source": [
        "def dfs_subroutine(reversed_graph, start,stack=[]):\n",
        "        if stack==[]:\n",
        "            visited[start] = True\n",
        "\n",
        "        stack=stack +[start]\n",
        "        \n",
        "        if start not in reversed_graph.keys():\n",
        "            return(stack)\n",
        "        \n",
        "        for vertex in reversed_graph[start]:\n",
        "            if vertex not in visited.keys():\n",
        "                visited[vertex] = True\n",
        "                stack=dfs_subroutine(reversed_graph,vertex,stack)\n",
        "                break\n",
        "#         print(stack)\n",
        "        return(stack)           "
      ],
      "execution_count": 0,
      "outputs": []
    },
    {
      "cell_type": "code",
      "metadata": {
        "id": "igggeME7cnlg",
        "colab_type": "code",
        "outputId": "b8a7928f-16ea-4bb2-e86b-dca57e783850",
        "colab": {
          "base_uri": "https://localhost:8080/",
          "height": 104
        }
      },
      "source": [
        "visited={}\n",
        "time_lapsed={}\n",
        "lapsed=1\n",
        "max_vertex=max(max(graph_rev.keys()),max(graph.keys()))\n",
        "stack=[]\n",
        "for i in range(max_vertex,0,-1):\n",
        "    print(i)\n",
        "    if i not in visited.keys():\n",
        "        if len(stack)==0:\n",
        "            stack=dfs_subroutine(graph_rev,i,stack)\n",
        "            item=stack.pop()\n",
        "            time_lapsed[lapsed]=item\n",
        "            lapsed+=1\n",
        "        while len(stack)>0:\n",
        "            stack=dfs_subroutine(graph_rev,stack.pop(),stack)\n",
        "            item=stack.pop()\n",
        "            time_lapsed[lapsed]=item\n",
        "            lapsed+=1\n"
      ],
      "execution_count": 13,
      "outputs": [
        {
          "output_type": "stream",
          "text": [
            "5\n",
            "4\n",
            "3\n",
            "2\n",
            "1\n"
          ],
          "name": "stdout"
        }
      ]
    },
    {
      "cell_type": "code",
      "metadata": {
        "id": "Ksf3JLeScnlk",
        "colab_type": "code",
        "colab": {}
      },
      "source": [
        "import sys\n",
        "sys.setrecursionlimit(10000)"
      ],
      "execution_count": 0,
      "outputs": []
    },
    {
      "cell_type": "code",
      "metadata": {
        "id": "rUGY2NDHcnln",
        "colab_type": "code",
        "outputId": "21823d76-f77a-48b8-f007-e19498e0e80b",
        "colab": {
          "base_uri": "https://localhost:8080/",
          "height": 35
        }
      },
      "source": [
        "leader = {}\n",
        "visited={}\n",
        "size={}\n",
        "stack=[]\n",
        "for i in range(max_vertex,0,-1):\n",
        "    node=time_lapsed[i]\n",
        "    \n",
        "    if node not in visited.keys():\n",
        "        if len(stack)==0:\n",
        "            stack=dfs_subroutine(graph,node,[])\n",
        "            if node in leader.keys():\n",
        "                leader[node]+=[stack.pop()]\n",
        "            else:\n",
        "                leader[node]=[stack.pop()]\n",
        "        while len(stack)>0:\n",
        "            stack=dfs_subroutine(graph,stack.pop(),stack)\n",
        "            if node in leader.keys():\n",
        "                leader[node]+=[stack.pop()]\n",
        "            else:\n",
        "                leader[node]=[stack.pop()]\n",
        "arr=[]            \n",
        "for i in leader.keys():\n",
        "    arr=arr+[len(leader[i])]\n",
        "arr.sort()\n",
        "print(arr[-5:])\n",
        "\n",
        "    \n",
        "# print(leader)\n",
        "# print(size)\n",
        "        "
      ],
      "execution_count": 0,
      "outputs": [
        {
          "output_type": "stream",
          "text": [
            "[211, 313, 459, 968, 434821]\n"
          ],
          "name": "stdout"
        }
      ]
    },
    {
      "cell_type": "code",
      "metadata": {
        "id": "Sy_Bq2d9cnlr",
        "colab_type": "code",
        "outputId": "2844ca4c-f579-46fb-f479-50a8a328e680",
        "colab": {
          "base_uri": "https://localhost:8080/",
          "height": 35
        }
      },
      "source": [
        "print(arr[-5:])"
      ],
      "execution_count": 0,
      "outputs": [
        {
          "output_type": "stream",
          "text": [
            "[211, 313, 459, 968, 434821]\n"
          ],
          "name": "stdout"
        }
      ]
    },
    {
      "cell_type": "code",
      "metadata": {
        "id": "Lr5ERPFWcnlw",
        "colab_type": "code",
        "colab": {}
      },
      "source": [
        ""
      ],
      "execution_count": 0,
      "outputs": []
    }
  ]
}