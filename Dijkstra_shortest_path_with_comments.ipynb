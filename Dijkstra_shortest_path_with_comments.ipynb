{
  "nbformat": 4,
  "nbformat_minor": 0,
  "metadata": {
    "colab": {
      "name": "Dijkstra_shortest_path_with_comments.ipynb",
      "provenance": [],
      "collapsed_sections": [],
      "authorship_tag": "ABX9TyNX42yI0KBpe87rzRfKaFy4",
      "include_colab_link": true
    },
    "kernelspec": {
      "name": "python3",
      "display_name": "Python 3"
    },
    "accelerator": "GPU"
  },
  "cells": [
    {
      "cell_type": "markdown",
      "metadata": {
        "id": "view-in-github",
        "colab_type": "text"
      },
      "source": [
        "<a href=\"https://colab.research.google.com/github/vimalkumarasamy/Algorithms_Stanford_University_Coursera/blob/master/Dijkstra_shortest_path_with_comments.ipynb\" target=\"_parent\"><img src=\"https://colab.research.google.com/assets/colab-badge.svg\" alt=\"Open In Colab\"/></a>"
      ]
    },
    {
      "cell_type": "code",
      "metadata": {
        "id": "viE_kecEbF1S",
        "colab_type": "code",
        "colab": {}
      },
      "source": [
        "# This notebook is to code up the not very efficient implementation of Dijkstra Shortest Path (not using Heap Data Structure)"
      ],
      "execution_count": 0,
      "outputs": []
    },
    {
      "cell_type": "code",
      "metadata": {
        "id": "E_OzffocbVSQ",
        "colab_type": "code",
        "outputId": "b056ccea-9cb4-4bf9-b1f3-f9eaecd846cb",
        "colab": {
          "base_uri": "https://localhost:8080/",
          "height": 35
        }
      },
      "source": [
        "from google.colab import drive\n",
        "drive.mount('/content/gdrive')"
      ],
      "execution_count": 3,
      "outputs": [
        {
          "output_type": "stream",
          "text": [
            "Drive already mounted at /content/gdrive; to attempt to forcibly remount, call drive.mount(\"/content/gdrive\", force_remount=True).\n"
          ],
          "name": "stdout"
        }
      ]
    },
    {
      "cell_type": "code",
      "metadata": {
        "id": "Ni5tXVWWbfCy",
        "colab_type": "code",
        "colab": {}
      },
      "source": [
        "filename ='gdrive/My Drive/Algorithms/dijkstraData.txt'\n",
        "# filename ='gdrive/My Drive/Algorithms/input_random_12_16.txt'"
      ],
      "execution_count": 0,
      "outputs": []
    },
    {
      "cell_type": "code",
      "metadata": {
        "id": "VpCJymZvblon",
        "colab_type": "code",
        "colab": {}
      },
      "source": [
        "# creating a representation in dictionary for the entire graph\n",
        "graph={}\n",
        "for f in open(filename):\n",
        "  f=f.replace(\"\\n\",\"\")\n",
        "  f=f[:-1]\n",
        "  x=f.split(\"\\t\")\n",
        "  vertices={}\n",
        "  tail=int(x[0])\n",
        "  for items in range(1,len(x)):\n",
        "    next=x[items].split(',')\n",
        "    vertices[int(next[0])]=int(next[1])\n",
        "  graph[tail]=vertices    \n",
        "# graph contains tail as the key, and value is yet another dictionary that contains key as possible vertices where we can go from tail, and key would be the distance"
      ],
      "execution_count": 0,
      "outputs": []
    },
    {
      "cell_type": "code",
      "metadata": {
        "id": "1YX5xvXnbYrK",
        "colab_type": "code",
        "outputId": "c0eaa6ed-cc41-4e33-f140-054a74daa745",
        "colab": {
          "base_uri": "https://localhost:8080/",
          "height": 35
        }
      },
      "source": [
        "# Getting a large number by adding up all the edges\n",
        "max_pos_dist=0\n",
        "for i in graph.keys():\n",
        "  for j in graph[i].keys():\n",
        "    max_pos_dist=max_pos_dist+graph[i][j]\n",
        "\n",
        "max_pos_dist"
      ],
      "execution_count": 6,
      "outputs": [
        {
          "output_type": "execute_result",
          "data": {
            "text/plain": [
              "18834238"
            ]
          },
          "metadata": {
            "tags": []
          },
          "execution_count": 6
        }
      ]
    },
    {
      "cell_type": "code",
      "metadata": {
        "id": "gNJYvumsbsSR",
        "colab_type": "code",
        "colab": {}
      },
      "source": [
        "# this function is to compute the shortest path between 2 vertices in a graph\n",
        "# input graph, source, destination\n",
        "def dijkstra_shortest_path(graph,source,destination):\n",
        "  # iter=0\n",
        "  # searching for a closest neighbor from source, which will give us a list of vertices to search futher\n",
        "  seen={}\n",
        "  dist={}\n",
        "  dist[source]=0\n",
        "  seen[source]=True \n",
        "  vertices=graph[source]\n",
        "  # gives the key with the minimum value in the dictionary vertices\n",
        "  hop=min(vertices, key=vertices.get)\n",
        "  distance=vertices[hop]\n",
        "  seen[hop]=True\n",
        "  dist[hop]=distance\n",
        "\n",
        "  # The below loop will run until we find the source\n",
        "  while hop!=destination:\n",
        "    prospects={}\n",
        "    max_pos_dist=18834238\n",
        "    for items in seen.keys():\n",
        "      for i in graph[items]:\n",
        "        if i not in seen.keys():\n",
        "          initial_dist=dist[items]\n",
        "          final_dist=graph[items][i]\n",
        "          if initial_dist+final_dist<max_pos_dist:\n",
        "            pos_hop=i\n",
        "            pos_dist=initial_dist+final_dist\n",
        "            max_pos_dist=pos_dist\n",
        "    if pos_hop not in seen.keys():\n",
        "      hop=pos_hop\n",
        "      seen[hop]=True\n",
        "      dist[hop]=pos_dist\n",
        "      # print(hop)\n",
        "    else:\n",
        "      # if we run out all vertices that we can get to from the source, then pos_hop would return as the previous value from the previous loop \n",
        "      # Then we can just return the distance from the source to the destination as 10000000 by design\n",
        "      return(1000000)\n",
        "  \n",
        "  # if we have managed to escape the above else case, that means we have found a route from source to destination, we can return the actual distance\n",
        "  return(dist[destination])"
      ],
      "execution_count": 0,
      "outputs": []
    },
    {
      "cell_type": "code",
      "metadata": {
        "id": "Fry4WJQTmkUB",
        "colab_type": "code",
        "outputId": "6687240d-8f77-418a-f9d8-7467af5b881e",
        "colab": {
          "base_uri": "https://localhost:8080/",
          "height": 35
        }
      },
      "source": [
        "solution=[]\n",
        "source=1\n",
        "for q in [7,37,59,82,99,115,133,165,188,197]:\n",
        "  solution=solution+[dijkstra_shortest_path(graph,source,q)]\n",
        "solution\n"
      ],
      "execution_count": 0,
      "outputs": [
        {
          "output_type": "execute_result",
          "data": {
            "text/plain": [
              "[2599, 2610, 2947, 2052, 2367, 2399, 2029, 2442, 2505, 3068]"
            ]
          },
          "metadata": {
            "tags": []
          },
          "execution_count": 28
        }
      ]
    }
  ]
}